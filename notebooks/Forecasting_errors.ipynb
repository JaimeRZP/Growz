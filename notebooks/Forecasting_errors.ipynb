{
 "cells": [
  {
   "cell_type": "markdown",
   "id": "9bedaf4d",
   "metadata": {},
   "source": [
    "# Forcasting errors\n",
    "https://arxiv.org/pdf/1006.0609.pdf"
   ]
  },
  {
   "cell_type": "code",
   "execution_count": 1,
   "id": "19402948",
   "metadata": {},
   "outputs": [],
   "source": [
    "import numpy as np \n",
    "import pyccl as ccl\n",
    "from scipy.interpolate import interp1d\n",
    "from scipy import integrate"
   ]
  },
  {
   "cell_type": "code",
   "execution_count": 2,
   "id": "7fdee75c",
   "metadata": {},
   "outputs": [],
   "source": [
    "c = 299792458.0\n",
    "z = 0.1\n",
    "k_arr = np.linspace(0.001, 1, 100)\n",
    "params = {'h': 0.6727,\n",
    "  'Omega_cdm': 0.265621, #0.237153,\n",
    "  'Omega_b': 0.0494116,\n",
    "  'Omega_Lambda': 0.6834,\n",
    "  'sigma8': 0.812}\n",
    "cosmo = ccl.boltzmann.classy.Class()\n",
    "cosmo.set({'output':'mPk', 'P_k_max_h/Mpc': 20, 'z_max_pk': 1085})\n",
    "cosmo.set(params)\n",
    "cosmo.compute()"
   ]
  },
  {
   "cell_type": "code",
   "execution_count": 3,
   "id": "d30ef414",
   "metadata": {},
   "outputs": [],
   "source": [
    "class Fisher():\n",
    "    def __init__(self, V0, n_gal):\n",
    "        self.V0 = V0\n",
    "        self.n_gal = n_gal\n",
    "        self.sigmaz = 0.001\n",
    "        self.c = 299792458.0\n",
    "        self.z = 0.1\n",
    "        self.z_arr = np.linspace(0.1, 2, 20)\n",
    "        self.k_arr = np.linspace(0.001, 1, 100)\n",
    "        self.params = {'h': 0.6727,\n",
    "          'Omega_cdm': 0.265621, #0.237153,\n",
    "          'Omega_b': 0.0494116,\n",
    "          'Omega_Lambda': 0.6834,\n",
    "          'sigma8': 0.812}\n",
    "        self.cosmo = ccl.boltzmann.classy.Class()\n",
    "        self.cosmo.set({'output':'mPk', 'P_k_max_h/Mpc': 20, 'z_max_pk': 1085})\n",
    "        self.cosmo.set(self.params)\n",
    "        self.cosmo.compute()\n",
    "        self.dchidz = self.get_dchidz()\n",
    "\n",
    "    def get_fisher(self):\n",
    "        parts = {'b': self.get_dlnPdb,\n",
    "                 'f': self.get_dlnPdf,\n",
    "                'a_par': self.get_dlnPda_par,\n",
    "                'a_per': self.get_dlnPda_per}\n",
    "        fisher_mat = {}\n",
    "        for i, part1 in enumerate(parts.keys()):\n",
    "            for j, part2 in enumerate(parts.keys()):\n",
    "                if i <= j:\n",
    "                    print(part1, part2)\n",
    "                    fish_submat = {}\n",
    "                    for ii, z_i in enumerate(self.z_arr):\n",
    "                        for jj, z_j in enumerate(self.z_arr):\n",
    "                            print('z_i =', z_i, 'z_j =', z_j)\n",
    "                            if ii <= jj:\n",
    "                                fisher_mat[part1+part2] = self.get_fisher_ij(parts[part1],\n",
    "                                                                             parts[part2],\n",
    "                                                                             z_i, z_j)\n",
    "        return fisher_mat\n",
    "\n",
    "    def get_fisher_ij(self, part1, part2, z_i, z_j):\n",
    "        #print(self.k_arr[0], self.k_arr[-1])\n",
    "        integrand = self.get_fisher_ij_integrand(part1, part2, z_i, z_j)\n",
    "        return integrate.dblquad(integrand, self.k_arr[0], self.k_arr[-1], -1, 1)[0]\n",
    "    \n",
    "    def get_fisher_ij_integrand(self, part1, part2, z_i, z_j):\n",
    "        #print('u = ', u, 'k = ', k)\n",
    "        AP_params_i = {'b': self.cosmo.sigma(z, 8/self.params['h']),\n",
    "                     'f': self.cosmo.scale_independent_growth_factor_f(z),\n",
    "                     'a_par': self.c/((1+z)*self.cosmo.Hubble(z)),\n",
    "                     'a_per': self.cosmo.angular_distance(z)}\n",
    "        if z_i != z_j:\n",
    "            AP_params_j = {'b': self.cosmo.sigma(z, 8/self.params['h']),\n",
    "                         'f': self.cosmo.scale_independent_growth_factor_f(z),\n",
    "                         'a_par': self.c/((1+z)*self.cosmo.Hubble(z)),\n",
    "                         'a_per': self.cosmo.angular_distance(z)}\n",
    "        else:\n",
    "            AP_params_j = AP_params_i\n",
    "        def integrand(u,k):\n",
    "            AP_params_i['dlnPdlnk'] = self.get_dlnPdlnk(u, AP_params_i)\n",
    "            AP_params_j['dlnPdlnk'] = self.get_dlnPdlnk(u, AP_params_j)\n",
    "            Pgg_i = self.get_Pgg(u, k, AP_params_i)\n",
    "            Pgg_j = self.get_Pgg(u, k, AP_params_i)\n",
    "            Veff = np.sqrt(self.V0*self.n_gal*Pgg_i/(1+self.n_gal*Pgg_i))\n",
    "            Veff *= np.sqrt(self.V0*self.n_gal*Pgg_j/(1+self.n_gal*Pgg_j))\n",
    "            ij = part1(u, k, AP_params_i)*part2(u, k, AP_params_j)*Veff\n",
    "            ij *= np.pi*np.sqrt(1-u**2)/(2*np.pi)**3\n",
    "            ij *= np.exp(-k**2*self.sigmaz*(1+z)*self.dchidz(z))\n",
    "            return ij\n",
    "        return integrand\n",
    "                \n",
    "    def get_Pmm(self, z):\n",
    "        Pk_arr = np.array([self.cosmo.pk(k, z) for k in self.k_arr])\n",
    "        return interp1d(self.k_arr, Pk_arr, kind='cubic')\n",
    "    \n",
    "    def get_Pgg(self, u, k, AP_params):\n",
    "        Pmm = self.get_Pmm(z)\n",
    "        b = AP_params['b']\n",
    "        f = AP_params['f']\n",
    "        a_par = AP_params['a_par']\n",
    "        a_per = AP_params['a_per']\n",
    "        A = a_par/a_per\n",
    "        vol_corr = 1/(a_par*a_per**2)\n",
    "        part1 = (k/a_per)*np.sqrt(1+u**2*(A**-2-1))\n",
    "        part2 = (b+(f*u**2)/(A**2+u**2*(1-A**2)))**2\n",
    "        return vol_corr*Pmm(k)*part1*part2\n",
    "\n",
    "    def get_dchidz(self):\n",
    "        chi = [self.cosmo.comoving_distance(z) for z in self.z_arr]\n",
    "        dchidz = interp1d(self.z_arr, np.diff(chi, prepend=chi[0]),\n",
    "                          kind='cubic')\n",
    "        return dchidz     \n",
    "    \n",
    "    def get_dlnPdlnk(self, u, AP_params):\n",
    "        Pgg_arr = [self.get_Pgg(u, kk, AP_params) for kk in self.k_arr]\n",
    "        ln_Pgg_arr = np.log(Pgg_arr)\n",
    "        return interp1d(self.k_arr,\n",
    "                        np.diff(ln_Pgg_arr, prepend=ln_Pgg_arr[0]),\n",
    "                        kind='cubic')\n",
    "        \n",
    "    def get_dlnPdb(self, u, k, AP_params):\n",
    "        b = AP_params['b']\n",
    "        f = AP_params['f']\n",
    "        return 2/(b+f*u**2)\n",
    "\n",
    "    def get_dlnPdf(self, u, k, AP_params):\n",
    "        b = AP_params['b']\n",
    "        f = AP_params['f']\n",
    "        return 2*u**2/(b+f*u**2)\n",
    "\n",
    "    def get_dlnPda_par(self, u, k, AP_params):\n",
    "        dlnPdlnk = AP_params['dlnPdlnk']\n",
    "        b = AP_params['b']\n",
    "        f = AP_params['f']\n",
    "        dlnPda_par = -1-4*f*u**2*((1-u**2)/(b+f*u**2))\n",
    "        dlnPda_par += -u**2*dlnPdlnk(k)\n",
    "        return dlnPda_par\n",
    "\n",
    "    def get_dlnPda_per(self, u, k, AP_params):\n",
    "        dlnPdlnk = AP_params['dlnPdlnk']\n",
    "        b = AP_params['b']\n",
    "        f = AP_params['f']\n",
    "        dlnPda_per = -2-4*f*u**2*((1-u**2)/(b+f*u**2))\n",
    "        dlnPda_per += -(1-u**2)*dlnPdlnk(k)\n",
    "        return dlnPda_per"
   ]
  },
  {
   "cell_type": "markdown",
   "id": "dce7b3a6",
   "metadata": {},
   "source": [
    "# Testing"
   ]
  },
  {
   "cell_type": "code",
   "execution_count": 4,
   "id": "19ef6a23",
   "metadata": {},
   "outputs": [],
   "source": [
    "fish = Fisher(20000, 1/cosmo.pk(0.2, 0))"
   ]
  },
  {
   "cell_type": "code",
   "execution_count": 5,
   "id": "7220a119",
   "metadata": {},
   "outputs": [
    {
     "name": "stdout",
     "output_type": "stream",
     "text": [
      "b b\n",
      "b f\n",
      "b a_par\n",
      "b a_per\n",
      "f f\n",
      "f a_par\n",
      "f a_per\n",
      "a_par a_par\n",
      "a_par a_per\n",
      "a_per a_per\n"
     ]
    }
   ],
   "source": [
    "fisher_mats = fish.get_fisher()"
   ]
  },
  {
   "cell_type": "code",
   "execution_count": 6,
   "id": "20629f98",
   "metadata": {},
   "outputs": [
    {
     "data": {
      "text/plain": [
       "{'bb': 1.5579552049737632e-18,\n",
       " 'bf': 2.1272475709310798e-19,\n",
       " 'ba_par': -6.316781569082148e-19,\n",
       " 'ba_per': -1.1196541385310144e-18,\n",
       " 'ff': 7.385510744200083e-20,\n",
       " 'fa_par': -1.2295743251637484e-19,\n",
       " 'fa_per': -2.0067209386594928e-19,\n",
       " 'a_para_par': 2.9275913622664433e-19,\n",
       " 'a_para_per': 5.009215676077834e-19,\n",
       " 'a_pera_per': 8.85455993633858e-19}"
      ]
     },
     "execution_count": 6,
     "metadata": {},
     "output_type": "execute_result"
    }
   ],
   "source": [
    "fisher_mats"
   ]
  },
  {
   "cell_type": "code",
   "execution_count": null,
   "id": "cb092f5f",
   "metadata": {},
   "outputs": [],
   "source": []
  }
 ],
 "metadata": {
  "kernelspec": {
   "display_name": "Python 3 (ipykernel)",
   "language": "python",
   "name": "python3"
  },
  "language_info": {
   "codemirror_mode": {
    "name": "ipython",
    "version": 3
   },
   "file_extension": ".py",
   "mimetype": "text/x-python",
   "name": "python",
   "nbconvert_exporter": "python",
   "pygments_lexer": "ipython3",
   "version": "3.9.7"
  }
 },
 "nbformat": 4,
 "nbformat_minor": 5
}

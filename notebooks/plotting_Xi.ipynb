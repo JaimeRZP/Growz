{
 "cells": [
  {
   "cell_type": "code",
   "execution_count": 1,
   "id": "higher-austria",
   "metadata": {
    "ExecuteTime": {
     "end_time": "2021-12-20T11:40:35.868266Z",
     "start_time": "2021-12-20T11:40:33.096689Z"
    }
   },
   "outputs": [
    {
     "name": "stderr",
     "output_type": "stream",
     "text": [
      "WARNING (theano.configdefaults): g++ not detected ! Theano will be unable to execute optimized C-implementations (for both CPU and GPU) and will default to Python implementations. Performance will be severely degraded. To remove this warning, set Theano flags cxx to an empty string.\n",
      "WARNING (theano.tensor.blas): Using NumPy C-API based implementation for BLAS functions.\n"
     ]
    }
   ],
   "source": [
    "import matplotlib.pyplot as plt\n",
    "import numpy as np\n",
    "import pickle\n",
    "import pandas as pd\n",
    "import pymc3 as pm\n",
    "import scipy as sp\n",
    "import pyccl as ccl\n",
    "import os#\n",
    "import utils\n",
    "from make_data import MakeData\n",
    "import getdist\n",
    "from getdist import plots, MCSamples\n",
    "%matplotlib inline"
   ]
  },
  {
   "cell_type": "markdown",
   "id": "foreign-convertible",
   "metadata": {},
   "source": [
    "# Load data"
   ]
  },
  {
   "cell_type": "code",
   "execution_count": 2,
   "id": "utility-monroe",
   "metadata": {
    "ExecuteTime": {
     "end_time": "2021-12-20T11:40:36.949228Z",
     "start_time": "2021-12-20T11:40:35.870032Z"
    }
   },
   "outputs": [
    {
     "name": "stdout",
     "output_type": "stream",
     "text": [
      "Removed no burn in\n"
     ]
    }
   ],
   "source": [
    "names_planck  = ['H0_gp', 'Omega_m', 's80', 'S80']\n",
    "labels_planck = [r'H_0', r'\\Omega_{\\rm{m}}', r'\\sigma_{\\rm{8}}',  r'\\S_{\\rm{8}}']\n",
    "\n",
    "planck1 = np.loadtxt('/home/jaime/Master/PLANCK/Planck_TTTEEE_lowl_lowE/base_plikHM_TTTEEE_lowl_lowE_post_zre6p5_1.txt')\n",
    "planck2 = np.loadtxt('/home/jaime/Master/PLANCK/Planck_TTTEEE_lowl_lowE/base_plikHM_TTTEEE_lowl_lowE_post_zre6p5_2.txt')\n",
    "planck3 = np.loadtxt('/home/jaime/Master/PLANCK/Planck_TTTEEE_lowl_lowE/base_plikHM_TTTEEE_lowl_lowE_post_zre6p5_3.txt')\n",
    "planck4 = np.loadtxt('/home/jaime/Master/PLANCK/Planck_TTTEEE_lowl_lowE/base_plikHM_TTTEEE_lowl_lowE_post_zre6p5_4.txt')\n",
    "\n",
    "planck_tot = np.concatenate((planck1, planck2, planck3, planck4), axis=0)\n",
    "\n",
    "planck_params = []\n",
    "for item in planck_tot:\n",
    "    planck_params.append([item[29], item[31], item[34], item[35]])\n",
    "planck_params = np.array(planck_params)\n",
    "planck_samples = MCSamples(samples=planck_params, names = names_planck, labels = labels_planck, label= r'$Planck$ 2018',\n",
    "                    weights=np.transpose(planck_tot)[0],loglikes=np.transpose(planck_tot)[1])"
   ]
  },
  {
   "cell_type": "code",
   "execution_count": 3,
   "id": "vanilla-jacket",
   "metadata": {
    "ExecuteTime": {
     "end_time": "2021-12-20T11:40:37.255070Z",
     "start_time": "2021-12-20T11:40:36.952460Z"
    }
   },
   "outputs": [
    {
     "name": "stdout",
     "output_type": "stream",
     "text": [
      "Using Planck mean\n",
      "Making new DESI\n",
      "Multiplying error bars by  1\n",
      "Found file for CC\n",
      "Found file for DSS\n",
      "Found file for BOSS\n",
      "Found file for eBOSS\n",
      "Found file for Wigglez\n",
      "Found file for DS17\n",
      "Found file for CMB\n"
     ]
    }
   ],
   "source": [
    "z_max = 1110\n",
    "res = 200\n",
    "x_arr = np.linspace(0, np.log(1+z_max), res)\n",
    "dx = np.mean(np.diff(x_arr))\n",
    "z_arr = np.exp(x_arr)-1\n",
    "a_arr = 1./(1+z_arr)\n",
    "\n",
    "path = '/home/jaime/PhD/Growz/data/products'\n",
    "\n",
    "data_class = MakeData(z_max, res , path)\n",
    "Planck = data_class.Planck\n",
    "z_planck = data_class.z_planck\n",
    "c = data_class.c\n",
    "\n",
    "DESI_data = data_class.get_DESI(new=True, mode=None)\n",
    "WFIRST_data = data_class.get_WFIRST(new=True)\n",
    "CC_data = data_class.get_CC(new=False)\n",
    "DSS_data = data_class.get_DSS(new=False)\n",
    "BOSS_data = data_class.get_BOSS(new=False)\n",
    "eBOSS_data = data_class.get_eBOSS(new=False)\n",
    "Wigglez_data = data_class.get_Wigglez(new=False)\n",
    "DS17_data = data_class.get_DS17(new=False)\n",
    "CMB_data = data_class.get_CMB(new=False)"
   ]
  },
  {
   "cell_type": "code",
   "execution_count": 4,
   "id": "commercial-welcome",
   "metadata": {
    "ExecuteTime": {
     "end_time": "2021-12-20T11:40:37.261485Z",
     "start_time": "2021-12-20T11:40:37.257886Z"
    }
   },
   "outputs": [],
   "source": [
    "def get_m_s(rows):\n",
    "    cols = np.transpose(rows)\n",
    "    means = np.array([])\n",
    "    sigmas = np.array([])\n",
    "    for col in cols:\n",
    "        mean = np.mean(col)\n",
    "        sigma = np.std(col)\n",
    "        means = np.append(means, mean)\n",
    "        sigmas = np.append(sigmas, sigma)\n",
    "    return means, sigmas"
   ]
  },
  {
   "cell_type": "code",
   "execution_count": 8,
   "id": "brazilian-mapping",
   "metadata": {
    "ExecuteTime": {
     "end_time": "2021-12-20T11:40:37.279466Z",
     "start_time": "2021-12-20T11:40:37.262945Z"
    },
    "scrolled": true
   },
   "outputs": [],
   "source": [
    "path = '/home/jaime/PhD/Growz/data/outputs/LCDM/'\n",
    "LCDM = np.load(os.path.join(path,'LCDM_All_CMB_10000_10000/samples.npz'))\n",
    "\n",
    "path = '/home/jaime/PhD/Growz/data/outputs/finals'\n",
    "H = np.load(os.path.join(path, 'All_CMB_Planck_95_2500_2500/samples.npz'))\n",
    "\n",
    "path = '/home/jaime/PhD/Growz/data/outputs/Xi/'\n",
    "Xi_LCDM = np.load(os.path.join(path,'All_CMB_best_fit_Xi_LCDM_3000_5000/samples.npz'))\n",
    "Xi_wCDM = np.load(os.path.join(path,'All_CMB_best_fit_Xi_wCDM_3000_5000/samples.npz'))\n",
    "Xi_P18 = np.load(os.path.join(path,'All_gro_best_fit_Xi_P18_3000_5000/samples.npz'))\n",
    "HXi = np.load(os.path.join(path,'All_CMB_Planck_Xi_H_3000_5000/samples.npz'))\n",
    "DESI_HXi = np.load(os.path.join(path,'DESI_CMB_Planck_Xi_H_3000_5000/samples.npz'))\n",
    "DESI_2X_HXi = np.load(os.path.join(path,'DESI_CMB_X2_Planck_Xi_H_1500_1500/samples.npz'))\n",
    "\n",
    "##Forecast \n",
    "#Desi \n",
    "#Lsst "
   ]
  },
  {
   "cell_type": "markdown",
   "id": "arbitrary-biography",
   "metadata": {},
   "source": [
    "# Tables"
   ]
  },
  {
   "cell_type": "code",
   "execution_count": null,
   "id": "auburn-milwaukee",
   "metadata": {
    "ExecuteTime": {
     "end_time": "2021-12-20T11:40:37.294313Z",
     "start_time": "2021-12-20T11:40:37.281314Z"
    }
   },
   "outputs": [],
   "source": [
    "def table_numbers(samples, sample_names):\n",
    "    no_cosmo = ['Xi best-fit $\\Omega_m$ and $\\sigma_8$']\n",
    "    table = {}\n",
    "    for i, sample in enumerate(samples):\n",
    "        print(sample_names[i])\n",
    "        table[sample_names[i]] = {}\n",
    "        \n",
    "        if ('n_H' in sample.files is not None) or ('n' in sample.files is not None):\n",
    "            if 'n' in sample.files:\n",
    "                n_name = 'n' \n",
    "            else:\n",
    "                n_name = 'n_H'\n",
    "            n = sample[n_name]\n",
    "            n_m = np.mean(n)\n",
    "            n_s = np.std(n)\n",
    "        else:\n",
    "            n_m = 0\n",
    "            n_s = 0\n",
    "        print('n_H', n_m, '+/-', n_s)\n",
    "        table[sample_names[i]]['n_H_m'] = n_m\n",
    "        table[sample_names[i]]['n_H_s'] = n_s\n",
    "        \n",
    "        if 'n_Xi' in sample.files  is not None:\n",
    "            n = sample['n_Xi']\n",
    "            n_m = np.mean(n)\n",
    "            n_s = np.std(n)\n",
    "        else:\n",
    "            n_m = 0\n",
    "            n_s = 0\n",
    "        print('n_Xi', n_m, '+/-', n_s)\n",
    "        table[sample_names[i]]['n_Xi_m'] = n_m\n",
    "        table[sample_names[i]]['n_Xi_s'] = n_s\n",
    "        \n",
    "        if 'H0_gp' in sample.files:\n",
    "            H0 = sample['H0_gp']\n",
    "            H0_m = np.mean(H0)\n",
    "            H0_s = np.std(H0)\n",
    "        else:\n",
    "            H0_m = 0\n",
    "            H0_s = 0\n",
    "        print('H0', H0_m, '+/-', H0_s)\n",
    "        table[sample_names[i]]['H0_m'] = H0_m\n",
    "        table[sample_names[i]]['H0_s'] = H0_s\n",
    "        \n",
    "        if 'S80' in sample.files and sample_names[i] not in no_cosmo:\n",
    "            S80 = sample['S80']\n",
    "            S80_m = np.mean(S80)\n",
    "            S80_s = np.std(S80)\n",
    "        else:\n",
    "            S80_m = 0\n",
    "            S80_s = 0\n",
    "        print('S80', S80_m, '+/-', S80_s)\n",
    "        table[sample_names[i]]['S80_m'] = S80_m\n",
    "        table[sample_names[i]]['S80_s'] = S80_s\n",
    "        \n",
    "        if 's80' in sample.files and sample_names[i] not in no_cosmo:\n",
    "            s80 = sample['s80']\n",
    "            s80_m = np.mean(s80)\n",
    "            s80_s = np.std(s80)\n",
    "        else:\n",
    "            s80_m = 0\n",
    "            s80_s = 0\n",
    "        print('s80', s80_m, '+/-', s80_s)\n",
    "        table[sample_names[i]]['s80_m'] = s80_m\n",
    "        table[sample_names[i]]['s80_s'] = s80_s\n",
    "        \n",
    "        if 'Omega_m' in sample.files and sample_names[i] not in no_cosmo:\n",
    "            Wm = sample['Omega_m']\n",
    "            Wm_m = np.mean(Wm)\n",
    "            Wm_s = np.std(Wm)\n",
    "        else:\n",
    "            Wm_m = 0\n",
    "            Wm_s = 0\n",
    "        print('Wm0', Wm_m, '+/-', Wm_s)\n",
    "        table[sample_names[i]]['Wm_m'] = Wm_m\n",
    "        table[sample_names[i]]['Wm_s'] = Wm_s\n",
    "        print('-----')\n",
    "        \n",
    "        if 'Omega_m_mean' in sample.files and sample_names[i] not in no_cosmo:\n",
    "            Wmm = sample['Omega_m_mean']\n",
    "            Wmm_m = np.mean(Wmm)\n",
    "            Wmm_s = np.std(Wmm)\n",
    "        else:\n",
    "            Wmm_m = 0\n",
    "            Wmm_s = 0\n",
    "        print('Wmm0', Wmm_m, '+/-', Wmm_s)\n",
    "        table[sample_names[i]]['Wmm_m'] = Wmm_m\n",
    "        table[sample_names[i]]['Wmm_s'] = Wmm_s\n",
    "        print('-----')\n",
    "        \n",
    "        if 'w0' in sample.files and sample_names[i] not in no_cosmo:\n",
    "            w0 = sample['w0']\n",
    "            w0_m = np.mean(w0)\n",
    "            w0_s = np.std(w0)\n",
    "        else:\n",
    "            w0_m = 0\n",
    "            w0_s = 0\n",
    "        print('w0', w0_m, '+/-', w0_s)\n",
    "        table[sample_names[i]]['w0_m'] = w0_m\n",
    "        table[sample_names[i]]['w0_s'] = w0_s\n",
    "        print('-----')\n",
    "        \n",
    "        if 'wa' in sample.files and sample_names[i] not in no_cosmo:\n",
    "            wa = sample['wa']\n",
    "            wa_m = np.mean(wa)\n",
    "            wa_s = np.std(wa)\n",
    "        else:\n",
    "            wa_m = 0\n",
    "            wa_s = 0\n",
    "        print('wa', wa_m, '+/-', wa_s)\n",
    "        table[sample_names[i]]['wa_m'] = wa_m\n",
    "        table[sample_names[i]]['wa_s'] = wa_s\n",
    "        print('-----')\n",
    "        \n",
    "        if 'DHz' in sample.files and sample_names[i] != 'Best-fit $\\Lambda$CDM':\n",
    "            varH = np.std(sample['DHz'],0)\n",
    "            varH_m = np.mean(varH)\n",
    "            varH_s = np.std(varH)\n",
    "        else:\n",
    "            varH_m = 0\n",
    "            varH_s = 0\n",
    "        table[sample_names[i]]['varH_m'] = varH_m\n",
    "        table[sample_names[i]]['varH_s'] = varH_s\n",
    "        \n",
    "        if 'DXiz' in sample.files and sample_names[i] != 'Best-fit $\\Lambda$CDM':\n",
    "            varXi = np.std(sample['DXiz'],0)\n",
    "            varXi_m = np.mean(varXi)\n",
    "            varXi_s = np.std(varXi)\n",
    "        else:\n",
    "            varXi_m = 0\n",
    "            varXi_s = 0\n",
    "        table[sample_names[i]]['varXi_m'] = varXi_m\n",
    "        table[sample_names[i]]['varXi_s'] = varXi_s\n",
    "        \n",
    "    return table"
   ]
  },
  {
   "cell_type": "code",
   "execution_count": null,
   "id": "patient-dance",
   "metadata": {
    "ExecuteTime": {
     "end_time": "2021-12-20T11:40:38.066872Z",
     "start_time": "2021-12-20T11:40:37.297178Z"
    }
   },
   "outputs": [],
   "source": [
    "numbers = table_numbers([LCDM,  H,  Xi_bfWms8, Xi, Xi_P18, Xi_LCDM, Xi_wCDM,  HXi_noA0, HXi, DESI_HXi, DESI_2X_HXi],\n",
    "              ['Best-fit $\\Lambda$CDM', '$H_{gp}$', '$\\Xi_{gp}$ best-fit $\\Omega_m$ and $\\sigma_8$', \n",
    "               '$\\Xi_{gp}$',  '$\\Xi_{gp}^{P18}$', '$\\Xi_{gp}$ $\\Lambda$CDM', '$\\Xi_{gp}$ $w$CDM', '$H_{gp}+\\Xi_{gp}$ Hierarchical',\n",
    "              '$H_{gp}+\\Xi_{gp}$', 'DESI $H_{gp}+\\Xi_{gp}$', 'DESI 2X $H_{gp}+\\Xi_{gp}$'])"
   ]
  },
  {
   "cell_type": "code",
   "execution_count": null,
   "id": "finnish-flash",
   "metadata": {
    "ExecuteTime": {
     "end_time": "2021-12-20T11:40:38.521443Z",
     "start_time": "2021-12-20T11:40:38.069663Z"
    }
   },
   "outputs": [],
   "source": [
    "numbers_gro = table_numbers([Xi_LCDM_gro, Xi_wCDM_gro, HXi_gro],\n",
    "              ['$\\Xi_{gp}$ $\\Lambda$CDM - Growth data', '$\\Xi_{gp}$ $w$CDM - Growth data',\n",
    "              '$H_{gp}+\\Xi_{gp}$ - Growth data'])"
   ]
  },
  {
   "cell_type": "code",
   "execution_count": null,
   "id": "instrumental-boston",
   "metadata": {
    "ExecuteTime": {
     "end_time": "2021-12-20T11:40:38.529269Z",
     "start_time": "2021-12-20T11:40:38.523646Z"
    }
   },
   "outputs": [],
   "source": [
    "def make_table(numbers):\n",
    "    names = numbers.keys()\n",
    "    for name in names:\n",
    "        Wm = '${} \\pm {}$'.format(round(numbers[name]['Wm_m'],3), round(numbers[name]['Wm_s'],3))\n",
    "        s80 = '${} \\pm {}$'.format(round(numbers[name]['s80_m'],3), round(numbers[name]['s80_s'],3))\n",
    "        S80 = '${} \\pm {}$'.format(round(numbers[name]['S80_m'],3), round(numbers[name]['S80_s'],3))\n",
    "        H0 = '${} \\pm {}$'.format(round(numbers[name]['H0_m'],3), round(numbers[name]['H0_s'],3))\n",
    "        print(name, '&', Wm, '&',  s80, '&',  S80, '&',  H0, r'\\\\' )"
   ]
  },
  {
   "cell_type": "code",
   "execution_count": null,
   "id": "unable-stand",
   "metadata": {
    "ExecuteTime": {
     "end_time": "2021-12-20T11:40:38.537386Z",
     "start_time": "2021-12-20T11:40:38.531394Z"
    }
   },
   "outputs": [],
   "source": [
    "def make_table2(numbers):\n",
    "    names = numbers.keys()\n",
    "    for name in names:\n",
    "        n_H = '${} \\pm {}$'.format(round(numbers[name]['n_H_m'],3), round(numbers[name]['n_H_s'],3))\n",
    "        n_Xi = '${} \\pm {}$'.format(round(numbers[name]['n_Xi_m'],3), round(numbers[name]['n_Xi_s'],3))\n",
    "        varH = '${} \\pm {}$'.format(round(numbers[name]['varH_m'],3), round(numbers[name]['varH_s'],3))\n",
    "        varXi = '${} \\pm {}$'.format(round(numbers[name]['varXi_m'],3), round(numbers[name]['varXi_s'],3))\n",
    "        print(name, '&', n_H, '&', varH, '&', n_Xi, '&', varXi, r'\\\\' )"
   ]
  },
  {
   "cell_type": "code",
   "execution_count": null,
   "id": "coordinated-nigeria",
   "metadata": {
    "ExecuteTime": {
     "end_time": "2021-12-20T11:40:38.555976Z",
     "start_time": "2021-12-20T11:40:38.539320Z"
    }
   },
   "outputs": [],
   "source": [
    "make_table(numbers)"
   ]
  },
  {
   "cell_type": "code",
   "execution_count": null,
   "id": "ancient-house",
   "metadata": {
    "ExecuteTime": {
     "end_time": "2021-12-20T11:40:38.564267Z",
     "start_time": "2021-12-20T11:40:38.559743Z"
    }
   },
   "outputs": [],
   "source": [
    "make_table(numbers_gro)"
   ]
  },
  {
   "cell_type": "code",
   "execution_count": null,
   "id": "handed-manitoba",
   "metadata": {
    "ExecuteTime": {
     "end_time": "2021-12-20T11:40:38.585931Z",
     "start_time": "2021-12-20T11:40:38.566695Z"
    }
   },
   "outputs": [],
   "source": [
    "make_table2(numbers)"
   ]
  },
  {
   "cell_type": "code",
   "execution_count": null,
   "id": "steady-trash",
   "metadata": {
    "ExecuteTime": {
     "end_time": "2021-12-20T11:40:38.593382Z",
     "start_time": "2021-12-20T11:40:38.587482Z"
    }
   },
   "outputs": [],
   "source": [
    "make_table2(numbers_gro)"
   ]
  },
  {
   "cell_type": "markdown",
   "id": "stupid-highlight",
   "metadata": {},
   "source": [
    "# $\\sigma_\\Xi$ - $\\sigma_H$ Plots"
   ]
  },
  {
   "cell_type": "code",
   "execution_count": null,
   "id": "inside-anger",
   "metadata": {
    "ExecuteTime": {
     "end_time": "2021-12-20T11:40:38.600120Z",
     "start_time": "2021-12-20T11:40:38.597022Z"
    }
   },
   "outputs": [],
   "source": [
    "def make_var_fz(fz):\n",
    "    var = np.std(fz, 0)\n",
    "    var_m = np.mean(var)\n",
    "    var_s = np.std(var)\n",
    "    return var_m, var_s"
   ]
  },
  {
   "cell_type": "code",
   "execution_count": null,
   "id": "joint-amazon",
   "metadata": {
    "ExecuteTime": {
     "end_time": "2021-12-20T11:40:39.646677Z",
     "start_time": "2021-12-20T11:40:38.602552Z"
    }
   },
   "outputs": [],
   "source": [
    "runs = {'$\\Xi_{gp}$': Xi, \n",
    "        '$\\Xi_{gp}^{\\Lambda CDM}$': Xi_LCDM, \n",
    "        '$\\Xi_{gp}^{wCDM}$': Xi_wCDM,\n",
    "        '$H_{gp}+\\Xi_{gp}$ Hierarchical': HXi_noA0,\n",
    "        '$H_{gp}+\\Xi_{gp}$': HXi,\n",
    "        'DESI $H_{gp}+\\Xi_{gp}$': DESI_HXi,\n",
    "        'DESI 2X $H_{gp}+\\Xi_{gp}$': DESI_2X_HXi}\n",
    "fmts = {'$\\Xi_{gp}$': 'c.',\n",
    "        '$\\Xi_{gp}^{\\Lambda CDM}$': 'b.', \n",
    "        '$\\Xi_{gp}^{wCDM}$': 'm.',\n",
    "        '$H_{gp}+\\Xi_{gp}$ Hierarchical': 'k.',\n",
    "        '$H_{gp}+\\Xi_{gp}$': 'r.', \n",
    "        'DESI $H_{gp}+\\Xi_{gp}$': 'g.',\n",
    "        'DESI 2X $H_{gp}+\\Xi_{gp}$': 'b.' }\n",
    "\n",
    "for name in runs.keys():\n",
    "    run = runs[name]\n",
    "    if 'DHz' in run.files:\n",
    "        var_H, var_H_err=make_var_fz(run['DHz'])\n",
    "    else:\n",
    "        var_H, var_H_err=make_var_fz(run['Hz']/data_class.H_arr-1)\n",
    "    var_Xi, var_Xi_err=make_var_fz(run['DXiz'])\n",
    "    plt.errorbar(var_H, var_Xi, xerr=np.transpose(var_H_err), yerr=np.transpose(var_Xi_err),\n",
    "                 fmt=fmts[name], label=name)\n",
    "#plt.xlim([-0.01 , 0.1])\n",
    "#plt.ylim([0.33 , 0.43])\n",
    "plt.legend(loc='lower right', ncol=2)\n",
    "plt.xlabel('$\\sigma_H$')\n",
    "plt.ylabel('$\\sigma_\\Xi$')\n",
    "plt.title('Average variance of $\\Xi(z)$ and $H(z)$ samples across z');"
   ]
  },
  {
   "cell_type": "code",
   "execution_count": null,
   "id": "electronic-intent",
   "metadata": {
    "ExecuteTime": {
     "end_time": "2021-12-20T11:44:06.936110Z",
     "start_time": "2021-12-20T11:44:06.356348Z"
    }
   },
   "outputs": [],
   "source": [
    "runs = {'$H_{gp}+\\Xi_{gp}$': HXi,\n",
    "        '$\\Xi_{gp}^{P18}$': Xi_P18,\n",
    "        '$\\Xi_{gp}^{\\Lambda CDM}$': Xi_LCDM, \n",
    "        '$\\Xi_{gp}^{wCDM}$': Xi_wCDM,\n",
    "        'DESI $H_{gp}+\\Xi_{gp}$': DESI_HXi}\n",
    "fmts = {'$H_{gp}+\\Xi_{gp}$': 'r.', \n",
    "        '$\\Xi_{gp}^{P18}$': 'k.',\n",
    "        '$\\Xi_{gp}^{\\Lambda CDM}$': 'b.', \n",
    "        '$\\Xi_{gp}^{wCDM}$': 'm.',\n",
    "        'DESI $H_{gp}+\\Xi_{gp}$': 'g.',}\n",
    "\n",
    "for name in runs.keys():\n",
    "    run = runs[name]\n",
    "    if 'DHz' in run.files:\n",
    "        var_H, var_H_err=make_var_fz(run['DHz'])\n",
    "    else:\n",
    "        var_H, var_H_err=make_var_fz(run['Hz']/data_class.H_arr-1)\n",
    "    var_Xi, var_Xi_err=make_var_fz(run['DXiz'])\n",
    "    plt.errorbar(var_H, var_Xi, xerr=np.transpose(var_H_err), yerr=np.transpose(var_Xi_err),\n",
    "                 fmt=fmts[name], label=name)\n",
    "#plt.xlim([-0.01 , 0.1])\n",
    "#plt.ylim([0.33 , 0.43])\n",
    "plt.legend(loc='lower right', ncol=2)\n",
    "plt.xlabel('$\\sigma_H$')\n",
    "plt.ylabel('$\\sigma_\\Xi$')\n",
    "plt.title('Average variance of $\\Xi(z)$ and $H(z)$ samples across z');"
   ]
  },
  {
   "cell_type": "code",
   "execution_count": null,
   "id": "affected-sewing",
   "metadata": {
    "ExecuteTime": {
     "end_time": "2021-12-20T11:40:41.702504Z",
     "start_time": "2021-12-20T11:40:40.293452Z"
    }
   },
   "outputs": [],
   "source": [
    "runs = {'$\\Xi_{gp}^{\\Lambda CDM}$ - Growth data': Xi_LCDM_gro, \n",
    "        '$\\Xi_{gp}^{wCDM}$ - Growth data': Xi_wCDM_gro,\n",
    "        '$H_{gp}+\\Xi_{gp}$ - Growth data': HXi_gro}\n",
    "fmts = {'$\\Xi_{gp}^{\\Lambda CDM}$ - Growth data': 'b.', \n",
    "        '$\\Xi_{gp}^{wCDM}$ - Growth data': 'm.',\n",
    "        '$H_{gp}+\\Xi_{gp}$ - Growth data': 'r.'}\n",
    "\n",
    "for name in runs.keys():\n",
    "    run = runs[name]\n",
    "    var_H, var_H_err=make_var_fz(1-run['Hz']/Xi['Hz'][1])\n",
    "    var_Xi, var_Xi_err=make_var_fz(run['DXiz'])\n",
    "    plt.errorbar(var_H, var_Xi, xerr=np.transpose(var_H_err), yerr=np.transpose(var_Xi_err),\n",
    "                 fmt=fmts[name], label=name)\n",
    "#plt.xlim([-0.01 , 0.1])\n",
    "#plt.ylim([0.33 , 0.43])\n",
    "plt.legend(loc='lower right', ncol=2)\n",
    "plt.xlabel('$\\sigma_H$')\n",
    "plt.ylabel('$\\sigma_\\Xi$')\n",
    "plt.title('Average variance of $\\Xi(z)$ and $H(z)$ samples across z');"
   ]
  },
  {
   "cell_type": "markdown",
   "id": "anonymous-candy",
   "metadata": {},
   "source": [
    "# 1D Comp"
   ]
  },
  {
   "cell_type": "code",
   "execution_count": null,
   "id": "fundamental-sterling",
   "metadata": {
    "ExecuteTime": {
     "end_time": "2021-12-20T11:40:42.534596Z",
     "start_time": "2021-12-20T11:40:41.704369Z"
    }
   },
   "outputs": [],
   "source": [
    "fig=plt.figure(figsize=(12,8))\n",
    "fig.subplots_adjust(wspace=0)\n",
    "\n",
    "my_yticks = ['Best-fit $\\Lambda$CDM', '$H_{gp}$', \n",
    "               '$\\Xi_{gp}$', '$\\Xi_{gp}$ $\\Lambda$CDM', '$\\Xi_{gp}$ $w$CDM',\n",
    "             '$H_{gp}+\\Xi_{gp}$ Hierarchical', '$H_{gp}+\\Xi_{gp}$']\n",
    "\n",
    "fmts = {'Best-fit $\\Lambda$CDM': 'k*', \n",
    "        '$H_{gp}$': 'r*', \n",
    "        '$\\Xi_{gp}$': 'g*',\n",
    "        '$\\Xi_{gp}$ $\\Lambda$CDM': 'y*', \n",
    "        '$\\Xi_{gp}$ $w$CDM': 'm*',\n",
    "        '$H_{gp}+\\Xi_{gp}$ Hierarchical': 'b*',\n",
    "        '$H_{gp}+\\Xi_{gp}$': 'r*'}\n",
    "\n",
    "y = {'Best-fit $\\Lambda$CDM': 0, \n",
    "    '$H_{gp}$': 2, \n",
    "    '$\\Xi_{gp}$': 4,\n",
    "    '$\\Xi_{gp}$ $\\Lambda$CDM': 6, \n",
    "    '$\\Xi_{gp}$ $w$CDM': 8,\n",
    "    '$H_{gp}+\\Xi_{gp}$ Hierarchical': 10,\n",
    "    '$H_{gp}+\\Xi_{gp}$': 12}\n",
    "\n",
    "ax1 = plt.subplot(131)\n",
    "label = r'$\\Omega_{\\rm{m}}$'\n",
    "plt.axvspan(0.3166 - 0.0084, 0.3166 + 0.0084, alpha = 0.5, color='b',  label= r'$Planck$ 2018')\n",
    "for name in my_yticks:\n",
    "    Wm=numbers[name]['Wm_m']\n",
    "    Wm_err=numbers[name]['Wm_s']\n",
    "    plt.errorbar( Wm, y[name], xerr=np.transpose(Wm_err), fmt=fmts[name])\n",
    "\n",
    "plt.yticks(list(y.values()), list(y.keys()), fontsize=16)\n",
    "plt.xlabel(label, fontsize=18)\n",
    "plt.axis([0.1, 0.55, y[my_yticks[-1]]+1 ,-1,])\n",
    "plt.yticks(rotation=15)\n",
    "plt.xticks(fontsize=14)\n",
    "\n",
    "    \n",
    "ax2 = plt.subplot(132, sharey = ax1)\n",
    "label = r'$\\sigma_{\\rm{8}}$'\n",
    "plt.axvspan(0.8120 - 0.0073, 0.8120 + 0.0073, alpha = 0.5, color='b',  label= r'$Planck$ 2018')\n",
    "for name in my_yticks:\n",
    "    s8=numbers[name]['s80_m']\n",
    "    s8_err=numbers[name]['s80_s']\n",
    "    plt.errorbar( s8, y[name], xerr=np.transpose(s8_err), fmt=fmts[name])\n",
    "plt.xlabel(label, fontsize=18)\n",
    "plt.legend(loc = 1, prop={'size': 13})\n",
    "plt.axis([0.6, 1.2, y[my_yticks[-1]]+1 ,-1,])\n",
    "plt.setp( ax2.get_yticklabels(), visible=False)\n",
    "plt.xticks(fontsize=14)\n",
    "    \n",
    "ax3 = plt.subplot(133, sharey = ax2)\n",
    "label = r'$S_{\\rm{8}}$'\n",
    "plt.axvspan(0.834 - 0.016, 0.834 + 0.016, alpha = 0.5, color='b',  label= r'$Planck$ 2018')\n",
    "for name in my_yticks:\n",
    "    S8=numbers[name]['S80_m']\n",
    "    S8_err=numbers[name]['S80_s']\n",
    "    plt.errorbar( S8, y[name], xerr=np.transpose(S8_err), fmt=fmts[name])\n",
    "plt.xlabel(label, fontsize=18)\n",
    "#plt.legend(loc = 1, prop={'size': 13})\n",
    "plt.axis([0.6, 1.2, y[my_yticks[-1]]+1 ,-1,])\n",
    "plt.setp( ax3.get_yticklabels(), visible=False)\n",
    "plt.xticks(fontsize=14)\n",
    "\n",
    "os.remove('/mnt/c/Users/Jaime/Desktop/PhD/beyond_gp_figures/1D_comp.pdf')\n",
    "plt.savefig('/mnt/c/Users/Jaime/Desktop/PhD/beyond_gp_figures/1D_comp.pdf')"
   ]
  },
  {
   "cell_type": "markdown",
   "id": "removable-bibliography",
   "metadata": {},
   "source": [
    "# Triangle Plots"
   ]
  },
  {
   "cell_type": "code",
   "execution_count": null,
   "id": "atmospheric-tuesday",
   "metadata": {
    "ExecuteTime": {
     "end_time": "2021-12-20T11:40:42.539567Z",
     "start_time": "2021-12-20T11:40:42.536113Z"
    }
   },
   "outputs": [],
   "source": [
    "labels_dict = {'n': '\\eta_H',\n",
    "               'l': 'l_H',\n",
    "               'A0': 'A0',\n",
    "               'n_H': '\\eta_H',\n",
    "               'l_H': 'l_H',\n",
    "               'n_Xi': '\\eta_{\\Xi}',\n",
    "               'l_Xi': 'l_{\\Xi}',\n",
    "               'mu_0': '\\mu(0)',\n",
    "               'H0': 'H_0',\n",
    "               'H0_gp': 'H_0',\n",
    "               'w0': 'w_0',\n",
    "               'wa': 'w_a',\n",
    "               'Omega_m': '\\Omega_m',\n",
    "               'Omega_m_mean': '\\Omega_m^{mean}',\n",
    "               's80': '\\sigma_8',\n",
    "               'S80': 'S_8',\n",
    "               'rd': 'r_s',\n",
    "               'M': 'M'}\n",
    "names_All = ['n', 'l', 'n_H', 'l_H', 'n_Xi', 'l_Xi',#\n",
    "             'H0', 'H0_gp',  'Omega_m', 'Omega_m', \n",
    "             'Omega_m_mean', 'w0', 'wa', 's80', 'S80', 'M']\n",
    "#ranges = {'l':[0.001, 7], 'omega_b': [0.022, 0.023]}\n",
    "ranges = {'l':[0.001, 7], 'l_Xi':[0.001, 7], 'l_H':[0.001, 7], 'n':[0., 2], 'n_H':[0., 2], 'n_Xi':[0., 2]}"
   ]
  },
  {
   "cell_type": "code",
   "execution_count": null,
   "id": "mathematical-radio",
   "metadata": {
    "ExecuteTime": {
     "end_time": "2021-12-20T11:40:42.562870Z",
     "start_time": "2021-12-20T11:40:42.559266Z"
    }
   },
   "outputs": [],
   "source": [
    "def make_samples(file, names, ranges, label):\n",
    "    namess = []\n",
    "    labels = []\n",
    "    samples = []\n",
    "    for name in names:\n",
    "        if name in file.keys():\n",
    "            namess.append(name) \n",
    "            labels.append(labels_dict[name]) \n",
    "            samples.append(file[name])\n",
    "    if 'Xiz' in file.keys():\n",
    "        namess.append('mu_0')\n",
    "        labels.append(labels_dict['mu_0'])\n",
    "        samples.append(np.transpose(file['Xiz'])[0])\n",
    "    return MCSamples(samples=samples, names=namess, labels=labels, label=label, ranges=ranges,\n",
    "                    settings={'mult_bias_correction_order':0,'smooth_scale_2D':0.4, 'smooth_scale_1D':0.3})"
   ]
  },
  {
   "cell_type": "code",
   "execution_count": null,
   "id": "statewide-thanks",
   "metadata": {
    "ExecuteTime": {
     "end_time": "2021-12-20T11:40:44.032428Z",
     "start_time": "2021-12-20T11:40:42.566799Z"
    }
   },
   "outputs": [],
   "source": [
    "LCDM_samples = make_samples(LCDM, ['H0_gp', 'Omega_m', 's80', 'S80', 'rd', 'M'], ranges, r'$\\Lambda$CDM')\n",
    "H_samples = make_samples(H, ['A0', 'n_H', 'l_H', 'H0_gp', 'Omega_m', 's80', 'S80', 'rd', 'M'], ranges, '$H_{gp}$')\n",
    "Xi_P18_samples = make_samples(Xi_P18, ['n_Xi', 'l_Xi',  'mu_0', 'H0_gp', 'Omega_m', 's80', 'S80'],\n",
    "                          ranges, r'$\\Xi^{P18}_{gp}$')\n",
    "Xi_LCDM_samples = make_samples(Xi_LCDM, ['n_Xi', 'l_Xi', 'mu_0', 'H0_gp', 'Omega_m', 'Omega_m_mean', 's80', 'S80', 'rd', 'M'],\n",
    "                          ranges, r'$\\Xi_{gp}^{\\Lambda CDM}$')\n",
    "Xi_wCDM_samples = make_samples(Xi_wCDM, ['n_Xi', 'l_Xi', 'mu_0', 'H0_gp', 'Omega_m', 'Omega_m_mean', 'w0', 'wa', 's80', 'S80', 'rd', 'M'],\n",
    "                          ranges, r'$\\Xi_{gp}^{wCDM}$')\n",
    "HXi_samples = make_samples(HXi, ['n_H', 'l_H', 'n_Xi', 'l_Xi', 'A0', 'H0_gp', 'Omega_m', 's80', 'S80', 'rd', 'M'],\n",
    "                                ranges, '$H_{gp}+\\Xi_{gp}$')\n",
    "DESI_HXi_samples = make_samples(DESI_HXi, ['n_H', 'l_H', 'n_Xi', 'l_Xi', 'A0', 'H0_gp', 'Omega_m', 's80', 'S80', 'rd'],\n",
    "                                ranges, 'DESI $H_{gp}+\\Xi_{gp}$')\n",
    "DESI_2X_HXi_samples = make_samples(DESI_2X_HXi, ['n_H', 'l_H', 'n_Xi', 'l_Xi', 'A0', 'H0_gp', 'Omega_m', 's80', 'S80', 'rd'],\n",
    "                                ranges, 'DESI 2X $H_{gp}+\\Xi_{gp}$')"
   ]
  },
  {
   "cell_type": "code",
   "execution_count": null,
   "id": "exact-population",
   "metadata": {
    "ExecuteTime": {
     "end_time": "2021-12-20T11:41:12.052559Z",
     "start_time": "2021-12-20T11:40:46.285706Z"
    }
   },
   "outputs": [],
   "source": [
    "g = plots.getSubplotPlotter(subplot_size=2.5)\n",
    "g.triangle_plot([Xi_P18_samples, planck_samples],\n",
    "                filled=True,\n",
    "                markers={'H0':100*data_class.cosmo.h(),\n",
    "                         'Omega_m': data_class.cosmo.Omega_m(),\n",
    "                         'Omega_m_mean': data_class.cosmo.Omega_m(),\n",
    "                         'w0': -1,\n",
    "                         'wa': 0,\n",
    "                         's80': data_class.cosmo.sigma8(), \n",
    "                         'S80': data_class.cosmo.sigma8()*np.sqrt(data_class.cosmo.Omega_m()/0.3),\n",
    "                        'rd':147.06546072,\n",
    "                         'M': -19.2})\n",
    "              \n",
    "g.export('/mnt/c/Users/Jaime/Desktop/PhD/beyond_gp_figures/triangle_Xi_data.pdf')"
   ]
  },
  {
   "cell_type": "code",
   "execution_count": null,
   "id": "ff7fe4f5",
   "metadata": {
    "ExecuteTime": {
     "end_time": "2021-12-20T11:41:12.052559Z",
     "start_time": "2021-12-20T11:40:46.285706Z"
    }
   },
   "outputs": [],
   "source": [
    "g = plots.getSubplotPlotter(subplot_size=2.5)\n",
    "g.triangle_plot([Xi_P18_samples, Xi_LCDM_samples],\n",
    "                filled=True,\n",
    "                markers={'H0':100*data_class.cosmo.h(),\n",
    "                         'Omega_m': data_class.cosmo.Omega_m(),\n",
    "                         'Omega_m_mean': data_class.cosmo.Omega_m(),\n",
    "                         'w0': -1,\n",
    "                         'wa': 0,\n",
    "                         's80': data_class.cosmo.sigma8(), \n",
    "                         'S80': data_class.cosmo.sigma8()*np.sqrt(data_class.cosmo.Omega_m()/0.3),\n",
    "                        'rd':147.06546072,\n",
    "                         'M': -19.2})\n",
    "              \n",
    "g.export('/mnt/c/Users/Jaime/Desktop/PhD/beyond_gp_figures/triangle_Xi_data.pdf')"
   ]
  },
  {
   "cell_type": "code",
   "execution_count": null,
   "id": "111c7023",
   "metadata": {
    "ExecuteTime": {
     "end_time": "2021-12-20T11:41:12.052559Z",
     "start_time": "2021-12-20T11:40:46.285706Z"
    }
   },
   "outputs": [],
   "source": [
    "g = plots.getSubplotPlotter(subplot_size=2.5)\n",
    "g.triangle_plot([Xi_wCDM_samples, Xi_LCDM_samples],\n",
    "                filled=True,\n",
    "                markers={'H0':100*data_class.cosmo.h(),\n",
    "                         'Omega_m': data_class.cosmo.Omega_m(),\n",
    "                         'Omega_m_mean': data_class.cosmo.Omega_m(),\n",
    "                         'w0': -1,\n",
    "                         'wa': 0,\n",
    "                         's80': data_class.cosmo.sigma8(), \n",
    "                         'S80': data_class.cosmo.sigma8()*np.sqrt(data_class.cosmo.Omega_m()/0.3),\n",
    "                        'rd':147.06546072,\n",
    "                         'M': -19.2})\n",
    "              \n",
    "g.export('/mnt/c/Users/Jaime/Desktop/PhD/beyond_gp_figures/triangle_Xi_data.pdf')"
   ]
  },
  {
   "cell_type": "code",
   "execution_count": null,
   "id": "affecting-future",
   "metadata": {
    "ExecuteTime": {
     "end_time": "2021-12-20T11:41:37.447212Z",
     "start_time": "2021-12-20T11:41:12.054449Z"
    }
   },
   "outputs": [],
   "source": [
    "g = plots.getSubplotPlotter(subplot_size=2.5)\n",
    "g.triangle_plot([ HXi_samples, DESI_HXi_samples],\n",
    "                filled=True,\n",
    "                markers={'H0':100*data_class.cosmo.h(),\n",
    "                         'Omega_m': data_class.cosmo.Omega_m(),\n",
    "                         's80': data_class.cosmo.sigma8(), \n",
    "                         'S80': data_class.cosmo.sigma8()*np.sqrt(data_class.cosmo.Omega_m()/0.3),\n",
    "                         'rd':147.06546072,\n",
    "                         'M': -19.2})\n",
    "              \n",
    "g.export('/mnt/c/Users/Jaime/Desktop/PhD/beyond_gp_figures/triangle_Xi_H.pdf')"
   ]
  },
  {
   "cell_type": "code",
   "execution_count": null,
   "id": "original-worcester",
   "metadata": {
    "ExecuteTime": {
     "end_time": "2021-12-20T11:42:03.161842Z",
     "start_time": "2021-12-20T11:41:37.449015Z"
    }
   },
   "outputs": [],
   "source": [
    "g = plots.getSubplotPlotter(subplot_size=2.5)\n",
    "g.triangle_plot([ HXi_samples, DESI_HXi_samples],\n",
    "                filled=True,\n",
    "                markers={'H0':100*data_class.cosmo.h(),\n",
    "                         'Omega_m': data_class.cosmo.Omega_m(),\n",
    "                         's80': data_class.cosmo.sigma8(), \n",
    "                         'S80': data_class.cosmo.sigma8()*np.sqrt(data_class.cosmo.Omega_m()/0.3),\n",
    "                         'rd':147.06546072,\n",
    "                         'M': -19.2})\n",
    "              \n",
    "g.export('/mnt/c/Users/Jaime/Desktop/PhD/beyond_gp_figures/triangle_Xi_H.pdf')"
   ]
  },
  {
   "cell_type": "code",
   "execution_count": null,
   "id": "accredited-syndrome",
   "metadata": {
    "ExecuteTime": {
     "end_time": "2021-12-20T11:42:24.097592Z",
     "start_time": "2021-12-20T11:42:03.163758Z"
    }
   },
   "outputs": [],
   "source": [
    "g = plots.getSubplotPlotter(subplot_size=2.5)\n",
    "g.triangle_plot([DESI_HXi_samples, DESI_2X_HXi_samples],\n",
    "                filled=True,\n",
    "                markers={'H0':100*data_class.cosmo.h(),\n",
    "                         'Omega_m': data_class.cosmo.Omega_m(),\n",
    "                         's80': data_class.cosmo.sigma8(), \n",
    "                         'S80': data_class.cosmo.sigma8()*np.sqrt(data_class.cosmo.Omega_m()/0.3),\n",
    "                         'rd':147.06546072,\n",
    "                         'M': -19.2})\n",
    "              \n",
    "g.export('/mnt/c/Users/Jaime/Desktop/PhD/beyond_gp_figures/triangle_Xi_H.pdf')"
   ]
  },
  {
   "cell_type": "markdown",
   "id": "green-reducing",
   "metadata": {},
   "source": [
    "# Xi"
   ]
  },
  {
   "cell_type": "code",
   "execution_count": null,
   "id": "short-lightning",
   "metadata": {
    "ExecuteTime": {
     "end_time": "2021-12-20T11:42:24.489215Z",
     "start_time": "2021-12-20T11:42:24.099427Z"
    }
   },
   "outputs": [],
   "source": [
    "dXi_Xi_P18_m, dXi_Xi_P18_s = get_m_s(1+Xi_P18['DXiz'])\n",
    "dXi_Xi_LCDM_m, dXi_Xi_LCDM_s = get_m_s(1+Xi_LCDM['DXiz'])\n",
    "dXi_Xi_wCDM_m, dXi_Xi_wCDM_s = get_m_s(1+Xi_wCDM['DXiz'])\n",
    "dXi_HXi_m, dXi_HXi_s = get_m_s(1+HXi['DXiz'])\n",
    "dXi_DESI_HXi_m, dXi_DESI_HXi_s = get_m_s(1+DESI_HXi['DXiz'])"
   ]
  },
  {
   "cell_type": "code",
   "execution_count": null,
   "id": "755cf88b",
   "metadata": {},
   "outputs": [],
   "source": [
    "fig=plt.figure(figsize=(8,16))\n",
    "fig.subplots_adjust(hspace=0)\n",
    "ax1 = plt.subplot(411)\n",
    "\n",
    "plt.plot(z_arr,  dXi_Xi_LCDM_m, color ='g', label='$\\Lambda$CDM')\n",
    "plt.fill_between(z_arr, dXi_Xi_LCDM_m+dXi_Xi_LCDM_s,\n",
    "                 dXi_Xi_LCDM_m-dXi_Xi_LCDM_s, color='g', alpha=.5)\n",
    "\n",
    "plt.plot(z_arr,  dXi_Xi_P18_m, color ='r', label='$P18$')\n",
    "plt.fill_between(z_arr, dXi_Xi_P18_m+dXi_Xi_P18_s,\n",
    "                 dXi_Xi_P18_m-dXi_Xi_P18_s, color='r', alpha=.5)\n",
    "\n",
    "plt.plot(z_planck, np.ones_like(z_planck), 'k--', label='Planck')\n",
    "\n",
    "\n",
    "plt.xscale('log')\n",
    "plt.xlabel(\"z\")\n",
    "plt.ylabel(r\"$ \\mu(z)$\")\n",
    "plt.legend();\n",
    "\n",
    "ax2 = plt.subplot(412, sharex = ax1)\n",
    "plt.plot(z_arr,  dXi_Xi_wCDM_m, color ='b', label='wCDM')\n",
    "plt.fill_between(z_arr, dXi_Xi_wCDM_m+dXi_Xi_wCDM_s,\n",
    "                 dXi_Xi_wCDM_m-dXi_Xi_wCDM_s, color='b', alpha=.5)\n",
    "\n",
    "plt.plot(z_arr,  dXi_Xi_LCDM_m, color ='g', label='$\\Lambda$CDM')\n",
    "plt.fill_between(z_arr, dXi_Xi_LCDM_m+dXi_Xi_LCDM_s,\n",
    "                 dXi_Xi_LCDM_m-dXi_Xi_LCDM_s, color='g', alpha=.5)\n",
    "\n",
    "plt.plot(z_planck, np.ones_like(z_planck), 'k--', label='Planck')\n",
    "\n",
    "plt.xlim(0, 1100)\n",
    "plt.xscale('log')\n",
    "plt.xlabel(\"z\")\n",
    "plt.ylabel(r\"$ \\mu(z)$\")\n",
    "plt.legend();\n",
    "\n",
    "ax3 = plt.subplot(413, sharex = ax1)\n",
    "plt.plot(z_arr,  dXi_HXi_m, color ='m', label='GP')\n",
    "plt.fill_between(z_arr, dXi_HXi_m+dXi_HXi_s,\n",
    "                 dXi_HXi_m-dXi_HXi_s, color='m', alpha=.5)\n",
    "\n",
    "plt.plot(z_arr,  dXi_Xi_LCDM_m, color ='g', label='$\\Lambda$CDM')\n",
    "plt.fill_between(z_arr, dXi_Xi_LCDM_m+dXi_Xi_LCDM_s,\n",
    "                 dXi_Xi_LCDM_m-dXi_Xi_LCDM_s, color='g', alpha=.5)\n",
    "\n",
    "plt.plot(z_planck, np.ones_like(z_planck), 'k--', label='Planck')\n",
    "\n",
    "plt.xlim(0, 1100)\n",
    "plt.xscale('log')\n",
    "plt.xlabel(\"z\")\n",
    "plt.ylabel(r\"$ \\mu(z)$\")\n",
    "plt.legend();\n",
    "\n",
    "ax4 = plt.subplot(414, sharex = ax1)\n",
    "plt.plot(z_arr,  dXi_HXi_m, color ='m', label='GP')\n",
    "plt.fill_between(z_arr, dXi_HXi_m+dXi_HXi_s,\n",
    "                 dXi_HXi_m-dXi_HXi_s, color='m', alpha=.5)\n",
    "\n",
    "plt.plot(z_arr,  dXi_DESI_HXi_m, color ='y', label='DESI GP')\n",
    "plt.fill_between(z_arr, dXi_DESI_HXi_m+dXi_DESI_HXi_s,\n",
    "                 dXi_DESI_HXi_m-dXi_DESI_HXi_s, color='y', alpha=.5)\n",
    "\n",
    "plt.plot(z_planck, np.ones_like(z_planck), 'k--', label='Planck')\n",
    "\n",
    "plt.xlim(0, 1100)\n",
    "plt.xscale('log')\n",
    "plt.xlabel(\"z\")\n",
    "plt.ylabel(r\"$ \\mu(z)$\")\n",
    "plt.legend();\n",
    "\n",
    "plt.xticks(fontsize=14)\n",
    "plt.yticks(fontsize=14);"
   ]
  },
  {
   "cell_type": "markdown",
   "id": "relevant-sharp",
   "metadata": {},
   "source": [
    "# d_H gp "
   ]
  },
  {
   "cell_type": "code",
   "execution_count": null,
   "id": "mexican-character",
   "metadata": {
    "ExecuteTime": {
     "end_time": "2021-12-20T11:42:26.656265Z",
     "start_time": "2021-12-20T11:42:26.539797Z"
    }
   },
   "outputs": [],
   "source": [
    "dH_Xi_P18_m, dH_Xi_P18_s = get_m_s(Xi_P18['Hz']/np.mean(Xi_P18['Hz'],0)-1)\n",
    "dH_Xi_LCDM_m, dH_Xi_LCDM_s = get_m_s(Xi_LCDM['Hz']/np.mean(Xi_LCDM['Hz'],0)-1)\n",
    "dH_Xi_wCDM_m, dH_Xi_wCDM_s = get_m_s(Xi_wCDM['Hz']/np.mean(Xi_wCDM['Hz'],0)-1)\n",
    "dH_HXi_m, dH_HXi_s = get_m_s(HXi['DHz'])\n",
    "dH_DESI_HXi_m, dH_DESI_HXi_s = get_m_s(DESI_HXi['DHz'])"
   ]
  },
  {
   "cell_type": "code",
   "execution_count": null,
   "id": "4a218903",
   "metadata": {},
   "outputs": [],
   "source": [
    "fig=plt.figure(figsize=(8,16))\n",
    "fig.subplots_adjust(hspace=0)\n",
    "ax1 = plt.subplot(411)\n",
    "\n",
    "plt.plot(z_arr,  dH_Xi_LCDM_m, color ='g', label='$\\Lambda$CDM')\n",
    "plt.fill_between(z_arr, dH_Xi_LCDM_m+dH_Xi_LCDM_s,\n",
    "                 dH_Xi_LCDM_m-dH_Xi_LCDM_s, color='g', alpha=.5)\n",
    "\n",
    "plt.plot(z_arr,  dH_Xi_P18_m, color ='r', label='$P18$')\n",
    "plt.fill_between(z_arr, dH_Xi_P18_m+dH_Xi_P18_s,\n",
    "                 dH_Xi_P18_m-dH_Xi_P18_s, color='r', alpha=.5)\n",
    "\n",
    "plt.plot(z_planck, np.zeros_like(z_planck), 'k--', label='Planck')\n",
    "\n",
    "\n",
    "plt.xscale('log')\n",
    "plt.xlabel(\"z\")\n",
    "plt.ylabel(r\"$H(z)$\")\n",
    "plt.legend();\n",
    "\n",
    "ax2 = plt.subplot(412, sharex = ax1)\n",
    "plt.plot(z_arr,  dH_Xi_wCDM_m, color ='b', label='wCDM')\n",
    "plt.fill_between(z_arr, dH_Xi_wCDM_m+dH_Xi_wCDM_s,\n",
    "                 dH_Xi_wCDM_m-dH_Xi_wCDM_s, color='b', alpha=.5)\n",
    "\n",
    "plt.plot(z_arr,  dH_Xi_LCDM_m, color ='g', label='$\\Lambda$CDM')\n",
    "plt.fill_between(z_arr, dH_Xi_LCDM_m+dH_Xi_LCDM_s,\n",
    "                 dH_Xi_LCDM_m-dH_Xi_LCDM_s, color='g', alpha=.5)\n",
    "\n",
    "plt.plot(z_planck, np.zeros_like(z_planck), 'k--', label='Planck')\n",
    "\n",
    "plt.xlim(0, 1100)\n",
    "plt.xscale('log')\n",
    "plt.xlabel(\"z\")\n",
    "plt.ylabel(r\"$H(z)$\")\n",
    "plt.legend();\n",
    "\n",
    "ax3 = plt.subplot(413, sharex = ax1)\n",
    "plt.plot(z_arr,  dH_HXi_m, color ='m', label='GP')\n",
    "plt.fill_between(z_arr, dH_HXi_m+dXi_HXi_s,\n",
    "                 dH_HXi_m-dH_HXi_s, color='m', alpha=.5)\n",
    "\n",
    "plt.plot(z_arr,  dH_Xi_LCDM_m, color ='g', label='$\\Lambda$CDM')\n",
    "plt.fill_between(z_arr, dH_Xi_LCDM_m+dH_Xi_LCDM_s,\n",
    "                 dH_Xi_LCDM_m-dH_Xi_LCDM_s, color='g', alpha=.5)\n",
    "\n",
    "plt.plot(z_planck, np.zeros_like(z_planck), 'k--', label='Planck')\n",
    "\n",
    "plt.xlim(0, 1100)\n",
    "plt.xscale('log')\n",
    "plt.xlabel(\"z\")\n",
    "plt.ylabel(r\"$H(z)$\")\n",
    "plt.legend();\n",
    "\n",
    "ax4 = plt.subplot(414, sharex = ax1)\n",
    "plt.plot(z_arr,  dH_HXi_m, color ='m', label='GP')\n",
    "plt.fill_between(z_arr, dH_HXi_m+dH_HXi_s,\n",
    "                 dH_HXi_m-dH_HXi_s, color='m', alpha=.5)\n",
    "\n",
    "plt.plot(z_arr,  dH_DESI_HXi_m, color ='y', label='DESI GP')\n",
    "plt.fill_between(z_arr, dH_DESI_HXi_m+dH_DESI_HXi_s,\n",
    "                 dH_DESI_HXi_m-dH_DESI_HXi_s, color='y', alpha=.5)\n",
    "\n",
    "plt.plot(z_planck, np.zeros_like(z_planck), 'k--', label='Planck')\n",
    "\n",
    "plt.xlim(0, 1100)\n",
    "plt.xscale('log')\n",
    "plt.xlabel(\"z\")\n",
    "plt.ylabel(r\"$H(z)$\")\n",
    "plt.legend();\n",
    "\n",
    "plt.xticks(fontsize=14)\n",
    "plt.yticks(fontsize=14);"
   ]
  },
  {
   "cell_type": "markdown",
   "id": "developmental-field",
   "metadata": {},
   "source": [
    "# Plots"
   ]
  },
  {
   "cell_type": "code",
   "execution_count": null,
   "id": "higher-significance",
   "metadata": {
    "ExecuteTime": {
     "end_time": "2021-12-20T11:42:28.446823Z",
     "start_time": "2021-12-20T11:42:28.150140Z"
    }
   },
   "outputs": [],
   "source": [
    "H_H_m, H_H_s = get_m_s(H['Hz'])\n",
    "H_Xi_P18_m, H_Xi_P18_s = get_m_s(Xi['Hz'])\n",
    "H_Xi_LCDM_m, H_Xi_LCDM_s = get_m_s(Xi_LCDM['Hz'])\n",
    "H_Xi_wCDM_m, H_Xi_wCDM_s = get_m_s(Xi_wCDM['Hz'])\n",
    "H_HXi_m, H_HXi_s = get_m_s(HXi['Hz'])\n",
    "H_DESI_HXi_m, H_DESI_HXi_s = get_m_s(DESI_HXi['Hz'])"
   ]
  },
  {
   "cell_type": "code",
   "execution_count": null,
   "id": "international-vintage",
   "metadata": {
    "ExecuteTime": {
     "end_time": "2021-12-20T11:42:28.723461Z",
     "start_time": "2021-12-20T11:42:28.448332Z"
    }
   },
   "outputs": [],
   "source": [
    "dM_H_m, dM_H_s = get_m_s(H['dMz'])\n",
    "dM_Xi_m, dM_Xi_s = get_m_s(H['dMz'])\n",
    "dM_Xi_LCDM_m, dM_Xi_LCDM_s = get_m_s(Xi_LCDM['dMz'])\n",
    "dM_Xi_wCDM_m, dM_Xi_wCDM_s = get_m_s(Xi_wCDM['dMz'])\n",
    "dM_HXi_m, dM_HXi_s = get_m_s(HXi['dMz'])\n",
    "dM_DESI_HXi_m, dM_DESI_HXi_s = get_m_s(DESI_HXi['dMz'])"
   ]
  },
  {
   "cell_type": "code",
   "execution_count": null,
   "id": "saving-aircraft",
   "metadata": {
    "ExecuteTime": {
     "end_time": "2021-12-20T11:42:29.363173Z",
     "start_time": "2021-12-20T11:42:28.725041Z"
    }
   },
   "outputs": [],
   "source": [
    "fs8_H_m, fs8_H_s = get_m_s(H['fs8z'])\n",
    "fs8_HXi_m, fs8_HXi_s = get_m_s(HXi['fs8z'])\n",
    "fs8_Xi_P18_m, fs8_Xi_P18_s = get_m_s(Xi_P18['fs8z'])\n",
    "fs8_Xi_LCDM_m, fs8_Xi_LCDM_s = get_m_s(Xi_LCDM['fs8z'])\n",
    "fs8_Xi_wCDM_m, fs8_Xi_wCDM_s = get_m_s(Xi_wCDM['fs8z'])\n",
    "fs8_DESI_HXi_m, fs8_DESI_HXi_s = get_m_s(DESI_HXi['fs8z'])"
   ]
  },
  {
   "cell_type": "code",
   "execution_count": null,
   "id": "ed409fde",
   "metadata": {},
   "outputs": [],
   "source": [
    "fig=plt.figure(figsize=(7,7))\n",
    "fig.subplots_adjust(hspace=0)\n",
    "\n",
    "ax1 = plt.subplot(211)\n",
    "plt.plot(z_planck, Planck['Hkms_arr'], 'k--', label='Planck')\n",
    "plt.errorbar(CC_data['z'], CC_data['data'], yerr = CC_data['err'], fmt='bo')#, label='CC')\n",
    "plt.errorbar(BOSS_data['z'], BOSS_data['para_data'], yerr=BOSS_data['para_err'], fmt='bs')#, label='BOSS DR12')\n",
    "plt.errorbar(eBOSS_data['z'], c/1000/(eBOSS_data['para_data']*eBOSS_data['rd']), \n",
    "             yerr = 1/eBOSS_data['rd']/(np.array([0.47])), fmt='ks')#, label='eBOSS DR16')\n",
    "\n",
    "\n",
    "plt.plot(z_arr,  H_Xi_wCDM_m, color ='b', label='wCDM')\n",
    "plt.fill_between(z_arr, H_Xi_wCDM_m+H_Xi_wCDM_s,\n",
    "                 H_Xi_wCDM_m-H_Xi_wCDM_s, color='b', alpha=.5)\n",
    "plt.plot(z_arr,  H_Xi_LCDM_m, color ='k', label='$\\Lambda$CDM')\n",
    "plt.fill_between(z_arr, H_Xi_LCDM_m+H_Xi_LCDM_s,\n",
    "                 H_Xi_LCDM_m-H_Xi_LCDM_s, color='k', alpha=.5)\n",
    "plt.plot(z_arr,  H_Xi_P18_m, color ='r', label='P18')\n",
    "plt.fill_between(z_arr, H_Xi_P18_m+H_Xi_P18_s, H_Xi_P18_m-H_Xi_P18_s, color='r', alpha=.5)\n",
    "\n",
    "\n",
    "plt.xlim(0, 2.5)\n",
    "plt.ylim(50, 300)\n",
    "plt.xlabel(\"z\")\n",
    "plt.ylabel(r\"$H(z) \\, \\left(\\frac{Kms/s}{Mpc} \\right)$\")\n",
    "plt.xticks(visible=False)\n",
    "plt.legend();\n",
    "\n",
    "#ax2 = plt.subplot(132)\n",
    "#plt.plot(z_planck, Planck['dM_arr'], 'k--', label='Planck')\n",
    "#plt.errorbar(DS17_data['z'], (10**((DS17_data['data']-25+19.49)/5))/(1+DS17_data['z']),\n",
    "#             yerr=(10**(DS17_data['err']/5))/(1+DS17_data['z']), fmt='ko', label='DS17')\n",
    "#plt.errorbar(BOSS_data['z'], BOSS_data['perp_data'], yerr=BOSS_data['perp_err'], fmt='ks', label='BOSS DR12')\n",
    "#plt.errorbar(eBOSS_data['z'], eBOSS_data['perp_data']*eBOSS_data['rd'],\n",
    "#             yerr=np.array([0.79])*eBOSS_data['rd'], fmt='ks', label='eBOSS DR16')\n",
    "#plt.errorbar(CMB_data['z'], (1/CMB_data['data'])*(100*CMB_data['rd']),\n",
    "#\n",
    "#plt.plot(z_arr,  dM_All_CMB_m, color ='r', label='All data')\n",
    "#plt.fill_between(z_arr, dM_All_CMB_m+dM_All_CMB_s, dM_All_CMB_m-dM_All_CMB_s, color='r', alpha=.5)\n",
    "#plt.plot(z_arr,  dM_All_CMB_hp_m, color ='k', label='Fixed HP')\n",
    "#plt.fill_between(z_arr, dM_All_CMB_hp_m+dM_All_CMB_hp_s,\n",
    "#                 dM_All_CMB_hp_m-dM_All_CMB_hp_s, color='k', alpha=.5)\n",
    "#plt.plot(z_arr,  dM_All_CMB_noA0_m, color ='b', label='Hierarchical')\n",
    "#plt.fill_between(z_arr, dM_All_CMB_noA0_m+dM_All_CMB_noA0_s,\n",
    "#                dM_All_CMB_noA0_m-dM_All_CMB_noA0_s, color='b', alpha=.5)\n",
    "\n",
    "#plt.xlabel(\"z\")\n",
    "#plt.xscale('log')\n",
    "#plt.yscale('log')\n",
    "#plt.ylabel(r\"$D_M$\")\n",
    "#plt.title(r\"$D_M \\, (Mpc)$\")\n",
    "#plt.legend();\n",
    "\n",
    "ax3 = plt.subplot(212)\n",
    "plt.plot(z_planck, Planck['fs8_arr'], 'k--', label='Planck')\n",
    "plt.errorbar(BOSS_data['z'], BOSS_data['fs8_data'], yerr=BOSS_data['fs8_err'], fmt='bs')#, label='BOSS DR12')\n",
    "plt.errorbar(eBOSS_data['z'], eBOSS_data['fs8_data'], yerr=eBOSS_data['fs8_err'], fmt='bs')#, label='eBOSS DR16')\n",
    "plt.errorbar(Wigglez_data['z'], Wigglez_data['data'], yerr=Wigglez_data['err'], fmt='bo')#, label='Wigglez')\n",
    "plt.errorbar(DSS_data['z'], DSS_data['data'], yerr=DSS_data['err'], fmt='ko')#, label='DSS')\n",
    "\n",
    "plt.plot(z_arr,  fs8_Xi_wCDM_m, color ='b', label='wCDM')\n",
    "plt.fill_between(z_arr, fs8_Xi_wCDM_m+fs8_Xi_wCDM_s,\n",
    "                 fs8_Xi_wCDM_m-fs8_Xi_wCDM_s, color='b', alpha=.5)\n",
    "plt.plot(z_arr,  fs8_Xi_LCDM_m, color ='k', label='$\\Lambda$CDM')\n",
    "plt.fill_between(z_arr, fs8_Xi_LCDM_m+fs8_Xi_LCDM_s,\n",
    "                 fs8_Xi_LCDM_m-fs8_Xi_LCDM_s, color='k', alpha=.5)\n",
    "plt.plot(z_arr,  fs8_Xi_P18_m, color ='r', label='P18')\n",
    "plt.fill_between(z_arr, fs8_Xi_P18_m+fs8_Xi_P18_s, fs8_Xi_P18_m-fs8_Xi_P18_s, color='r', alpha=.5)\n",
    "\n",
    "\n",
    "\n",
    "plt.xlim(-0.01, 2.5)\n",
    "plt.ylim(0.25, 0.55)\n",
    "plt.xlabel(\"z\")\n",
    "plt.ylabel(r\"$f \\sigma_8$\")\n",
    "plt.legend();\n",
    "\n"
   ]
  },
  {
   "cell_type": "code",
   "execution_count": null,
   "id": "4b1f3967",
   "metadata": {},
   "outputs": [],
   "source": [
    "fig=plt.figure(figsize=(7,7))\n",
    "fig.subplots_adjust(hspace=0)\n",
    "\n",
    "ax1 = plt.subplot(211)\n",
    "plt.plot(z_planck, Planck['Hkms_arr'], 'k--', label='Planck')\n",
    "plt.errorbar(CC_data['z'], CC_data['data'], yerr = CC_data['err'], fmt='bo')#, label='CC')\n",
    "plt.errorbar(BOSS_data['z'], BOSS_data['para_data'], yerr=BOSS_data['para_err'], fmt='bs')#, label='BOSS DR12')\n",
    "plt.errorbar(eBOSS_data['z'], c/1000/(eBOSS_data['para_data']*eBOSS_data['rd']), \n",
    "             yerr = 1/eBOSS_data['rd']/(np.array([0.47])), fmt='ks')#, label='eBOSS DR16')\n",
    "\n",
    "\n",
    "plt.plot(z_arr,  H_HXi_m, color ='m', label='$H_{gp}$')\n",
    "plt.fill_between(z_arr, H_HXi_m+H_HXi_s,\n",
    "                 H_HXi_m-H_HXi_s, color='m', alpha=.5)\n",
    "plt.plot(z_arr,  H_DESI_HXi_m, color ='y', label='DESI $H_{gp}$')\n",
    "plt.fill_between(z_arr, H_DESI_HXi_m+H_DESI_HXi_s,\n",
    "                 H_DESI_HXi_m-H_DESI_HXi_s, color='y', alpha=.5)\n",
    "\n",
    "\n",
    "plt.xlim(0, 2.5)\n",
    "plt.ylim(50, 300)\n",
    "plt.xlabel(\"z\")\n",
    "plt.ylabel(r\"$H(z) \\, \\left(\\frac{Kms/s}{Mpc} \\right)$\")\n",
    "plt.xticks(visible=False)\n",
    "plt.legend();\n",
    "\n",
    "#ax2 = plt.subplot(132)\n",
    "#plt.plot(z_planck, Planck['dM_arr'], 'k--', label='Planck')\n",
    "#plt.errorbar(DS17_data['z'], (10**((DS17_data['data']-25+19.49)/5))/(1+DS17_data['z']),\n",
    "#             yerr=(10**(DS17_data['err']/5))/(1+DS17_data['z']), fmt='ko', label='DS17')\n",
    "#plt.errorbar(BOSS_data['z'], BOSS_data['perp_data'], yerr=BOSS_data['perp_err'], fmt='ks', label='BOSS DR12')\n",
    "#plt.errorbar(eBOSS_data['z'], eBOSS_data['perp_data']*eBOSS_data['rd'],\n",
    "#             yerr=np.array([0.79])*eBOSS_data['rd'], fmt='ks', label='eBOSS DR16')\n",
    "#plt.errorbar(CMB_data['z'], (1/CMB_data['data'])*(100*CMB_data['rd']),\n",
    "#\n",
    "#plt.plot(z_arr,  dM_All_CMB_m, color ='r', label='All data')\n",
    "#plt.fill_between(z_arr, dM_All_CMB_m+dM_All_CMB_s, dM_All_CMB_m-dM_All_CMB_s, color='r', alpha=.5)\n",
    "#plt.plot(z_arr,  dM_All_CMB_hp_m, color ='k', label='Fixed HP')\n",
    "#plt.fill_between(z_arr, dM_All_CMB_hp_m+dM_All_CMB_hp_s,\n",
    "#                 dM_All_CMB_hp_m-dM_All_CMB_hp_s, color='k', alpha=.5)\n",
    "#plt.plot(z_arr,  dM_All_CMB_noA0_m, color ='b', label='Hierarchical')\n",
    "#plt.fill_between(z_arr, dM_All_CMB_noA0_m+dM_All_CMB_noA0_s,\n",
    "#                dM_All_CMB_noA0_m-dM_All_CMB_noA0_s, color='b', alpha=.5)\n",
    "\n",
    "#plt.xlabel(\"z\")\n",
    "#plt.xscale('log')\n",
    "#plt.yscale('log')\n",
    "#plt.ylabel(r\"$D_M$\")\n",
    "#plt.title(r\"$D_M \\, (Mpc)$\")\n",
    "#plt.legend();\n",
    "\n",
    "ax3 = plt.subplot(212)\n",
    "plt.plot(z_planck, Planck['fs8_arr'], 'k--', label='Planck')\n",
    "plt.errorbar(BOSS_data['z'], BOSS_data['fs8_data'], yerr=BOSS_data['fs8_err'], fmt='bs')#, label='BOSS DR12')\n",
    "plt.errorbar(eBOSS_data['z'], eBOSS_data['fs8_data'], yerr=eBOSS_data['fs8_err'], fmt='bs')#, label='eBOSS DR16')\n",
    "plt.errorbar(Wigglez_data['z'], Wigglez_data['data'], yerr=Wigglez_data['err'], fmt='bo')#, label='Wigglez')\n",
    "plt.errorbar(DSS_data['z'], DSS_data['data'], yerr=DSS_data['err'], fmt='ko')#, label='DSS')\n",
    "\n",
    "plt.plot(z_arr,  fs8_HXi_m, color ='m', label='$H_{gp}$')\n",
    "plt.fill_between(z_arr, fs8_HXi_m+fs8_HXi_s,\n",
    "                 fs8_HXi_m-fs8_HXi_s, color='m', alpha=.5)\n",
    "plt.plot(z_arr,  fs8_DESI_HXi_m, color ='y', label='DESI $H_{gp}$')\n",
    "plt.fill_between(z_arr, fs8_DESI_HXi_m+fs8_DESI_HXi_s,\n",
    "                 fs8_DESI_HXi_m-fs8_DESI_HXi_s, color='y', alpha=.5)\n",
    "\n",
    "\n",
    "\n",
    "plt.xlim(-0.01, 2.5)\n",
    "plt.ylim(0.25, 0.55)\n",
    "plt.xlabel(\"z\")\n",
    "plt.ylabel(r\"$f \\sigma_8$\")\n",
    "plt.legend();\n",
    "\n"
   ]
  }
 ],
 "metadata": {
  "kernelspec": {
   "display_name": "Python 3 (ipykernel)",
   "language": "python",
   "name": "python3"
  },
  "language_info": {
   "codemirror_mode": {
    "name": "ipython",
    "version": 3
   },
   "file_extension": ".py",
   "mimetype": "text/x-python",
   "name": "python",
   "nbconvert_exporter": "python",
   "pygments_lexer": "ipython3",
   "version": "3.9.7"
  }
 },
 "nbformat": 4,
 "nbformat_minor": 5
}

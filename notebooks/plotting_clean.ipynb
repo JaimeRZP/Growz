{
 "cells": [
  {
   "cell_type": "code",
   "execution_count": 1,
   "id": "higher-austria",
   "metadata": {
    "ExecuteTime": {
     "end_time": "2021-12-15T09:00:38.978614Z",
     "start_time": "2021-12-15T09:00:36.278005Z"
    }
   },
   "outputs": [
    {
     "name": "stderr",
     "output_type": "stream",
     "text": [
      "WARNING (theano.tensor.blas): Using NumPy C-API based implementation for BLAS functions.\n"
     ]
    }
   ],
   "source": [
    "import matplotlib.pyplot as plt\n",
    "import numpy as np\n",
    "import pickle\n",
    "import pandas as pd\n",
    "import pymc3 as pm\n",
    "import scipy as sp\n",
    "import pyccl as ccl\n",
    "import os\n",
    "import utils\n",
    "from make_data import MakeData\n",
    "import getdist\n",
    "from getdist import plots, MCSamples\n",
    "from os import listdir\n",
    "from os.path import isfile, join\n",
    "import yaml\n",
    "plt.rcParams['xtick.labelsize'] = 14\n",
    "plt.rcParams['ytick.labelsize'] = 14\n",
    "plt.rcParams['axes.labelsize'] = 14\n",
    "plt.rc('legend',fontsize=14)\n",
    "\n",
    "%matplotlib inline"
   ]
  },
  {
   "cell_type": "markdown",
   "id": "foreign-convertible",
   "metadata": {},
   "source": [
    "# Load data"
   ]
  },
  {
   "cell_type": "code",
   "execution_count": 2,
   "id": "utility-monroe",
   "metadata": {
    "ExecuteTime": {
     "end_time": "2021-12-15T09:00:40.076636Z",
     "start_time": "2021-12-15T09:00:38.980447Z"
    }
   },
   "outputs": [
    {
     "name": "stdout",
     "output_type": "stream",
     "text": [
      "Removed no burn in\n"
     ]
    }
   ],
   "source": [
    "names_planck  = ['H0_gp', 'omega_m', 's80', 'S80']\n",
    "labels_planck = [r'H_0', r'\\omega_{\\rm{m}}', r'\\sigma_{\\rm{8}}',  r'\\S_{\\rm{8}}']\n",
    "\n",
    "planck1 = np.loadtxt('/home/jaimerz/Master/PLANCK/Planck_TTTEEE_lowl_lowE/base_plikHM_TTTEEE_lowl_lowE_post_zre6p5_1.txt')\n",
    "planck2 = np.loadtxt('/home/jaimerz/Master/PLANCK/Planck_TTTEEE_lowl_lowE/base_plikHM_TTTEEE_lowl_lowE_post_zre6p5_2.txt')\n",
    "planck3 = np.loadtxt('/home/jaimerz/Master/PLANCK/Planck_TTTEEE_lowl_lowE/base_plikHM_TTTEEE_lowl_lowE_post_zre6p5_3.txt')\n",
    "planck4 = np.loadtxt('/home/jaimerz/Master/PLANCK/Planck_TTTEEE_lowl_lowE/base_plikHM_TTTEEE_lowl_lowE_post_zre6p5_4.txt')\n",
    "\n",
    "planck_tot = np.concatenate((planck1, planck2, planck3, planck4), axis=0)\n",
    "\n",
    "planck_params = []\n",
    "for item in planck_tot:\n",
    "    planck_params.append([item[29], item[32], item[34], item[35]])\n",
    "planck_params = np.array(planck_params)\n",
    "planck_samples = MCSamples(samples=planck_params, names = names_planck, labels = labels_planck, label= r'$Planck$ 2018',\n",
    "                    weights=np.transpose(planck_tot)[0],loglikes=np.transpose(planck_tot)[1])"
   ]
  },
  {
   "cell_type": "code",
   "execution_count": 3,
   "id": "vanilla-jacket",
   "metadata": {
    "ExecuteTime": {
     "end_time": "2021-12-15T09:00:40.375632Z",
     "start_time": "2021-12-15T09:00:40.079883Z"
    }
   },
   "outputs": [
    {
     "name": "stdout",
     "output_type": "stream",
     "text": [
      "Using Planck mean\n"
     ]
    },
    {
     "ename": "NameError",
     "evalue": "name 'classy' is not defined",
     "output_type": "error",
     "traceback": [
      "\u001b[0;31m---------------------------------------------------------------------------\u001b[0m",
      "\u001b[0;31mNameError\u001b[0m                                 Traceback (most recent call last)",
      "\u001b[0;32m<ipython-input-3-3c15a5bb557b>\u001b[0m in \u001b[0;36m<module>\u001b[0;34m\u001b[0m\n\u001b[1;32m      8\u001b[0m \u001b[0mpath\u001b[0m \u001b[0;34m=\u001b[0m \u001b[0;34m'/home/jaimerz/PhD/Growz/data/products/'\u001b[0m\u001b[0;34m\u001b[0m\u001b[0;34m\u001b[0m\u001b[0m\n\u001b[1;32m      9\u001b[0m \u001b[0;34m\u001b[0m\u001b[0m\n\u001b[0;32m---> 10\u001b[0;31m \u001b[0mdata_class\u001b[0m \u001b[0;34m=\u001b[0m \u001b[0mMakeData\u001b[0m\u001b[0;34m(\u001b[0m\u001b[0mz_max\u001b[0m\u001b[0;34m,\u001b[0m \u001b[0mres\u001b[0m \u001b[0;34m,\u001b[0m \u001b[0mpath\u001b[0m\u001b[0;34m)\u001b[0m\u001b[0;34m\u001b[0m\u001b[0;34m\u001b[0m\u001b[0m\n\u001b[0m\u001b[1;32m     11\u001b[0m \u001b[0mPlanck\u001b[0m \u001b[0;34m=\u001b[0m \u001b[0mdata_class\u001b[0m\u001b[0;34m.\u001b[0m\u001b[0mPlanck\u001b[0m\u001b[0;34m\u001b[0m\u001b[0;34m\u001b[0m\u001b[0m\n\u001b[1;32m     12\u001b[0m \u001b[0mz_planck\u001b[0m \u001b[0;34m=\u001b[0m \u001b[0mdata_class\u001b[0m\u001b[0;34m.\u001b[0m\u001b[0mz_planck\u001b[0m\u001b[0;34m\u001b[0m\u001b[0;34m\u001b[0m\u001b[0m\n",
      "\u001b[0;32m~/PhD/Growz/notebooks/make_data.py\u001b[0m in \u001b[0;36m__init__\u001b[0;34m(self, z_max, res, path, cosmo_mode, cosmo_path)\u001b[0m\n\u001b[1;32m     19\u001b[0m         \u001b[0mself\u001b[0m\u001b[0;34m.\u001b[0m\u001b[0mdz\u001b[0m \u001b[0;34m=\u001b[0m \u001b[0mnp\u001b[0m\u001b[0;34m.\u001b[0m\u001b[0mdiff\u001b[0m\u001b[0;34m(\u001b[0m\u001b[0mself\u001b[0m\u001b[0;34m.\u001b[0m\u001b[0mz_arr\u001b[0m\u001b[0;34m)\u001b[0m\u001b[0;34m\u001b[0m\u001b[0;34m\u001b[0m\u001b[0m\n\u001b[1;32m     20\u001b[0m         \u001b[0mself\u001b[0m\u001b[0;34m.\u001b[0m\u001b[0msigma8\u001b[0m \u001b[0;34m=\u001b[0m \u001b[0;32mNone\u001b[0m\u001b[0;34m\u001b[0m\u001b[0;34m\u001b[0m\u001b[0m\n\u001b[0;32m---> 21\u001b[0;31m         \u001b[0mself\u001b[0m\u001b[0;34m.\u001b[0m\u001b[0mcosmo\u001b[0m \u001b[0;34m=\u001b[0m \u001b[0mself\u001b[0m\u001b[0;34m.\u001b[0m\u001b[0mget_cosmo\u001b[0m\u001b[0;34m(\u001b[0m\u001b[0mmode\u001b[0m\u001b[0;34m=\u001b[0m\u001b[0mcosmo_mode\u001b[0m\u001b[0;34m,\u001b[0m \u001b[0mpath\u001b[0m\u001b[0;34m=\u001b[0m\u001b[0mcosmo_path\u001b[0m\u001b[0;34m)\u001b[0m\u001b[0;34m\u001b[0m\u001b[0;34m\u001b[0m\u001b[0m\n\u001b[0m\u001b[1;32m     22\u001b[0m \u001b[0;34m\u001b[0m\u001b[0m\n\u001b[1;32m     23\u001b[0m         \u001b[0;32mif\u001b[0m \u001b[0mself\u001b[0m\u001b[0;34m.\u001b[0m\u001b[0mz_max\u001b[0m \u001b[0;34m>\u001b[0m \u001b[0;36m1085\u001b[0m\u001b[0;34m:\u001b[0m\u001b[0;34m\u001b[0m\u001b[0;34m\u001b[0m\u001b[0m\n",
      "\u001b[0;32m~/PhD/Growz/notebooks/make_data.py\u001b[0m in \u001b[0;36mget_cosmo\u001b[0;34m(self, mode, path)\u001b[0m\n\u001b[1;32m     94\u001b[0m         \u001b[0;32melse\u001b[0m\u001b[0;34m:\u001b[0m\u001b[0;34m\u001b[0m\u001b[0;34m\u001b[0m\u001b[0m\n\u001b[1;32m     95\u001b[0m             \u001b[0mprint\u001b[0m\u001b[0;34m(\u001b[0m\u001b[0;34m'Not recognized option'\u001b[0m\u001b[0;34m)\u001b[0m\u001b[0;34m\u001b[0m\u001b[0;34m\u001b[0m\u001b[0m\n\u001b[0;32m---> 96\u001b[0;31m         \u001b[0mcosmo\u001b[0m \u001b[0;34m=\u001b[0m \u001b[0mclassy\u001b[0m\u001b[0;34m.\u001b[0m\u001b[0mClass\u001b[0m\u001b[0;34m(\u001b[0m\u001b[0;34m)\u001b[0m\u001b[0;34m\u001b[0m\u001b[0;34m\u001b[0m\u001b[0m\n\u001b[0m\u001b[1;32m     97\u001b[0m         \u001b[0mcosmo\u001b[0m\u001b[0;34m.\u001b[0m\u001b[0mset\u001b[0m\u001b[0;34m(\u001b[0m\u001b[0;34m{\u001b[0m \u001b[0;34m'output'\u001b[0m\u001b[0;34m:\u001b[0m\u001b[0;34m'mPk'\u001b[0m\u001b[0;34m,\u001b[0m \u001b[0;34m'P_k_max_h/Mpc'\u001b[0m\u001b[0;34m:\u001b[0m \u001b[0;36m20\u001b[0m\u001b[0;34m,\u001b[0m \u001b[0;34m'z_max_pk'\u001b[0m\u001b[0;34m:\u001b[0m \u001b[0;36m1085\u001b[0m\u001b[0;34m}\u001b[0m\u001b[0;34m)\u001b[0m\u001b[0;34m\u001b[0m\u001b[0;34m\u001b[0m\u001b[0m\n\u001b[1;32m     98\u001b[0m         \u001b[0mcosmo\u001b[0m\u001b[0;34m.\u001b[0m\u001b[0mset\u001b[0m\u001b[0;34m(\u001b[0m\u001b[0mparams\u001b[0m\u001b[0;34m)\u001b[0m\u001b[0;34m\u001b[0m\u001b[0;34m\u001b[0m\u001b[0m\n",
      "\u001b[0;31mNameError\u001b[0m: name 'classy' is not defined"
     ]
    }
   ],
   "source": [
    "z_max = 1110\n",
    "res = 200\n",
    "x_arr = np.linspace(0, np.log(1+z_max), res)\n",
    "dx = np.mean(np.diff(x_arr))\n",
    "z_arr = np.exp(x_arr)-1\n",
    "a_arr = 1./(1+z_arr)\n",
    "\n",
    "path = '/home/jaimerz/PhD/Growz/data/products/'\n",
    "\n",
    "data_class = MakeData(z_max, res , path)\n",
    "Planck = data_class.Planck\n",
    "z_planck = data_class.z_planck\n",
    "c = data_class.c\n",
    "\n",
    "DESI_data = data_class.get_DESI(new=True, mode=None)\n",
    "WFIRST_data = data_class.get_WFIRST(new=False)\n",
    "CC_data = data_class.get_CC(new=False)\n",
    "DSS_data = data_class.get_DSS(new=False)\n",
    "BOSS_data = data_class.get_BOSS(new=False)\n",
    "eBOSS_data = data_class.get_eBOSS(new=False)\n",
    "Wigglez_data = data_class.get_Wigglez(new=False)\n",
    "DS17_data = data_class.get_DS17(new=False)\n",
    "CMB_data = data_class.get_CMB(new=False)\n",
    "FCMB_data = data_class.get_FCMB(new=False)"
   ]
  },
  {
   "cell_type": "code",
   "execution_count": null,
   "id": "korean-image",
   "metadata": {
    "ExecuteTime": {
     "end_time": "2021-12-15T09:00:40.378951Z",
     "start_time": "2021-12-15T09:00:36.280Z"
    }
   },
   "outputs": [],
   "source": [
    "fig=plt.figure(figsize=(18,3.5))\n",
    "fig.subplots_adjust(wspace=0.23)\n",
    "\n",
    "ax1 = plt.subplot(131)\n",
    "plt.plot(z_planck, Planck['Hkms_arr'], \"k--\", label='Planck')\n",
    "plt.errorbar(CC_data['z'], CC_data['data'], yerr = CC_data['err'], fmt='bo', label='CC')\n",
    "plt.errorbar(BOSS_data['z'], BOSS_data['para_data'], yerr=BOSS_data['para_err'], fmt='ro', label='BOSS DR12')\n",
    "plt.errorbar(eBOSS_data['z'], c/1000/(eBOSS_data['para_data']*eBOSS_data['rd']), \n",
    "             yerr = 1/eBOSS_data['rd']/(np.array([0.47])), fmt='mo', label='eBOSS DR16')\n",
    "# axis labels and title\n",
    "plt.xlim(0, 2.5)\n",
    "plt.ylim(50, 300)\n",
    "plt.xlabel(\"z\")\n",
    "plt.ylabel(r\"$H(z) \\, \\left(\\frac{Kms/s}{Mpc} \\right)$\")\n",
    "plt.legend();\n",
    "\n",
    "ax1 = plt.subplot(132)\n",
    "plt.plot(z_planck, Planck['dM_arr'], \"k--\", label='Planck')\n",
    "plt.errorbar(DS17_data['z'], (10**((DS17_data['data']-25+19.4)/5))/(1+DS17_data['z']),\n",
    "             yerr=(10**(DS17_data['err']/5))/(1+DS17_data['z']), fmt='co', label='DS17')\n",
    "plt.errorbar(BOSS_data['z'], BOSS_data['perp_data'], yerr=BOSS_data['perp_err'], fmt='ro', label='BOSS DR12')\n",
    "plt.errorbar(eBOSS_data['z'], eBOSS_data['perp_data']*eBOSS_data['rd'], \n",
    "             yerr=np.array([0.79])*eBOSS_data['rd'], fmt='mo', label='eBOSS DR16')\n",
    "plt.errorbar(CMB_data['z'], (1/CMB_data['data'])*(100*CMB_data['rd']), \n",
    "             yerr=(1/CMB_data['err'])*1/(100*CMB_data['rd']), fmt='go', label='CMB')\n",
    "\n",
    "plt.xlabel(\"z\")\n",
    "plt.ylabel(r\"$D_M$\")\n",
    "plt.loglog()\n",
    "plt.ylabel(r\"$D_M \\, (Mpc)$\")\n",
    "plt.legend();\n",
    "\n",
    "ax1 = plt.subplot(133)\n",
    "plt.plot(z_planck, Planck['f_arr']*Planck['s8_arr'], \"k--\", label='Planck')\n",
    "plt.errorbar(BOSS_data['z'], BOSS_data['fs8_data'], yerr=BOSS_data['fs8_err'], fmt='ro', label='BOSS DR12')\n",
    "plt.errorbar(eBOSS_data['z'], eBOSS_data['fs8_data'], yerr=eBOSS_data['fs8_err'], fmt='mo', label='eBOSS DR16')\n",
    "plt.errorbar(Wigglez_data['z'], Wigglez_data['data'], yerr=Wigglez_data['err'], fmt='yo', label='Wigglez')\n",
    "plt.errorbar(DSS_data['z'], DSS_data['data'], yerr=DSS_data['err'], fmt='go', label='DSS')\n",
    "\n",
    "plt.xlim(-0.05, 2.5)\n",
    "plt.ylim(0.3, 0.6)\n",
    "plt.xlabel(\"z\")\n",
    "plt.ylabel(r\"$f \\sigma_8$\")\n",
    "plt.legend();\n",
    "\n",
    "os.remove('/mnt/c/Users/Jaime/Desktop/PhD/gp_figures/data.pdf')\n",
    "plt.savefig('/mnt/c/Users/Jaime/Desktop/PhD/gp_figures/data.pdf', bbox_inches='tight', pad_inches=0)\n"
   ]
  },
  {
   "cell_type": "code",
   "execution_count": null,
   "id": "commercial-welcome",
   "metadata": {
    "ExecuteTime": {
     "end_time": "2021-12-15T09:00:40.379713Z",
     "start_time": "2021-12-15T09:00:36.281Z"
    }
   },
   "outputs": [],
   "source": [
    "def get_m_s(rows):\n",
    "    cols = np.transpose(rows)\n",
    "    means = np.array([])\n",
    "    sigmas = np.array([])\n",
    "    for col in cols:\n",
    "        mean = np.mean(col)\n",
    "        sigma = np.std(col)\n",
    "        means = np.append(means, mean)\n",
    "        sigmas = np.append(sigmas, sigma)\n",
    "    return means, sigmas"
   ]
  },
  {
   "cell_type": "code",
   "execution_count": null,
   "id": "exotic-truth",
   "metadata": {
    "ExecuteTime": {
     "end_time": "2021-12-15T09:00:40.380378Z",
     "start_time": "2021-12-15T09:00:36.282Z"
    }
   },
   "outputs": [],
   "source": [
    "#LCDM \n",
    "path = '/home/jaimerz/PhD/Growz/data/outputs/LCDM/'\n",
    "fiducial_LCDM = np.load(os.path.join(path,'LCDM_All_CMB_10000_10000/samples.npz'))\n",
    "DESI_LCDM = np.load(os.path.join(path,'LCDM_DESI_CMB_10000_10000/samples.npz'))\n",
    "\n",
    "path = '/home/jaimerz/PhD/Growz/data/outputs/finals/'\n",
    "All_CMB = np.load(os.path.join(path, 'All_CMB_Planck_95_2500_2500/samples.npz'))\n",
    "All_CMB_90 = np.load(os.path.join(path, 'All_CMB_Planck_90_2500_2500/samples.npz'))\n",
    "All_CMB_hp = np.load(os.path.join(path,'All_CMB_Planck_l_0.001_n_0.1_3000_3000/samples.npz'))\n",
    "All_CMB_noA0 = np.load(os.path.join(path, 'All_CMB_best_fit_noA0_3000_3000/samples.npz'))\n",
    "All_CMB_NODSS = np.load(os.path.join(path, 'All_CMB_NODSS_Planck_5000_5000/samples.npz'))\n",
    "All_CMB_bfWms8 = np.load(os.path.join(path, 'All_CMB_Planck_bfWms8_3000_3000/samples.npz'))\n",
    "All_CMB_geo = np.load(os.path.join(path,'All_CMB_geo_Planck_5000_5000/samples.npz'))\n",
    "All = np.load(os.path.join(path,'All_Planck_3000_3000/samples.npz'))\n",
    "All_gro = np.load(os.path.join(path,'All_gro_Planck_A0_50000_50000/samples.npz'))\n",
    "All_gro_wide = np.load(os.path.join(path,'All_gro_Planck_n_0.5_2500_2500/samples.npz'))\n",
    "All_gro_wider = np.load(os.path.join(path,'All_gro_Planck_n_0.51_2500_2500/samples.npz'))\n",
    "All_gro_widest = np.load(os.path.join(path,'All_gro_Planck_n_1_2500_2500/samples.npz'))\n",
    "All_gro_diff_mean = np.load(os.path.join(path,'All_gro_Planckdiff_mean_n_0.5_2500_2500/samples.npz'))\n",
    "DESI_CMB = np.load(os.path.join(path, 'DESI_CMB_Planck_3001_3001/samples.npz'))"
   ]
  },
  {
   "cell_type": "markdown",
   "id": "formed-rescue",
   "metadata": {},
   "source": [
    "# Numbers"
   ]
  },
  {
   "cell_type": "code",
   "execution_count": null,
   "id": "accepted-visit",
   "metadata": {
    "ExecuteTime": {
     "end_time": "2021-12-15T09:00:40.381235Z",
     "start_time": "2021-12-15T09:00:36.284Z"
    }
   },
   "outputs": [],
   "source": [
    "def table_numbers(samples, sample_names):\n",
    "    no_cosmo = ['Geometry data', 'All data (BF $\\Omega_m$ and $\\sigma_8$)']\n",
    "    no_dHz = ['All data ($\\Lambda$CDM)', 'DESI $+$ CMB ($\\Lambda$CDM)']\n",
    "    table = {}\n",
    "    for i, sample in enumerate(samples):\n",
    "        print(sample_names[i])\n",
    "        table[sample_names[i]] = {}\n",
    "        \n",
    "        if 'n' in sample.files  is not None:\n",
    "            n = sample['n']\n",
    "            n_m = np.mean(n)\n",
    "            n_s = np.std(n)\n",
    "        else:\n",
    "            n_m = 0\n",
    "            n_s = 0\n",
    "        print('n', n_m, '+/-', n_s)\n",
    "        table[sample_names[i]]['n_m'] = n_m\n",
    "        table[sample_names[i]]['n_s'] = n_s\n",
    "        \n",
    "        if 'H0_gp' in sample.files:\n",
    "            H0 = sample['H0_gp']\n",
    "            H0_m = np.mean(H0)\n",
    "            H0_s = np.std(H0)\n",
    "        else:\n",
    "            H0_m = 0\n",
    "            H0_s = 0\n",
    "        print('H0', H0_m, '+/-', H0_s)\n",
    "        table[sample_names[i]]['H0_m'] = H0_m\n",
    "        table[sample_names[i]]['H0_s'] = H0_s\n",
    "        \n",
    "        if 'S80' in sample.files and sample_names[i] not in no_cosmo:\n",
    "            S80 = sample['S80']\n",
    "            S80_m = np.mean(S80)\n",
    "            S80_s = np.std(S80)\n",
    "        else:\n",
    "            S80_m = 0\n",
    "            S80_s = 0\n",
    "        print('S80', S80_m, '+/-', S80_s)\n",
    "        table[sample_names[i]]['S80_m'] = S80_m\n",
    "        table[sample_names[i]]['S80_s'] = S80_s\n",
    "        \n",
    "        if 's80' in sample.files and sample_names[i] not in no_cosmo:\n",
    "            s80 = sample['s80']\n",
    "            s80_m = np.mean(s80)\n",
    "            s80_s = np.std(s80)\n",
    "        else:\n",
    "            s80_m = 0\n",
    "            s80_s = 0\n",
    "        print('s80', s80_m, '+/-', s80_s)\n",
    "        table[sample_names[i]]['s80_m'] = s80_m\n",
    "        table[sample_names[i]]['s80_s'] = s80_s\n",
    "        \n",
    "        if 'Omega_m' in sample.files and sample_names[i] not in no_cosmo:\n",
    "            Wm = sample['Omega_m']\n",
    "            Wm_m = np.mean(Wm)\n",
    "            Wm_s = np.std(Wm)\n",
    "        else:\n",
    "            Wm_m = 0\n",
    "            Wm_s = 0\n",
    "        print('Wm0', Wm_m, '+/-', Wm_s)\n",
    "        table[sample_names[i]]['Wm_m'] = Wm_m\n",
    "        table[sample_names[i]]['Wm_s'] = Wm_s\n",
    "        \n",
    "        if 'DHz' in sample.files and sample_names[i] not in  no_dHz:\n",
    "            varH = np.std(sample['DHz'],0)\n",
    "            varH_m = np.mean(varH)\n",
    "            varH_s = np.std(varH)\n",
    "        else:\n",
    "            varH = np.std(sample['Hz']/data_class.H_arr-1, 1)\n",
    "            varH_m = np.mean(varH)\n",
    "            varH_s = np.std(varH)\n",
    "        print('varH', varH_m, '+/-', varH_s)\n",
    "        table[sample_names[i]]['varH_m'] = varH_m\n",
    "        table[sample_names[i]]['varH_s'] = varH_s\n",
    "        print('-----')\n",
    "        \n",
    "    return table"
   ]
  },
  {
   "cell_type": "code",
   "execution_count": null,
   "id": "plastic-socket",
   "metadata": {
    "ExecuteTime": {
     "end_time": "2021-12-15T09:00:40.381895Z",
     "start_time": "2021-12-15T09:00:36.286Z"
    },
    "scrolled": true
   },
   "outputs": [],
   "source": [
    "numbers = table_numbers([fiducial_LCDM, DESI_LCDM, All_CMB,  All_CMB_bfWms8, All_CMB_hp,   All_CMB_noA0,  All, \n",
    "               All_CMB_NODSS,   All_gro, All_CMB_geo, DESI_CMB],\n",
    "              ['All data ($\\Lambda$CDM)', 'DESI+CMB ($\\Lambda$CDM)', 'All data', 'All data (BF $\\Omega_m$ and $\\sigma_8$)',\n",
    "               'All data (Fixed HP)', 'All data (Two-Steps)', 'No CMB',\n",
    "               'No DSS', 'Growth data', 'Geometry data', 'DESI $+$ CMB'])"
   ]
  },
  {
   "cell_type": "code",
   "execution_count": null,
   "id": "catholic-thirty",
   "metadata": {
    "ExecuteTime": {
     "end_time": "2021-12-15T09:00:40.383006Z",
     "start_time": "2021-12-15T09:00:36.288Z"
    }
   },
   "outputs": [],
   "source": [
    "def make_table(numbers):\n",
    "    names = numbers.keys()\n",
    "    for name in names:\n",
    "        Wm = '${} \\pm {}$'.format(round(numbers[name]['Wm_m'],3), round(numbers[name]['Wm_s'],3))\n",
    "        s80 = '${} \\pm {}$'.format(round(numbers[name]['s80_m'],3), round(numbers[name]['s80_s'],3))\n",
    "        S80 = '${} \\pm {}$'.format(round(numbers[name]['S80_m'],3), round(numbers[name]['S80_s'],3))\n",
    "        H0 = '${} \\pm {}$'.format(round(numbers[name]['H0_m'],3), round(numbers[name]['H0_s'],3))\n",
    "        print(name, '&', Wm, '&',  s80, '&',  S80, '&',  H0, r'\\\\' )"
   ]
  },
  {
   "cell_type": "code",
   "execution_count": null,
   "id": "administrative-smell",
   "metadata": {
    "ExecuteTime": {
     "end_time": "2021-12-15T09:00:40.383714Z",
     "start_time": "2021-12-15T09:00:36.290Z"
    }
   },
   "outputs": [],
   "source": [
    "def make_table2(numbers):\n",
    "    names = numbers.keys()\n",
    "    for name in names:\n",
    "        varH = '${} \\pm {}$'.format(round(numbers[name]['varH_m'],3), round(numbers[name]['varH_s'],3))\n",
    "        n = '${} \\pm {}$'.format(round(numbers[name]['n_m'],3), round(numbers[name]['n_s'],3))\n",
    "        print(name, '&', n, '&', varH, r'\\\\' )"
   ]
  },
  {
   "cell_type": "code",
   "execution_count": null,
   "id": "talented-tuning",
   "metadata": {
    "ExecuteTime": {
     "end_time": "2021-12-15T09:00:40.384895Z",
     "start_time": "2021-12-15T09:00:36.292Z"
    },
    "scrolled": true
   },
   "outputs": [],
   "source": [
    "make_table(numbers)"
   ]
  },
  {
   "cell_type": "code",
   "execution_count": null,
   "id": "republican-rabbit",
   "metadata": {
    "ExecuteTime": {
     "end_time": "2021-12-15T09:00:40.385866Z",
     "start_time": "2021-12-15T09:00:36.294Z"
    },
    "scrolled": true
   },
   "outputs": [],
   "source": [
    "make_table2(numbers)"
   ]
  },
  {
   "cell_type": "markdown",
   "id": "characteristic-virus",
   "metadata": {
    "scrolled": true
   },
   "source": [
    "# 1D Comp"
   ]
  },
  {
   "cell_type": "code",
   "execution_count": null,
   "id": "laughing-float",
   "metadata": {
    "ExecuteTime": {
     "end_time": "2021-12-15T09:00:40.386997Z",
     "start_time": "2021-12-15T09:00:36.295Z"
    }
   },
   "outputs": [],
   "source": [
    "fig=plt.figure(figsize=(12,8))\n",
    "fig.subplots_adjust(wspace=0)\n",
    "\n",
    "my_yticks = ['All data ($\\Lambda$CDM)', 'All data', 'All data (Fixed HP)', 'All data (Two-Steps)', 'No CMB',\n",
    "               'No DSS', 'DESI $+$ CMB']\n",
    "\n",
    "fmts = {'All data ($\\Lambda$CDM)': 'k*',\n",
    "        'All data': 'r*',\n",
    "        'All data (Fixed HP)': 'g*',\n",
    "        'All data (Two-Steps)': 'y*',\n",
    "        'No CMB': 'm*',\n",
    "        'No DSS': 'r*', \n",
    "        'DESI $+$ CMB': 'k*'}\n",
    "\n",
    "y = {'All data ($\\Lambda$CDM)': 0,\n",
    "    'All data': 2,\n",
    "    'All data (Fixed HP)': 4,\n",
    "    'All data (Two-Steps)': 6,\n",
    "    'No CMB': 8,\n",
    "    'No DSS': 10, \n",
    "    'DESI $+$ CMB': 12}\n",
    "\n",
    "ax1 = plt.subplot(131)\n",
    "label = r'$\\Omega_{\\rm{m}}$'\n",
    "plt.axvspan(0.3166 - 0.0084, 0.3166 + 0.0084, alpha = 0.5, color='b',  label= r'$Planck$ 2018')\n",
    "for name in my_yticks:\n",
    "    Wm=numbers[name]['Wm_m']\n",
    "    Wm_err=numbers[name]['Wm_s']\n",
    "    plt.errorbar( Wm, y[name], xerr=np.transpose(Wm_err), fmt=fmts[name])\n",
    "\n",
    "plt.yticks(list(y.values()), list(y.keys()), fontsize=16)\n",
    "plt.xlabel(label, fontsize=18)\n",
    "plt.axis([0.1, 0.55, y[my_yticks[-1]]+1 ,-1,])\n",
    "plt.yticks(rotation=15)\n",
    "plt.xticks(fontsize=14)\n",
    "\n",
    "    \n",
    "ax2 = plt.subplot(132, sharey = ax1)\n",
    "label = r'$\\sigma_{\\rm{8}}$'\n",
    "plt.axvspan(0.8120 - 0.0073, 0.8120 + 0.0073, alpha = 0.5, color='b',  label= r'$Planck$ 2018')\n",
    "for name in my_yticks:\n",
    "    s8=numbers[name]['s80_m']\n",
    "    s8_err=numbers[name]['s80_s']\n",
    "    plt.errorbar( s8, y[name], xerr=np.transpose(s8_err), fmt=fmts[name])\n",
    "plt.xlabel(label, fontsize=18)\n",
    "plt.legend(loc = 1, prop={'size': 13})\n",
    "plt.axis([0.6, 1.2, y[my_yticks[-1]]+1 ,-1,])\n",
    "plt.setp( ax2.get_yticklabels(), visible=False)\n",
    "plt.xticks(fontsize=14)\n",
    "    \n",
    "ax3 = plt.subplot(133, sharey = ax2)\n",
    "label = r'$S_{\\rm{8}}$'\n",
    "plt.axvspan(0.834 - 0.016, 0.834 + 0.016, alpha = 0.5, color='b',  label= r'$Planck$ 2018')\n",
    "for name in my_yticks:\n",
    "    S8=numbers[name]['S80_m']\n",
    "    S8_err=numbers[name]['S80_s']\n",
    "    plt.errorbar( S8, y[name], xerr=np.transpose(S8_err), fmt=fmts[name])\n",
    "plt.xlabel(label, fontsize=18)\n",
    "#plt.legend(loc = 1, prop={'size': 13})\n",
    "plt.axis([0.7, 0.9, y[my_yticks[-1]]+1 ,-1,])\n",
    "plt.setp( ax3.get_yticklabels(), visible=False)\n",
    "plt.xticks(fontsize=14)\n",
    "\n",
    "os.remove('/mnt/c/Users/Jaime/Desktop/PhD/gp_figures/1D_comp.pdf')\n",
    "plt.savefig('/mnt/c/Users/Jaime/Desktop/PhD/gp_figures/1D_comp.pdf', bbox_inches='tight', pad_inches=0)"
   ]
  },
  {
   "cell_type": "markdown",
   "id": "removable-bibliography",
   "metadata": {},
   "source": [
    "# Triangle Plots"
   ]
  },
  {
   "cell_type": "code",
   "execution_count": null,
   "id": "retained-beads",
   "metadata": {
    "ExecuteTime": {
     "end_time": "2021-12-15T09:00:40.388018Z",
     "start_time": "2021-12-15T09:00:36.297Z"
    }
   },
   "outputs": [],
   "source": [
    "def make_samples(file, names, ranges, label):\n",
    "    namess = []\n",
    "    labels = []\n",
    "    samples = []\n",
    "    for name in names:\n",
    "        if name in file.keys():\n",
    "            namess.append(name) \n",
    "            labels.append(labels_dict[name]) \n",
    "            samples.append(file[name]) \n",
    "        \n",
    "    return MCSamples(samples=samples, names=namess, labels=labels, label=label, ranges=ranges,\n",
    "                    settings={'mult_bias_correction_order':0,'smooth_scale_2D':0.4, 'smooth_scale_1D':0.3})"
   ]
  },
  {
   "cell_type": "code",
   "execution_count": null,
   "id": "weighted-simpson",
   "metadata": {
    "ExecuteTime": {
     "end_time": "2021-12-15T09:00:40.388880Z",
     "start_time": "2021-12-15T09:00:36.298Z"
    }
   },
   "outputs": [],
   "source": [
    "labels_dict = {'n': '\\eta',\n",
    "               'l': 'l',\n",
    "               'A0': 'A_0',\n",
    "               'n_H': '\\eta_H',\n",
    "               'l_H': 'l_H',\n",
    "               'n_Xi': '\\eta_{Xi}',\n",
    "               'l_Xi': 'l_{Xi}',\n",
    "               'H0': 'H_0',\n",
    "               'H0_gp': 'H_0',\n",
    "               'omega_m': '\\omega_m',\n",
    "               'Omega_m': '\\Omega_m',\n",
    "               'Omega_m_mean': '\\Omega_m^{mean}',\n",
    "               'omega_b': '\\omega_b',\n",
    "               'Omega_m': '\\Omega_m',\n",
    "               'Omega_b': '\\Omega_b',\n",
    "               's80': '\\sigma_8',\n",
    "               'S80': 'S_8',\n",
    "               'rd': 'r_s',\n",
    "               'M': 'M'}\n",
    "names_All = ['n', 'l', 'n_H', 'l_H', 'n_Xi', 'l_Xi', 'A0',\n",
    "             'H0', 'H0_gp',  'Omega_m', 'omega_m', 'Omega_m_mean',\n",
    "             'omega_b', 'Omega_m', 'Omega_b', 's80', 'S80', 'M']\n",
    "ranges2 = {'l':[0.001, 7],}\n",
    "ranges = {'l':[0.001, 7], 'Omega_m':[0.00, 0.5], 'n':[0, 1]}"
   ]
  },
  {
   "cell_type": "code",
   "execution_count": null,
   "id": "statewide-thanks",
   "metadata": {
    "ExecuteTime": {
     "end_time": "2021-12-15T09:00:40.389834Z",
     "start_time": "2021-12-15T09:00:36.301Z"
    }
   },
   "outputs": [],
   "source": [
    "Fiducial_LCDM_samples = make_samples(fiducial_LCDM, ['H0_gp', 'Omega_m', 's80', 'S80', 'M', 'rd'], \n",
    "                                ranges, r'All data ($\\Lambda$CDM)')\n",
    "DESI_LCDM_samples = make_samples(DESI_LCDM, ['H0_gp', 'Omega_m', 's80', 'S80'], \n",
    "                                ranges, r'DESI+CMB ($\\Lambda$CDM)')\n",
    "All_CMB_samples = make_samples(All_CMB, ['A0', 'n', 'l', 'H0_gp', 'Omega_m', 's80', 'S80', 'rd', 'M'],\n",
    "                               ranges, 'All data')\n",
    "All_CMB_noA0_samples = make_samples(All_CMB_noA0, ['n', 'l', 'H0_gp', 'Omega_m', 's80', 'S80', 'rd', 'M'],\n",
    "                               ranges, 'All data (Two-steps)')\n",
    "All_CMB_hp_samples = make_samples(All_CMB_hp, ['A0', 'H0_gp', 'Omega_m', 's80', 'S80', 'rd', 'M'],\n",
    "                               ranges, 'All data (Fixed HP)')\n",
    "All_samples = make_samples(All, ['A0', 'n', 'l', 'H0_gp', 'Omega_m', 's80', 'S80', 'rd', 'M'],\n",
    "                               ranges, 'No CMB')\n",
    "All_CMB_NODSS_samples = make_samples(All_CMB_NODSS, ['A0', 'n', 'l', 'H0_gp', 'Omega_m', 's80', 'S80', 'rd', 'M'],\n",
    "                               ranges, 'No DSS')\n",
    "All_gro_samples = make_samples(All_gro, ['A0', 'n', 'l', 'H0_gp', 'Omega_m', 's80', 'S80'],\n",
    "                               ranges, 'Growth data')\n",
    "All_gro_wide_samples = make_samples(All_gro_wide, ['A0', 'l', 'H0_gp', 'Omega_m', 's80', 'S80'],\n",
    "                               ranges, 'Growth data + $\\eta=0.5$')\n",
    "All_gro_wider_samples = make_samples(All_gro_wider, ['A0', 'l', 'H0_gp', 'Omega_m', 's80', 'S80'],\n",
    "                               ranges, 'Growth data + $\\eta=0.5$ + $A_0$ wide')\n",
    "All_gro_widest_samples = make_samples(All_gro_widest, ['A0', 'l', 'H0_gp', 'Omega_m', 's80', 'S80'],\n",
    "                               ranges, 'Growth data + $\\eta=1$')\n",
    "All_gro_diff_mean_samples = make_samples(All_gro_diff_mean, ['A0', 'l', 'H0_gp', 'Omega_m', 's80', 'S80'],\n",
    "                               ranges, 'Growth data + diff mean')\n",
    "All_CMB_geo_samples = make_samples(All_CMB_geo, ['A0', 'n', 'l', 'H0_gp'],\n",
    "                               ranges, 'Geometry data')\n",
    "All_CMB_bfWms8_samples = make_samples(All_CMB_bfWms8, ['n', 'l', 'H0_gp'],\n",
    "                               ranges, 'All data (BF $\\Omega_m$ and $\\sigma_8$)')\n",
    "DESI_CMB_samples = make_samples(DESI_CMB, ['A0','n', 'l', 'H0_gp', 'Omega_m', 's80', 'S80'], \n",
    "                                ranges, r' DESI+CMB')"
   ]
  },
  {
   "cell_type": "code",
   "execution_count": null,
   "id": "exclusive-hello",
   "metadata": {
    "ExecuteTime": {
     "end_time": "2021-12-15T09:00:40.390772Z",
     "start_time": "2021-12-15T09:00:36.303Z"
    }
   },
   "outputs": [],
   "source": [
    "g = plots.getSubplotPlotter(subplot_size=2.5)\n",
    "g.triangle_plot([All_gro_samples, All_gro_diff_mean_samples],\n",
    "                ['A0', 'H0_gp', 'Omega_m', 's80', 'S80'],\n",
    "                filled=True,\n",
    "                markers={'H0':100*data_class.cosmo.h(),\n",
    "                         'Omega_m': data_class.cosmo.Omega_m(),\n",
    "                         's80': data_class.cosmo.sigma8(), \n",
    "                         'S80': data_class.cosmo.sigma8()*np.sqrt(data_class.cosmo.Omega_m()/0.3),\n",
    "                         'rd':147.06546072,\n",
    "                         'M': -19.2})             "
   ]
  },
  {
   "cell_type": "code",
   "execution_count": null,
   "id": "offshore-fight",
   "metadata": {
    "ExecuteTime": {
     "end_time": "2021-12-15T09:00:40.391697Z",
     "start_time": "2021-12-15T09:00:36.305Z"
    }
   },
   "outputs": [],
   "source": [
    "g = plots.getSubplotPlotter(subplot_size=2.5)\n",
    "g.triangle_plot([All_CMB_samples, Fiducial_LCDM_samples],\n",
    "                ['H0_gp', 'Omega_m', 's80', 'S80'],\n",
    "                filled=True,\n",
    "                markers={'H0':100*data_class.cosmo.h(),\n",
    "                         'Omega_m': data_class.cosmo.Omega_m(),\n",
    "                         's80': data_class.cosmo.sigma8(), \n",
    "                         'S80': data_class.cosmo.sigma8()*np.sqrt(data_class.cosmo.Omega_m()/0.3),\n",
    "                         'rd':147.06546072,\n",
    "                         'M': -19.2})                "
   ]
  },
  {
   "cell_type": "code",
   "execution_count": null,
   "id": "religious-arena",
   "metadata": {
    "ExecuteTime": {
     "end_time": "2021-12-15T09:00:40.392688Z",
     "start_time": "2021-12-15T09:00:36.307Z"
    }
   },
   "outputs": [],
   "source": [
    "g = plots.getSubplotPlotter(subplot_size=2.5)\n",
    "g.triangle_plot([Fiducial_LCDM_samples, DESI_CMB_samples, DESI_LCDM_samples],\n",
    "                ['H0_gp', 'Omega_m', 's80', 'S80'],\n",
    "                filled=True,\n",
    "                markers={'H0':100*data_class.cosmo.h(),\n",
    "                         'Omega_m': data_class.cosmo.Omega_m(),\n",
    "                         's80': data_class.cosmo.sigma8(), \n",
    "                         'S80': data_class.cosmo.sigma8()*np.sqrt(data_class.cosmo.Omega_m()/0.3),\n",
    "                         'rd':147.06546072,\n",
    "                         'M': -19.2})\n",
    "g.export('/mnt/c/Users/Jaime/Desktop/PhD/gp_figures/triangle_forecast.pdf')                "
   ]
  },
  {
   "cell_type": "code",
   "execution_count": null,
   "id": "beautiful-disposition",
   "metadata": {
    "ExecuteTime": {
     "end_time": "2021-12-15T09:00:40.393928Z",
     "start_time": "2021-12-15T09:00:36.308Z"
    }
   },
   "outputs": [],
   "source": [
    "g = plots.getSubplotPlotter(subplot_size=2.5)\n",
    "g.triangle_plot([ All_gro_samples, All_CMB_samples],\n",
    "                ['n'],\n",
    "                filled=True,\n",
    "                markers={'H0':100*data_class.cosmo.h(),\n",
    "                         'Omega_m': data_class.cosmo.Omega_m(),\n",
    "                         's80': data_class.cosmo.sigma8(), \n",
    "                         'S80': data_class.cosmo.sigma8()*np.sqrt(data_class.cosmo.Omega_m()/0.3),\n",
    "                         'rd':147.06546072,\n",
    "                         'M': -19.2})\n",
    "                "
   ]
  },
  {
   "cell_type": "code",
   "execution_count": null,
   "id": "departmental-atlantic",
   "metadata": {
    "ExecuteTime": {
     "end_time": "2021-12-15T09:00:40.394893Z",
     "start_time": "2021-12-15T09:00:36.310Z"
    }
   },
   "outputs": [],
   "source": [
    "g = plots.getSubplotPlotter(subplot_size=2.5)\n",
    "g.settings.axes_fontsize = 20\n",
    "g.settings.legend_fontsize = 20\n",
    "g.settings.axes_labelsize = 20\n",
    "g.triangle_plot([All_CMB_noA0_samples, All_CMB_hp_samples, All_CMB_samples, Fiducial_LCDM_samples],\n",
    "                filled=True,\n",
    "                markers={'H0':100*data_class.cosmo.h(),\n",
    "                         'Omega_m': data_class.cosmo.Omega_m(),\n",
    "                         's80': data_class.cosmo.sigma8(), \n",
    "                         'S80': data_class.cosmo.sigma8()*np.sqrt(data_class.cosmo.Omega_m()/0.3),\n",
    "                         'rd':147.06546072,\n",
    "                         'M': -19.2})\n",
    "g.export('/mnt/c/Users/Jaime/Desktop/PhD/gp_figures/triangle_tests.pdf')     "
   ]
  },
  {
   "cell_type": "code",
   "execution_count": null,
   "id": "available-purple",
   "metadata": {
    "ExecuteTime": {
     "end_time": "2021-12-15T09:00:40.395774Z",
     "start_time": "2021-12-15T09:00:36.312Z"
    }
   },
   "outputs": [],
   "source": [
    "g = plots.getSubplotPlotter(subplot_size=2.5)\n",
    "g.settings.axes_fontsize = 20\n",
    "g.settings.legend_fontsize = 20\n",
    "g.settings.axes_labelsize = 20\n",
    "g.triangle_plot([All_CMB_NODSS_samples, All_samples, All_CMB_samples, Fiducial_LCDM_samples],\n",
    "                filled=True,\n",
    "                markers={'H0':100*data_class.cosmo.h(),\n",
    "                         'Omega_m': data_class.cosmo.Omega_m(),\n",
    "                         's80': data_class.cosmo.sigma8(), \n",
    "                         'S80': data_class.cosmo.sigma8()*np.sqrt(data_class.cosmo.Omega_m()/0.3),\n",
    "                         'rd':147.06546072,\n",
    "                         'M': -19.2})\n",
    "g.export('/mnt/c/Users/Jaime/Desktop/PhD/gp_figures/triangle_data.pdf')"
   ]
  },
  {
   "cell_type": "markdown",
   "id": "equipped-hawaii",
   "metadata": {
    "heading_collapsed": true
   },
   "source": [
    "## Challenge"
   ]
  },
  {
   "cell_type": "code",
   "execution_count": null,
   "id": "hydraulic-volume",
   "metadata": {
    "ExecuteTime": {
     "end_time": "2021-12-15T09:00:40.396505Z",
     "start_time": "2021-12-15T09:00:36.314Z"
    },
    "hidden": true
   },
   "outputs": [],
   "source": [
    "def challenge_1(cosmo):\n",
    "    base_path = os.path.join('/home/jaimerz/PhD/Growz/data/outputs/finals/challenge/', cosmo)\n",
    "    challenges = [f for f in listdir(base_path) if '.yml' not in f]#(not isfile(join(base_path, f))) or ('LCDM' not in f)]\n",
    "    challenge_samples = []\n",
    "    for challenge in challenges:\n",
    "        path = os.path.join(base_path, challenge)+'/samples.npz'\n",
    "        chain = np.load(path)\n",
    "        samples = make_samples(chain, ['A0', 'n', 'l', 'H0_gp', 'Omega_m', 's80', 'S80', 'rd', 'M'], ranges2, challenge)\n",
    "        challenge_samples.append(samples)\n",
    "        with open(base_path+'/'+cosmo+'.yml') as f:\n",
    "            ref = yaml.safe_load(f)\n",
    "    g = plots.getSubplotPlotter(subplot_size=2.5)\n",
    "    g.triangle_plot(challenge_samples,\n",
    "                    ['H0_gp', 'Omega_m', 's80', 'S80'],\n",
    "                filled=True,\n",
    "                colors = ['red', 'grey', 'blue', 'green', 'magenta'],\n",
    "                contour_colors = ['red', 'grey', 'blue', 'green', 'magenta'],\n",
    "                markers={'H0_gp': ref['H0'],\n",
    "                         'Omega_m': ref['Omega_m'],\n",
    "                         's80': ref['sigma8'], \n",
    "                         'S80': ref['sigma8']*np.sqrt(ref['Omega_m']/0.3)})              \n",
    "    g.export('/mnt/c/Users/Jaime/Desktop/PhD/gp_figures/triangle'+cosmo+'.pdf')\n",
    "    return  "
   ]
  },
  {
   "cell_type": "code",
   "execution_count": null,
   "id": "provincial-ordinance",
   "metadata": {
    "ExecuteTime": {
     "end_time": "2021-12-15T09:00:40.397537Z",
     "start_time": "2021-12-15T09:00:36.316Z"
    },
    "hidden": true
   },
   "outputs": [],
   "source": [
    "challenge_1('cosmo1')"
   ]
  },
  {
   "cell_type": "code",
   "execution_count": null,
   "id": "purple-comment",
   "metadata": {
    "ExecuteTime": {
     "end_time": "2021-12-15T09:00:40.398364Z",
     "start_time": "2021-12-15T09:00:36.318Z"
    },
    "hidden": true
   },
   "outputs": [],
   "source": [
    "challenge_1('cosmo2')"
   ]
  },
  {
   "cell_type": "code",
   "execution_count": null,
   "id": "placed-smith",
   "metadata": {
    "ExecuteTime": {
     "end_time": "2021-12-15T09:00:40.399316Z",
     "start_time": "2021-12-15T09:00:36.319Z"
    },
    "hidden": true
   },
   "outputs": [],
   "source": [
    "challenge_1('cosmo3')"
   ]
  },
  {
   "cell_type": "code",
   "execution_count": null,
   "id": "pregnant-conclusion",
   "metadata": {
    "ExecuteTime": {
     "end_time": "2021-12-15T09:00:40.400211Z",
     "start_time": "2021-12-15T09:00:36.321Z"
    },
    "hidden": true
   },
   "outputs": [],
   "source": [
    "challenge_1('cosmo4')"
   ]
  },
  {
   "cell_type": "code",
   "execution_count": null,
   "id": "chinese-occasions",
   "metadata": {
    "ExecuteTime": {
     "end_time": "2021-12-15T09:00:40.401029Z",
     "start_time": "2021-12-15T09:00:36.323Z"
    },
    "hidden": true
   },
   "outputs": [],
   "source": [
    "challenge_1('cosmo5')"
   ]
  },
  {
   "cell_type": "markdown",
   "id": "relevant-sharp",
   "metadata": {},
   "source": [
    "# d_H gp "
   ]
  },
  {
   "cell_type": "code",
   "execution_count": null,
   "id": "mexican-character",
   "metadata": {
    "ExecuteTime": {
     "end_time": "2021-12-15T09:00:40.401866Z",
     "start_time": "2021-12-15T09:00:36.325Z"
    }
   },
   "outputs": [],
   "source": [
    "dH_DESI_CMB_m, dH_DESI_CMB_s = get_m_s(DESI_CMB['DHz'])\n",
    "dH_All_CMB_m, dH_All_CMB_s = get_m_s(All_CMB['DHz'])\n",
    "dH_All_CMB_90_m, dH_All_CMB_90_s = get_m_s(All_CMB_90['DHz'])\n",
    "dH_All_CMB_noA0_m, dH_All_CMB_noA0_s = get_m_s(All_CMB_noA0['DHz'])\n",
    "dH_All_CMB_bfWms8_m, dH_All_CMB_bfWms8_s = get_m_s(All_CMB_bfWms8['DHz'])\n",
    "\n",
    "dH_All_gro_m, dH_All_gro_s = get_m_s(All_gro['DHz'])\n",
    "dH_All_CMB_geo_m, dH_All_CMB_geo_s = get_m_s(All_CMB_geo['DHz'])\n",
    "dH_All_CMB_hp_m, dH_All_CMB_hp_s = get_m_s(All_CMB_hp['DHz'])\n",
    "\n",
    "dH_All_m, dH_All_s = get_m_s(All['DHz'])\n",
    "dH_All_CMB_NODSS_m, dH_All_CMB_NODSS_s = get_m_s(All_CMB_NODSS['DHz'])\n",
    "dH_LCDM_m, dH_LCDM_s = get_m_s(1-fiducial_LCDM['Hz']/np.mean(fiducial_LCDM['Hz'], 0))\n",
    "\n",
    "Planck = data_class.Planck\n",
    "z_planck = data_class.z_planck"
   ]
  },
  {
   "cell_type": "code",
   "execution_count": null,
   "id": "enabling-entertainment",
   "metadata": {
    "ExecuteTime": {
     "end_time": "2021-12-15T09:00:40.402791Z",
     "start_time": "2021-12-15T09:00:36.328Z"
    }
   },
   "outputs": [],
   "source": [
    "fig=plt.figure(figsize=(8,12))\n",
    "fig.subplots_adjust(hspace=0)\n",
    "ax1 = plt.subplot(311)\n",
    "\n",
    "plt.plot(z_planck, np.zeros_like(z_planck), 'k--')\n",
    "plt.plot(z_arr,  dH_All_m, color ='b', label='No CMB')\n",
    "plt.fill_between(z_arr, dH_All_m+dH_All_s,\n",
    "                 dH_All_m-dH_All_s, color='b', alpha=.5)\n",
    "plt.plot(z_arr,  dH_All_CMB_m, color ='r', label='All data')\n",
    "plt.fill_between(z_arr, dH_All_CMB_m+dH_All_CMB_s,\n",
    "                 dH_All_CMB_m-dH_All_CMB_s, color='r', alpha=.5)\n",
    "\n",
    "plt.xscale('log')\n",
    "plt.xlim(0, 1100)\n",
    "plt.xlabel(\"z\", fontsize=14 )\n",
    "plt.ylabel(r\"$ \\delta H(z)$\", fontsize=14)\n",
    "plt.legend(loc='lower left')\n",
    "plt.setp( ax1.get_xticklabels(), visible=False)\n",
    "plt.yticks(fontsize=14)\n",
    "\n",
    "ax2 = plt.subplot(312, sharex = ax1)\n",
    "plt.plot(z_arr,  dH_All_CMB_m, color ='r', label='All data')\n",
    "plt.fill_between(z_arr, dH_All_CMB_m+dH_All_CMB_s,\n",
    "                 dH_All_CMB_m-dH_All_CMB_s, color='r', alpha=.5)\n",
    "\n",
    "plt.plot(z_arr,  dH_All_gro_m, color ='m', label='Growth data')\n",
    "plt.fill_between(z_arr, dH_All_gro_m+dH_All_gro_s,\n",
    "                 dH_All_gro_m-dH_All_gro_s, color='m', alpha=.5)\n",
    "\n",
    "plt.plot(z_arr,  dH_All_CMB_geo_m, color ='g', label='Geometry data')\n",
    "plt.fill_between(z_arr, dH_All_CMB_geo_m+dH_All_CMB_geo_s,\n",
    "                 dH_All_CMB_geo_m-dH_All_CMB_geo_s, color='g', alpha=.5)\n",
    "plt.plot(z_planck, np.zeros_like(z_planck), 'k--')\n",
    "\n",
    "plt.xscale('log')\n",
    "plt.xlim(0, 1100)\n",
    "#plt.ylim(-.04, .04)\n",
    "plt.xlabel(\"z\", fontsize=14 )\n",
    "plt.ylabel(r\"$ \\delta H(z)$\", fontsize=14)\n",
    "#plt.title(r\"$\\delta H(z)$\")\n",
    "plt.legend(loc='lower left')\n",
    "plt.setp( ax2.get_xticklabels(), visible=False)\n",
    "plt.yticks(fontsize=14)\n",
    "\n",
    "ax3 = plt.subplot(313, sharex = ax1)\n",
    "#plt.plot(z_arr,  dH_All_CMB_m, color ='r', label='Fiducial')\n",
    "#plt.fill_between(z_arr, dH_All_CMB_m+dH_All_CMB_s,\n",
    "#                 dH_All_CMB_m-dH_All_CMB_s, color='r', alpha=.5)\n",
    "\n",
    "plt.plot(z_arr,  dH_All_CMB_geo_m, color ='g', label='Geometry data')\n",
    "plt.fill_between(z_arr, dH_All_CMB_geo_m+dH_All_CMB_geo_s,\n",
    "                 dH_All_CMB_geo_m-dH_All_CMB_geo_s, color='g', alpha=.5)\n",
    "plt.plot(z_arr,  dH_All_CMB_bfWms8_m, color ='k', label='All data (BF $\\Omega_m$ $\\sigma_8$)')\n",
    "plt.fill_between(z_arr, dH_All_CMB_bfWms8_m+dH_All_CMB_bfWms8_s,\n",
    "                 dH_All_CMB_bfWms8_m-dH_All_CMB_bfWms8_s, color='k', alpha=.5)\n",
    "#plt.plot(z_arr,  dH_All_CMB_m, color ='r', label='Fiducial')\n",
    "#plt.fill_between(z_arr, dH_All_CMB_m+dH_All_CMB_s,\n",
    "#                 dH_All_CMB_m-dH_All_CMB_s, color='r', alpha=.5)\n",
    "#plt.plot(z_arr,  dH_All_CMB_NODSS_m, color ='r', label='Fiducial')\n",
    "#plt.fill_between(z_arr, dH_All_CMB_NODSS_m+dH_All_CMB_NODSS_s,\n",
    "#                 dH_All_CMB_NODSS_m-dH_All_CMB_NODSS_s, color='r', alpha=.5)\n",
    "\n",
    "plt.plot(z_planck, np.zeros_like(z_planck), 'k--')\n",
    "\n",
    "plt.xscale('log')\n",
    "plt.xlim(0, 1100)\n",
    "#plt.ylim(-.04, .04)\n",
    "plt.xlabel(\"z\", fontsize=14 )\n",
    "plt.ylabel(r\"$ \\delta H(z)$\", fontsize=14)\n",
    "plt.legend(loc='lower left')\n",
    "plt.xticks(fontsize=14)\n",
    "plt.yticks(fontsize=14)\n",
    "\n",
    "\n",
    "\n",
    "os.remove('/mnt/c/Users/Jaime/Desktop/PhD/gp_figures/dH_gp_geo_vs_gro.pdf')\n",
    "plt.savefig('/mnt/c/Users/Jaime/Desktop/PhD/gp_figures/dH_gp_geo_vs_gro.pdf', box_inches='tight', pad_inches=0)  "
   ]
  },
  {
   "cell_type": "code",
   "execution_count": null,
   "id": "passive-practice",
   "metadata": {
    "ExecuteTime": {
     "end_time": "2021-12-15T09:00:40.403696Z",
     "start_time": "2021-12-15T09:00:36.330Z"
    }
   },
   "outputs": [],
   "source": [
    "plt.plot(z_arr,  dH_All_CMB_m, color ='r', label='All data')\n",
    "plt.fill_between(z_arr, dH_All_CMB_m+dH_All_CMB_s,\n",
    "                 dH_All_CMB_m-dH_All_CMB_s, color='r', alpha=.5)\n",
    "\n",
    "plt.plot(z_arr,  dH_All_CMB_hp_m, color ='g', label='All data (Fixed HP)')\n",
    "plt.fill_between(z_arr, dH_All_CMB_hp_m+dH_All_CMB_hp_s,\n",
    "                 dH_All_CMB_hp_m-dH_All_CMB_hp_s, color='g', alpha=.5)\n",
    "\n",
    "#plt.plot(z_arr,  dH_All_CMB_hp_m, color ='k', label='Fixed HP')\n",
    "#plt.fill_between(z_arr, dH_All_CMB_hp_m+dH_All_CMB_hp_s,\n",
    "#                 dH_All_CMB_hp_m-dH_All_CMB_hp_s, color='k', alpha=.5)\n",
    "\n",
    "plt.plot(z_arr,  dH_All_CMB_noA0_m, color ='b', label='All data (Two-Steps)')\n",
    "plt.fill_between(z_arr, dH_All_CMB_noA0_m+dH_All_CMB_noA0_s,\n",
    "                 dH_All_CMB_noA0_m-dH_All_CMB_noA0_s, color='b', alpha=.5)\n",
    "\n",
    "plt.plot(z_planck, np.zeros_like(z_planck), 'k--')\n",
    "\n",
    "\n",
    "plt.xscale('log')\n",
    "plt.xlim(0, 1100)\n",
    "plt.xlabel(\"z\")\n",
    "plt.ylabel(r\"$ \\delta H(z)$\")\n",
    "plt.legend();\n",
    "\n",
    "os.remove('/mnt/c/Users/Jaime/Desktop/PhD/gp_figures/dH_gp_tests.pdf')\n",
    "plt.savefig('/mnt/c/Users/Jaime/Desktop/PhD/gp_figures/dH_gp_tests.pdf', bbox_inches='tight',  pad_inches=0)  "
   ]
  },
  {
   "cell_type": "code",
   "execution_count": null,
   "id": "atmospheric-experience",
   "metadata": {
    "ExecuteTime": {
     "end_time": "2021-12-15T09:00:40.404602Z",
     "start_time": "2021-12-15T09:00:36.332Z"
    }
   },
   "outputs": [],
   "source": [
    "#fig=plt.figure(figsize=(6*(7/8),8*(7/8)))\n",
    "#fig.subplots_adjust(hspace=0)\n",
    "#ax1 = plt.subplot(211)\n",
    "\n",
    "plt.plot(z_arr,  dH_All_CMB_m, color ='r', label='All data')\n",
    "plt.fill_between(z_arr, dH_All_CMB_m+dH_All_CMB_s,\n",
    "                 dH_All_CMB_m-dH_All_CMB_s, color='r', alpha=.5)\n",
    "\n",
    "plt.plot(z_arr,  dH_DESI_CMB_m, color ='b', label='DESI+CMB')\n",
    "plt.fill_between(z_arr, dH_DESI_CMB_m+dH_DESI_CMB_s,\n",
    "                 dH_DESI_CMB_m-dH_DESI_CMB_s, color='b', alpha=.5)\n",
    "plt.plot(z_planck, np.zeros_like(z_planck), 'k--')\n",
    "\n",
    "\n",
    "plt.xscale('log')\n",
    "plt.xlim(0, 1100)\n",
    "plt.xlabel(\"z\")\n",
    "plt.ylabel(r\"$ \\delta H(z)$\")\n",
    "plt.setp( ax1.get_xticklabels(), visible=False)\n",
    "plt.legend();\n",
    "\n",
    "#ax2=plt.subplot(212)\n",
    "\n",
    "#plt.plot(z_arr, np.std(np.transpose(DESI_CMB['Hz']/data_class.H_arr)/DESI_CMB['A0']-1, 1), 'b', label='GP - DESI+CMB')\n",
    "#plt.fill_between(z_arr,np.std(np.transpose(DESI_CMB['Hz']/data_class.H_arr)/DESI_CMB['A0']-1, 1), 0, color='b', alpha=0.5)\n",
    "\n",
    "#plt.plot(z_arr, np.std(np.transpose(fiducial_LCDM['Hz']/np.mean(fiducial_LCDM['Hz'], 0))-1, 1), 'g', label='$\\Lambda$CDM - Current data')\n",
    "#plt.fill_between(z_arr, np.std(np.transpose(fiducial_LCDM['Hz']/np.mean(fiducial_LCDM['Hz'], 0))-1, 1), 0, color='g', alpha=0.5)\n",
    "\n",
    "#plt.xscale('log')\n",
    "#plt.ylabel(r\"$ \\delta H(z)$\")\n",
    "#plt.xlabel('z')\n",
    "#plt.legend()\n",
    "#plt.xlim(0, 1100)\n",
    "#plt.ylim(0, 0.037);\n",
    "\n",
    "os.remove('/mnt/c/Users/Jaime/Desktop/PhD/gp_figures/dH_gp_forecast.pdf')\n",
    "plt.savefig('/mnt/c/Users/Jaime/Desktop/PhD/gp_figures/dH_gp_forecast.pdf', bbox_inches='tight',  pad_inches=0)  "
   ]
  },
  {
   "cell_type": "code",
   "execution_count": null,
   "id": "interesting-withdrawal",
   "metadata": {
    "ExecuteTime": {
     "end_time": "2021-12-15T09:00:40.405366Z",
     "start_time": "2021-12-15T09:00:36.334Z"
    }
   },
   "outputs": [],
   "source": [
    "plt.plot(z_arr,  dH_All_CMB_m, color ='r', label='All data (TAP = $95\\%$)')\n",
    "plt.fill_between(z_arr, dH_All_CMB_m+dH_All_CMB_s,\n",
    "                 dH_All_CMB_m-dH_All_CMB_s, color='r', alpha=.5)\n",
    "\n",
    "plt.plot(z_arr,  dH_All_CMB_90_m, color ='b', label='All data (TAP = $90\\%$)')\n",
    "plt.fill_between(z_arr, dH_All_CMB_90_m+dH_All_CMB_90_s,\n",
    "                 dH_All_CMB_90_m-dH_All_CMB_90_s, color='b', alpha=.5)\n",
    "\n",
    "plt.plot(z_planck, np.zeros_like(z_planck), 'k--')\n",
    "\n",
    "plt.xscale('log')\n",
    "plt.xlim(0, 1100)\n",
    "plt.xlabel(\"z\")\n",
    "plt.ylabel(r\"$ \\delta H(z)$\")\n",
    "plt.legend();\n",
    "\n",
    "os.remove('/mnt/c/Users/Jaime/Desktop/PhD/gp_figures/90_vs_95.pdf')\n",
    "plt.savefig('/mnt/c/Users/Jaime/Desktop/PhD/gp_figures/90_vs_95.pdf', bbox_inches='tight',  pad_inches=0)  "
   ]
  },
  {
   "cell_type": "markdown",
   "id": "developmental-field",
   "metadata": {},
   "source": [
    "# H_gp, DM_gp and f$\\sigma_8$_gp"
   ]
  },
  {
   "cell_type": "markdown",
   "id": "bound-residence",
   "metadata": {},
   "source": [
    "## Load samples"
   ]
  },
  {
   "cell_type": "code",
   "execution_count": null,
   "id": "higher-significance",
   "metadata": {
    "ExecuteTime": {
     "end_time": "2021-12-15T09:00:40.406379Z",
     "start_time": "2021-12-15T09:00:36.336Z"
    }
   },
   "outputs": [],
   "source": [
    "H_DESI_CMB_m, H_DESI_CMB_s = get_m_s(DESI_CMB['Hz'])\n",
    "H_All_CMB_m, H_All_CMB_s = get_m_s(All_CMB['Hz'])\n",
    "H_All_CMB_noA0_m, H_All_CMB_noA0_s = get_m_s(All_CMB_noA0['Hz'])\n",
    "H_All_CMB_hp_m, H_All_CMB_hp_s = get_m_s(All_CMB_hp['Hz'])\n",
    "H_All_gro_m, H_All_gro_s = get_m_s(All_gro['Hz'])\n",
    "H_All_m, H_All_s = get_m_s(All['Hz'])\n",
    "H_All_CMB_NODSS_m, H_All_CMB_NODSS_s = get_m_s(All_CMB_NODSS['Hz'])"
   ]
  },
  {
   "cell_type": "code",
   "execution_count": null,
   "id": "general-language",
   "metadata": {
    "ExecuteTime": {
     "end_time": "2021-12-15T09:00:40.407393Z",
     "start_time": "2021-12-15T09:00:36.337Z"
    }
   },
   "outputs": [],
   "source": [
    "dM_DESI_CMB_m, dM_DESI_CMB_s = get_m_s(DESI_CMB['dMz'])\n",
    "dM_All_CMB_m, dM_All_CMB_s = get_m_s(All_CMB['dMz'])\n",
    "dM_All_CMB_noA0_m, dM_All_CMB_noA0_s = get_m_s(All_CMB_noA0['dMz'])\n",
    "dM_All_CMB_hp_m, dM_All_CMB_hp_s = get_m_s(All_CMB_hp['dMz'])\n",
    "dM_All_gro_m, dM_All_gro_s = get_m_s(All_gro['dMz'])\n",
    "dM_All_m, dM_All_s = get_m_s(All['dMz'])\n",
    "dM_All_CMB_NODSS_m, dM_All_CMB_NODSS_s = get_m_s(All_CMB_NODSS['dMz'])"
   ]
  },
  {
   "cell_type": "code",
   "execution_count": null,
   "id": "australian-apparel",
   "metadata": {
    "ExecuteTime": {
     "end_time": "2021-12-15T09:00:40.408362Z",
     "start_time": "2021-12-15T09:00:36.339Z"
    }
   },
   "outputs": [],
   "source": [
    "fs8_DESI_CMB_m, fs8_DESI_CMB_s = get_m_s(DESI_CMB['fs8z'])\n",
    "fs8_All_CMB_m, fs8_All_CMB_s = get_m_s(All_CMB['fs8z'])\n",
    "fs8_All_CMB_noA0_m, fs8_All_CMB_noA0_s = get_m_s(All_CMB_noA0['fs8z'])\n",
    "fs8_All_CMB_hp_m, fs8_All_CMB_hp_s = get_m_s(All_CMB_hp['fs8z'])\n",
    "fs8_All_gro_m, fs8_All_gro_s = get_m_s(All_gro['fs8z'])\n",
    "fs8_All_m, fs8_All_s = get_m_s(All['fs8z'])\n",
    "fs8_All_CMB_NODSS_m, fs8_All_CMB_NODSS_s = get_m_s(All_CMB_NODSS['fs8z'])\n",
    "fs8_All_CMB_bfWms8_m, fs8_All_CMB_bfWms8_s = get_m_s(All_CMB_bfWms8['fs8z'])"
   ]
  },
  {
   "cell_type": "markdown",
   "id": "unauthorized-minutes",
   "metadata": {},
   "source": [
    "## Plots"
   ]
  },
  {
   "cell_type": "code",
   "execution_count": null,
   "id": "patent-penguin",
   "metadata": {
    "ExecuteTime": {
     "end_time": "2021-12-15T09:00:40.409231Z",
     "start_time": "2021-12-15T09:00:36.341Z"
    },
    "scrolled": true
   },
   "outputs": [],
   "source": [
    "fig=plt.figure(figsize=(7,7))\n",
    "fig.subplots_adjust(hspace=0)\n",
    "\n",
    "ax1 = plt.subplot(211)\n",
    "plt.plot(z_planck, Planck['Hkms_arr'], 'k--', label='Planck')\n",
    "plt.errorbar(CC_data['z'], CC_data['data'], yerr = CC_data['err'], fmt='bo')#, label='CC')\n",
    "plt.errorbar(BOSS_data['z'], BOSS_data['para_data'], yerr=BOSS_data['para_err'], fmt='bs')#, label='BOSS DR12')\n",
    "plt.errorbar(eBOSS_data['z'], c/1000/(eBOSS_data['para_data']*eBOSS_data['rd']), \n",
    "             yerr = 1/eBOSS_data['rd']/(np.array([0.47])), fmt='ks')#, label='eBOSS DR16')\n",
    "\n",
    "plt.plot(z_arr,  H_All_CMB_m, color ='r', label='All data')\n",
    "plt.fill_between(z_arr, H_All_CMB_m+H_All_CMB_s, H_All_CMB_m-H_All_CMB_s, color='r', alpha=.5)\n",
    "plt.plot(z_arr,  H_All_CMB_hp_m, color ='k', label='All data (Fixed HP)')\n",
    "plt.fill_between(z_arr, H_All_CMB_hp_m+H_All_CMB_hp_s,\n",
    "                 H_All_CMB_hp_m-H_All_CMB_hp_s, color='k', alpha=.5)\n",
    "plt.plot(z_arr,  H_All_CMB_noA0_m, color ='b', label='All data (Two-Steps)')\n",
    "plt.fill_between(z_arr, H_All_CMB_noA0_m+H_All_CMB_noA0_s,\n",
    "                 H_All_CMB_noA0_m-H_All_CMB_noA0_s, color='b', alpha=.5)\n",
    "plt.xlim(0, 2.5)\n",
    "plt.ylim(50, 300)\n",
    "plt.xlabel(\"z\")\n",
    "plt.ylabel(r\"$H(z) \\, \\left(\\frac{Kms/s}{Mpc} \\right)$\")\n",
    "plt.xticks(visible=False)\n",
    "plt.legend();\n",
    "\n",
    "#ax2 = plt.subplot(132)\n",
    "#plt.plot(z_planck, Planck['dM_arr'], 'k--', label='Planck')\n",
    "#plt.errorbar(DS17_data['z'], (10**((DS17_data['data']-25+19.49)/5))/(1+DS17_data['z']),\n",
    "#             yerr=(10**(DS17_data['err']/5))/(1+DS17_data['z']), fmt='ko', label='DS17')\n",
    "#plt.errorbar(BOSS_data['z'], BOSS_data['perp_data'], yerr=BOSS_data['perp_err'], fmt='ks', label='BOSS DR12')\n",
    "#plt.errorbar(eBOSS_data['z'], eBOSS_data['perp_data']*eBOSS_data['rd'],\n",
    "#             yerr=np.array([0.79])*eBOSS_data['rd'], fmt='ks', label='eBOSS DR16')\n",
    "#plt.errorbar(CMB_data['z'], (1/CMB_data['data'])*(100*CMB_data['rd']),\n",
    "#\n",
    "#plt.plot(z_arr,  dM_All_CMB_m, color ='r', label='All data')\n",
    "#plt.fill_between(z_arr, dM_All_CMB_m+dM_All_CMB_s, dM_All_CMB_m-dM_All_CMB_s, color='r', alpha=.5)\n",
    "#plt.plot(z_arr,  dM_All_CMB_hp_m, color ='k', label='Fixed HP')\n",
    "#plt.fill_between(z_arr, dM_All_CMB_hp_m+dM_All_CMB_hp_s,\n",
    "#                 dM_All_CMB_hp_m-dM_All_CMB_hp_s, color='k', alpha=.5)\n",
    "#plt.plot(z_arr,  dM_All_CMB_noA0_m, color ='b', label='Hierarchical')\n",
    "#plt.fill_between(z_arr, dM_All_CMB_noA0_m+dM_All_CMB_noA0_s,\n",
    "#                dM_All_CMB_noA0_m-dM_All_CMB_noA0_s, color='b', alpha=.5)\n",
    "\n",
    "#plt.xlabel(\"z\")\n",
    "#plt.xscale('log')\n",
    "#plt.yscale('log')\n",
    "#plt.ylabel(r\"$D_M$\")\n",
    "#plt.title(r\"$D_M \\, (Mpc)$\")\n",
    "#plt.legend();\n",
    "\n",
    "ax3 = plt.subplot(212)\n",
    "plt.plot(z_planck, Planck['fs8_arr'], 'k--', label='Planck')\n",
    "plt.errorbar(BOSS_data['z'], BOSS_data['fs8_data'], yerr=BOSS_data['fs8_err'], fmt='bs')#, label='BOSS DR12')\n",
    "plt.errorbar(eBOSS_data['z'], eBOSS_data['fs8_data'], yerr=eBOSS_data['fs8_err'], fmt='bs')#, label='eBOSS DR16')\n",
    "plt.errorbar(Wigglez_data['z'], Wigglez_data['data'], yerr=Wigglez_data['err'], fmt='bo')#, label='Wigglez')\n",
    "plt.errorbar(DSS_data['z'], DSS_data['data'], yerr=DSS_data['err'], fmt='ko')#, label='DSS')\n",
    "\n",
    "\n",
    "plt.plot(z_arr,  fs8_All_CMB_noA0_m, color ='b', label='All data (Two-Steps)')\n",
    "plt.fill_between(z_arr, fs8_All_CMB_noA0_m+fs8_All_CMB_noA0_s,\n",
    "                 fs8_All_CMB_noA0_m-fs8_All_CMB_noA0_s, color='b', alpha=.5)\n",
    "plt.plot(z_arr,  fs8_All_CMB_hp_m, color ='k', label='All data (Fixed HP)')\n",
    "plt.fill_between(z_arr, fs8_All_CMB_hp_m+fs8_All_CMB_hp_s,\n",
    "                 fs8_All_CMB_hp_m-fs8_All_CMB_hp_s, color='k', alpha=.5)\n",
    "plt.plot(z_arr,  fs8_All_CMB_m, color ='r', label='All data')\n",
    "plt.fill_between(z_arr, fs8_All_CMB_m+fs8_All_CMB_s,\n",
    "                 fs8_All_CMB_m-fs8_All_CMB_s, color='r', alpha=.5)\n",
    "\n",
    "\n",
    "plt.xlim(-0.01, 2.5)\n",
    "plt.ylim(0.25, 0.55)\n",
    "plt.xlabel(\"z\")\n",
    "plt.ylabel(r\"$f \\sigma_8$\")\n",
    "plt.legend();\n",
    "\n",
    "\n",
    "\n",
    "os.remove('/mnt/c/Users/Jaime/Desktop/PhD/gp_figures/tests_cosmo_functions.pdf')\n",
    "plt.savefig('/mnt/c/Users/Jaime/Desktop/PhD/gp_figures/tests_cosmo_functions.pdf', bbox_inches='tight',  pad_inches=0)   "
   ]
  },
  {
   "cell_type": "code",
   "execution_count": null,
   "id": "accepting-classic",
   "metadata": {
    "ExecuteTime": {
     "end_time": "2021-12-15T09:00:40.410575Z",
     "start_time": "2021-12-15T09:00:36.343Z"
    }
   },
   "outputs": [],
   "source": [
    "fig=plt.figure(figsize=(7,7))\n",
    "fig.subplots_adjust(hspace=0)\n",
    "\n",
    "ax1 = plt.subplot(211)\n",
    "plt.plot(z_planck, Planck['Hkms_arr'], 'k--', label='Planck')\n",
    "\n",
    "plt.errorbar(CC_data['z'], CC_data['data'], yerr = CC_data['err'], fmt='bo')#, label='CC')\n",
    "plt.errorbar(BOSS_data['z'], BOSS_data['para_data'], yerr=BOSS_data['para_err'], fmt='bs')#, label='BOSS DR12')\n",
    "plt.errorbar(eBOSS_data['z'], c/1000/(eBOSS_data['para_data']*eBOSS_data['rd']), \n",
    "             yerr = 1/eBOSS_data['rd']/(np.array([0.47])), fmt='bs')#, label='eBOSS DR16')\n",
    "plt.plot(z_arr,  H_All_CMB_m, color ='r', label='All data')\n",
    "plt.fill_between(z_arr, H_All_CMB_m+H_All_CMB_s,\n",
    "                 H_All_CMB_m-H_All_CMB_s, color='r', alpha=.5)\n",
    "plt.plot(z_arr,  H_All_m, color ='g', label='No CMB')\n",
    "plt.fill_between(z_arr, H_All_m+H_All_s, \n",
    "                 H_All_m-H_All_s, color='g', alpha=.5)\n",
    "plt.plot(z_arr,  H_All_CMB_NODSS_m, color ='k', label='No DSS')\n",
    "plt.fill_between(z_arr, H_All_CMB_NODSS_m+H_All_CMB_NODSS_s,\n",
    "                 H_All_CMB_NODSS_m-H_All_CMB_NODSS_s, color='k', alpha=.5)\n",
    "plt.xlim(0, 2.5)\n",
    "plt.ylim(50, 300)\n",
    "plt.xlabel(\"z\")\n",
    "plt.ylabel(r\"$H(z) \\, \\left(\\frac{Kms/s}{Mpc} \\right)$\")\n",
    "plt.xticks(visible=False)\n",
    "plt.legend();\n",
    "\n",
    "#ax2 = plt.subplot(132)\n",
    "#plt.plot(z_planck, Planck['dM_arr'], 'k--', label='Planck')\n",
    "#plt.errorbar(DS17_data['z'], (10**((DS17_data['data']-25+19.49)/5))/(1+DS17_data['z']),\n",
    "#             yerr=(10**(DS17_data['err']/5))/(1+DS17_data['z']), fmt='bo', label='DS17')\n",
    "#plt.errorbar(BOSS_data['z'], BOSS_data['perp_data'], yerr=BOSS_data['perp_err'], fmt='bs', label='BOSS DR12')\n",
    "#plt.errorbar(eBOSS_data['z'], eBOSS_data['perp_data']*eBOSS_data['rd'],\n",
    "#             yerr=np.array([0.79])*eBOSS_data['rd'], fmt='bs', label='eBOSS DR16')\n",
    "#plt.errorbar(CMB_data['z'], (1/CMB_data['data'])*(100*CMB_data['rd']),\n",
    "#             yerr=(1/CMB_data['err'])*1/(100*CMB_data['rd']), fmt='bo', label='CMB')\n",
    "#plt.plot(z_arr,  dM_All_CMB_m, color ='r', label='All data')\n",
    "#plt.fill_between(z_arr, dM_All_CMB_m+dM_All_CMB_s,\n",
    "#                 dM_All_CMB_m-dM_All_CMB_s, color='r', alpha=.5)\n",
    "#plt.plot(z_arr,  dM_All_m, color ='g', label='No CMB')\n",
    "#plt.fill_between(z_arr, dM_All_m+dM_All_s, \n",
    "#                 dM_All_m-dM_All_s, color='g', alpha=.5)\n",
    "#plt.plot(z_arr,  dM_All_CMB_NODSS_m, color ='k', label='No DSS')\n",
    "#plt.fill_between(z_arr, dM_All_CMB_NODSS_m+dM_All_CMB_NODSS_s,\n",
    "#                 dM_All_CMB_NODSS_m-dM_All_CMB_NODSS_s, color='k', alpha=.5)\n",
    "#plt.xlabel(\"z\")\n",
    "#plt.ylabel(r\"$D_M$\")\n",
    "#plt.xscale('log')\n",
    "#plt.yscale('log')\n",
    "#plt.title(r\"$D_M \\, (Mpc)$\")\n",
    "#plt.legend();\n",
    "\n",
    "ax2 = plt.subplot(212)\n",
    "plt.plot(z_planck, Planck['fs8_arr'], 'k--', label='Planck')\n",
    "plt.errorbar(BOSS_data['z'], BOSS_data['fs8_data'], yerr=BOSS_data['fs8_err'], fmt='bs')#, label='BOSS DR12')\n",
    "plt.errorbar(eBOSS_data['z'], eBOSS_data['fs8_data'], yerr=eBOSS_data['fs8_err'], fmt='bs')#, label='eBOSS DR16')\n",
    "plt.errorbar(Wigglez_data['z'], Wigglez_data['data'], yerr=Wigglez_data['err'], fmt='bo')#, label='Wigglez')\n",
    "plt.errorbar(DSS_data['z'], DSS_data['data'], yerr=DSS_data['err'], fmt='bo')#, label='DSS')\n",
    "plt.plot(z_arr,  fs8_All_CMB_m, color ='r', label='All data')\n",
    "plt.fill_between(z_arr, fs8_All_CMB_m+fs8_All_CMB_s,\n",
    "                 fs8_All_CMB_m-fs8_All_CMB_s, color='r', alpha=.5)\n",
    "plt.plot(z_arr,  fs8_All_m, color ='g', label='No CMB')\n",
    "plt.fill_between(z_arr, fs8_All_m+fs8_All_s, \n",
    "                 fs8_All_m-fs8_All_s, color='g', alpha=.5)\n",
    "plt.plot(z_arr,  fs8_All_CMB_NODSS_m, color ='k', label='No DSS')\n",
    "plt.fill_between(z_arr, fs8_All_CMB_NODSS_m+fs8_All_CMB_NODSS_s,\n",
    "                 fs8_All_CMB_NODSS_m-fs8_All_CMB_NODSS_s, color='k', alpha=.5)\n",
    "\n",
    "plt.xlim(-0.001, 2.5)\n",
    "plt.ylim(0.25, 0.55)\n",
    "plt.xlabel(\"z\")\n",
    "plt.ylabel(r\"$f \\sigma_8$\")\n",
    "plt.legend();\n",
    "\n",
    "os.remove('/mnt/c/Users/Jaime/Desktop/PhD/gp_figures/data_cosmo_functions.pdf')\n",
    "plt.savefig('/mnt/c/Users/Jaime/Desktop/PhD/gp_figures/data_cosmo_functions.pdf', bbox_inches='tight',  pad_inches=0)  "
   ]
  },
  {
   "cell_type": "code",
   "execution_count": null,
   "id": "particular-delta",
   "metadata": {
    "ExecuteTime": {
     "end_time": "2021-12-15T09:00:40.411468Z",
     "start_time": "2021-12-15T09:00:36.345Z"
    },
    "scrolled": true
   },
   "outputs": [],
   "source": [
    "plt.plot(z_planck, Planck['fs8_arr'], 'k--', label='Planck')\n",
    "plt.errorbar(BOSS_data['z'], BOSS_data['fs8_data'], yerr=BOSS_data['fs8_err'], fmt='ks', label='BOSS DR12')\n",
    "plt.errorbar(eBOSS_data['z'], eBOSS_data['fs8_data'], yerr=eBOSS_data['fs8_err'], fmt='ks', label='eBOSS DR16')\n",
    "plt.errorbar(Wigglez_data['z'], Wigglez_data['data'], yerr=Wigglez_data['err'], fmt='ko', label='Wigglez')\n",
    "plt.errorbar(DSS_data['z'], DSS_data['data'], yerr=DSS_data['err'], fmt='ko', label='DSS')\n",
    "\n",
    "plt.plot(z_arr,  fs8_All_CMB_m, color ='b', label='All data')\n",
    "plt.fill_between(z_arr, fs8_All_CMB_m+fs8_All_gro_s,\n",
    "                 fs8_All_CMB_m-fs8_All_CMB_s, color='b', alpha=.5)\n",
    "\n",
    "plt.plot(z_arr,  fs8_All_CMB_bfWms8_m, color ='m', label='All data + BF $\\Omega_m$ $\\sigma_8$')\n",
    "plt.fill_between(z_arr, fs8_All_CMB_bfWms8_m+fs8_All_CMB_bfWms8_s,\n",
    "                 fs8_All_CMB_bfWms8_m-fs8_All_CMB_bfWms8_s, color='m', alpha=.5)\n",
    "\n",
    "\n",
    "plt.xlim(-0.05, 2.5)\n",
    "plt.ylim(0.25, 0.55)\n",
    "plt.xlabel(\"z\")\n",
    "plt.ylabel(r\"$f \\sigma_8$\")\n",
    "plt.title(r\"$f \\sigma_8$\")\n",
    "plt.legend();\n",
    "\n",
    "os.remove('/mnt/c/Users/Jaime/Desktop/PhD/gp_figures/fs8_Wms8_effect.pdf')\n",
    "plt.savefig('/mnt/c/Users/Jaime/Desktop/PhD/gp_figures/fs8_Wms8_effect.pdf', bbox_inches='tight',  pad_inches=0)  "
   ]
  },
  {
   "cell_type": "code",
   "execution_count": null,
   "id": "rural-hampton",
   "metadata": {
    "ExecuteTime": {
     "end_time": "2021-12-15T09:00:40.412315Z",
     "start_time": "2021-12-15T09:00:36.346Z"
    },
    "scrolled": true
   },
   "outputs": [],
   "source": [
    "plt.plot(z_planck, Planck['fs8_arr'], 'k--', label='Planck')\n",
    "plt.errorbar(BOSS_data['z'], BOSS_data['fs8_data'], yerr=BOSS_data['fs8_err'], fmt='ks', label='BOSS DR12')\n",
    "plt.errorbar(eBOSS_data['z'], eBOSS_data['fs8_data'], yerr=eBOSS_data['fs8_err'], fmt='ks', label='eBOSS DR16')\n",
    "plt.errorbar(Wigglez_data['z'], Wigglez_data['data'], yerr=Wigglez_data['err'], fmt='ko', label='Wigglez')\n",
    "plt.errorbar(DSS_data['z'], DSS_data['data'], yerr=DSS_data['err'], fmt='ko', label='DSS')\n",
    "\n",
    "plt.plot(z_arr,  fs8_All_CMB_m, color ='r', label='All data')\n",
    "plt.fill_between(z_arr, fs8_All_CMB_m+fs8_All_gro_s,\n",
    "                 fs8_All_CMB_m-fs8_All_CMB_s, color='r', alpha=.5)\n",
    "\n",
    "plt.plot(z_arr,  fs8_All_gro_m, color ='b', label='Growth data')\n",
    "plt.fill_between(z_arr, fs8_All_gro_m+fs8_All_gro_s,\n",
    "                 fs8_All_gro_m-fs8_All_gro_s, color='b', alpha=.5)\n",
    "\n",
    "\n",
    "plt.xlim(-0.05, 2.5)\n",
    "plt.ylim(0.25, 0.55)\n",
    "plt.xlabel(\"z\")\n",
    "plt.ylabel(r\"$f \\sigma_8$\")\n",
    "plt.title(r\"$f \\sigma_8$\")\n",
    "plt.legend();\n",
    "\n",
    "os.remove('/mnt/c/Users/Jaime/Desktop/PhD/gp_figures/fs8_wm_effect.pdf')\n",
    "plt.savefig('/mnt/c/Users/Jaime/Desktop/PhD/gp_figures/fs8_wm_effect.pdf', bbox_inches='tight',  pad_inches=0)  "
   ]
  }
 ],
 "metadata": {
  "kernelspec": {
   "display_name": "Python 3",
   "language": "python",
   "name": "python3"
  },
  "language_info": {
   "codemirror_mode": {
    "name": "ipython",
    "version": 3
   },
   "file_extension": ".py",
   "mimetype": "text/x-python",
   "name": "python",
   "nbconvert_exporter": "python",
   "pygments_lexer": "ipython3",
   "version": "3.8.5"
  }
 },
 "nbformat": 4,
 "nbformat_minor": 5
}

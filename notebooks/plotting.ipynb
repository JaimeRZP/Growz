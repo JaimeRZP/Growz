{
 "cells": [
  {
   "cell_type": "code",
   "execution_count": 1,
   "id": "higher-austria",
   "metadata": {},
   "outputs": [
    {
     "name": "stderr",
     "output_type": "stream",
     "text": [
      "WARNING (theano.tensor.blas): Using NumPy C-API based implementation for BLAS functions.\n"
     ]
    }
   ],
   "source": [
    "import matplotlib.pyplot as plt\n",
    "import numpy as np\n",
    "import pickle\n",
    "import pandas as pd\n",
    "import pymc3 as pm\n",
    "import scipy as sp\n",
    "import pyccl as ccl\n",
    "import os\n",
    "import utils\n",
    "from make_data import MakeData\n",
    "import getdist\n",
    "from getdist import plots, MCSamples\n",
    "%matplotlib inline"
   ]
  },
  {
   "cell_type": "markdown",
   "id": "foreign-convertible",
   "metadata": {},
   "source": [
    "# Load data"
   ]
  },
  {
   "cell_type": "code",
   "execution_count": 2,
   "id": "utility-monroe",
   "metadata": {},
   "outputs": [
    {
     "name": "stdout",
     "output_type": "stream",
     "text": [
      "Removed no burn in\n"
     ]
    }
   ],
   "source": [
    "names_planck  = ['H', 'Omega_m', 'sigma8']\n",
    "labels_planck = ['H', r'\\Omega_{\\rm{m}}', r'\\sigma_{\\rm{8}}']\n",
    "\n",
    "planck1 = np.loadtxt('/home/jaimerz/Master/PLANCK/Planck_TTTEEE_lowl_lowE/base_plikHM_TTTEEE_lowl_lowE_post_zre6p5_1.txt')\n",
    "planck2 = np.loadtxt('/home/jaimerz/Master/PLANCK/Planck_TTTEEE_lowl_lowE/base_plikHM_TTTEEE_lowl_lowE_post_zre6p5_2.txt')\n",
    "planck3 = np.loadtxt('/home/jaimerz/Master/PLANCK/Planck_TTTEEE_lowl_lowE/base_plikHM_TTTEEE_lowl_lowE_post_zre6p5_3.txt')\n",
    "planck4 = np.loadtxt('/home/jaimerz/Master/PLANCK/Planck_TTTEEE_lowl_lowE/base_plikHM_TTTEEE_lowl_lowE_post_zre6p5_4.txt')\n",
    "\n",
    "planck_tot = np.concatenate((planck1, planck2, planck3, planck4), axis=0)\n",
    "\n",
    "planck_params = []\n",
    "for item in planck_tot:\n",
    "    planck_params.append([item[29], item[31], item[34]])\n",
    "planck_params = np.array(planck_params)\n",
    "planck= MCSamples(samples=planck_params, names = names_planck, labels = labels_planck, label= r'$Planck$ 2018',\n",
    "                    weights=np.transpose(planck_tot)[0],loglikes=np.transpose(planck_tot)[1])"
   ]
  },
  {
   "cell_type": "code",
   "execution_count": 3,
   "id": "vanilla-jacket",
   "metadata": {},
   "outputs": [],
   "source": [
    "z_max = 1110\n",
    "res = 200\n",
    "x_arr = np.linspace(0, np.log(1+z_max), res)\n",
    "dx = np.mean(np.diff(x_arr))\n",
    "z_arr = np.exp(x_arr)-1\n",
    "a_arr = 1./(1+z_arr)\n",
    "\n",
    "path = '/home/jaimerz/PhD/Growz/data/products'\n",
    "\n",
    "data_class = MakeData(z_max, res , path)\n",
    "Planck = data_class.Planck\n",
    "z_planck = data_class.z_planck\n",
    "c = data_class.c\n",
    "\n",
    "DESI_data = data_class.get_DESI(new=True, mode=None)\n",
    "WFIRST_data = data_class.get_WFIRST(new=True)\n",
    "CC_data = data_class.get_CC(new=True)\n",
    "DSS_data = data_class.get_DSS(new=True)\n",
    "BOSS_data = data_class.get_BOSS(new=True)\n",
    "eBOSS_data = data_class.get_eBOSS(new=True)\n",
    "Wigglez_data = data_class.get_Wigglez(new=True)\n",
    "DS17_data = data_class.get_DS17(new=True)\n",
    "CMB_data = data_class.get_CMB(new=True)\n",
    "FCMB_data = data_class.get_FCMB(new=True)"
   ]
  },
  {
   "cell_type": "code",
   "execution_count": 4,
   "id": "confirmed-wyoming",
   "metadata": {},
   "outputs": [
    {
     "data": {
      "text/plain": [
       "array([1.05863426])"
      ]
     },
     "execution_count": 4,
     "metadata": {},
     "output_type": "execute_result"
    }
   ],
   "source": [
    "CMB_data['data']"
   ]
  },
  {
   "cell_type": "code",
   "execution_count": 5,
   "id": "heard-spanking",
   "metadata": {},
   "outputs": [
    {
     "data": {
      "text/plain": [
       "0.8236687287788657"
      ]
     },
     "execution_count": 5,
     "metadata": {},
     "output_type": "execute_result"
    }
   ],
   "source": [
    "data_class.s80"
   ]
  },
  {
   "cell_type": "code",
   "execution_count": 6,
   "id": "commercial-welcome",
   "metadata": {},
   "outputs": [],
   "source": [
    "def get_m_s(rows):\n",
    "    cols = np.transpose(rows)\n",
    "    means = np.array([])\n",
    "    sigmas = np.array([])\n",
    "    for col in cols:\n",
    "        mean = np.mean(col)\n",
    "        sigma = np.std(col)\n",
    "        means = np.append(means, mean)\n",
    "        sigmas = np.append(sigmas, sigma)\n",
    "    return means, sigmas"
   ]
  },
  {
   "cell_type": "code",
   "execution_count": 6,
   "id": "brazilian-mapping",
   "metadata": {},
   "outputs": [],
   "source": [
    "path = '/home/jaimerz/PhD/Growz/data/outputs/'\n",
    "All = np.load(os.path.join(path,'fixed_eta/All_fixed_eta_100_100/samples.npz'))\n",
    "All_CMB = np.load(os.path.join(path,'All_CMB_100_100/samples.npz'))\n",
    "All_CMB_hp = np.load(os.path.join(path,'All_CMB_hp_100_100/samples.npz'))\n",
    "All_CMB_geo_gro = np.load(os.path.join(path,'All_CMB_geo_gro_100_100/samples.npz'))\n",
    "All_CMB_full = np.load(os.path.join(path,'All_CMB_full_100_100/samples.npz'))\n",
    "All_CMB_Xi = np.load(os.path.join(path,'All_CMB_Xi_100_100/samples.npz'))\n",
    "All_FCMB = np.load(os.path.join(path,'fulls/All_FCMB_100_100/samples.npz'))\n",
    "SDSS = np.load(os.path.join(path,'fulls/SDSS_1000_2500/samples.npz'))\n",
    "SDSS_CMB = np.load(os.path.join(path,'fulls/SDSS_CMB_1000_2500/samples.npz'))\n",
    "Add = np.load(os.path.join(path,'fulls/Add_1000_2500/samples.npz'))\n",
    "Add_CMB = np.load(os.path.join(path,'fulls/Add_CMB_1000_2500/samples.npz'))\n",
    "DESI = np.load(os.path.join(path,'fixed_eta/DESI_fixed_eta_100_100/samples.npz'))\n",
    "DESI_CMB = np.load(os.path.join(path,'fixed_eta/DESI_CMB_fixed_eta_100_100/samples.npz'))\n",
    "WFIRST_CMB = np.load(os.path.join(path,'fulls/WFIRST_CMB_1000_2500/samples.npz'))"
   ]
  },
  {
   "cell_type": "code",
   "execution_count": 7,
   "id": "technical-wonder",
   "metadata": {},
   "outputs": [],
   "source": [
    "All_mean = np.load(os.path.join(path,'means/All_1000_2500_mean/samples.npz'))\n",
    "All_CMB_mean = np.load(os.path.join(path,'means/All_CMB_1000_2500_mean/samples.npz'))\n",
    "All_osc = np.load(os.path.join(path,'oscs/All_1000_2500_osc/samples.npz'))\n",
    "All_CMB_osc = np.load(os.path.join(path,'oscs/All_CMB_1000_2500_osc/samples.npz'))"
   ]
  },
  {
   "cell_type": "code",
   "execution_count": 8,
   "id": "historic-dynamics",
   "metadata": {},
   "outputs": [],
   "source": [
    "labels_dict = {'n': '\\eta',\n",
    "               'l': 'l',\n",
    "               'H0': 'H_0',\n",
    "               'H0_gp': 'H_0',\n",
    "               'omega_m': '\\omega_m',\n",
    "               'omega_b': '\\omega_b',\n",
    "               's80': '\\sigma_8',\n",
    "               'S80': 'S_8',\n",
    "               'M': 'M'}\n",
    "names_All = ['n', 'l', 'H0', 'H0_gp',  'omega_m', 'omega_b',  's80', 'S80', 'M']\n",
    "#ranges = {'l':[0.001, 7], 'omega_b': [0.022, 0.023]}\n",
    "ranges = {'l':[0.001, 7]}"
   ]
  },
  {
   "cell_type": "markdown",
   "id": "removable-bibliography",
   "metadata": {},
   "source": [
    "# Triangle Plots"
   ]
  },
  {
   "cell_type": "code",
   "execution_count": 9,
   "id": "mathematical-radio",
   "metadata": {},
   "outputs": [],
   "source": [
    "def make_samples(file, names, ranges, label):\n",
    "    namess = []\n",
    "    labels = []\n",
    "    samples = []\n",
    "    for name in names:\n",
    "        if name in file.keys():\n",
    "            namess.append(name) \n",
    "            labels.append(labels_dict[name]) \n",
    "            samples.append(file[name]) \n",
    "        \n",
    "    return MCSamples(samples=samples, names=namess, labels=labels, label=label, ranges=ranges)"
   ]
  },
  {
   "cell_type": "code",
   "execution_count": 10,
   "id": "subsequent-south",
   "metadata": {},
   "outputs": [],
   "source": [
    "def make_samples_hp(file, names, ranges, label):\n",
    "    namess = []\n",
    "    for name in names:\n",
    "        if name in file.keys():\n",
    "            namess.append(name) \n",
    "            \n",
    "    samples = []\n",
    "    for name in namess:\n",
    "        samples.append(file[name]) \n",
    "    labels = []\n",
    "    for name in namess:\n",
    "        labels.append(labels_dict[name])\n",
    "    return MCSamples(samples=samples, names=namess, labels=labels, label=label, ranges=ranges)"
   ]
  },
  {
   "cell_type": "code",
   "execution_count": 11,
   "id": "attempted-battery",
   "metadata": {},
   "outputs": [],
   "source": [
    "def make_samples_geo_gro(file, names, ranges, label):\n",
    "    namess = []\n",
    "    labels = []\n",
    "    samples = []\n",
    "    for name in names:\n",
    "        if name in file.keys():\n",
    "            namess.append(name) \n",
    "            namess.append(labels_dict[name]) \n",
    "            samples.append(file[name]) \n",
    "        \n",
    "    return MCSamples(samples=samples, names=namess, labels=labels, label=label, ranges=ranges)"
   ]
  },
  {
   "cell_type": "code",
   "execution_count": 12,
   "id": "statewide-thanks",
   "metadata": {},
   "outputs": [
    {
     "name": "stdout",
     "output_type": "stream",
     "text": [
      "Removed no burn in\n",
      "Removed no burn in\n",
      "Removed no burn in\n",
      "Removed no burn in\n",
      "Removed no burn in\n",
      "Removed no burn in\n",
      "Removed no burn in\n",
      "Removed no burn in\n",
      "Removed no burn in\n",
      "Removed no burn in\n",
      "Removed no burn in\n",
      "Removed no burn in\n",
      "Removed no burn in\n"
     ]
    }
   ],
   "source": [
    "WFIRST_CMB_samples = make_samples(WFIRST_CMB, ['n', 'l', 'H0', 'omega_m',  'omega_b'], ranges, 'WFIRST')\n",
    "DESI_samples = make_samples(DESI, ['l', 'H0', 'omega_m',  's80', 'S80'], ranges, 'DESI')\n",
    "DESI_CMB_samples = make_samples(DESI_CMB, ['l', 'H0', 'omega_m',  'omega_b', 's80', 'S80'], ranges, 'DESI+CMB')\n",
    "All_samples = make_samples(All, ['l', 'H0', 'omega_b', 'omega_m', 's80', 'S80'], ranges, 'All')\n",
    "All_CMB_samples = make_samples(All_CMB, ['n', 'l', 'H0', 'omega_b', 'omega_m', 's80', 'S80'], ranges, 'All+CMB')\n",
    "All_CMB_hp_samples = make_samples(All_CMB_hp, ['H0', 'omega_b', 'omega_m', 's80', 'S80'],\n",
    "                                      ranges, 'All+CMB_hp')\n",
    "All_CMB_geo_gro_samples = make_samples(All_CMB_geo_gro, ['n', 'l', 'H0', 'omega_b', 'omega_m', 's80', 'S80'],\n",
    "                                           ranges, 'All+CMB_geo_gro')\n",
    "All_CMB_full_samples = make_samples(All_CMB_full, ['omega_b', 'omega_m', 's80'],\n",
    "                                      ranges, 'All+CMB_full')\n",
    "All_CMB_Xi_samples = make_samples(All_CMB_Xi, ['H0', 'omega_b', 'omega_m', 's80', 'S80'],\n",
    "                                      ranges, 'All+CMB_Xi')\n",
    "\n",
    "\n",
    "SDSS_samples = make_samples(SDSS, ['n', 'l', 'H0', 'omega_m', 'omega_b', 's80', 'S80'], ranges, 'SDSS')\n",
    "SDSS_CMB_samples = make_samples(SDSS_CMB, ['n', 'l', 'H0', 'omega_m', 'omega_b', 's80', 'S80'], \n",
    "                                      ranges, 'SDSS+CMB')\n",
    "Add_samples = make_samples(Add, ['n', 'l', 'H0', 'omega_m', 's80', 'S80'], ranges, 'Add')\n",
    "Add_CMB_samples = make_samples(Add_CMB, ['n', 'l', 'H0', 'omega_m', 'omega_b', 's80', 'S80'], \n",
    "                                      ranges, 'Add+CMB')"
   ]
  },
  {
   "cell_type": "code",
   "execution_count": 13,
   "id": "neutral-candle",
   "metadata": {},
   "outputs": [
    {
     "data": {
      "image/png": "[encoded data removed]",
      "text/plain": [
       "<Figure size 900x900 with 15 Axes>"
      ]
     },
     "metadata": {
      "needs_background": "light"
     },
     "output_type": "display_data"
    }
   ],
   "source": [
    "g = plots.getSubplotPlotter(subplot_size=2.5)\n",
    "g.triangle_plot([DESI_samples, DESI_CMB_samples],\n",
    "                ['l', 'H0', 'omega_m', 's80', 'S80'],\n",
    "                filled=True, \n",
    "                markers={'H0':100*data_class.cosmo.h(),\n",
    "                         'Omega_m': data_class.cosmo.Omega_m(),\n",
    "                         'Omega_b': data_class.cosmo.Omega_b(),\n",
    "                         'Omega_L': data_class.cosmo.Omega_Lambda(),\n",
    "                         's80': data_class.cosmo.sigma8(), \n",
    "                         'S80': data_class.cosmo.sigma8()*np.sqrt(data_class.cosmo.Omega_m()/0.3)})\n",
    "g.export('/mnt/c/Users/Jaime/Desktop/PhD/gp_figures/triangle_data.pdf')"
   ]
  },
  {
   "cell_type": "code",
   "execution_count": null,
   "id": "silver-backup",
   "metadata": {
    "scrolled": true
   },
   "outputs": [
    {
     "name": "stderr",
     "output_type": "stream",
     "text": [
      "WARNING:root:auto bandwidth for omega_m very small or failed (h=0.0005458064380775571,N_eff=64.82868742013211). Using fallback (h=0.05833268847183645)\n",
      "WARNING:root:auto bandwidth for s80 very small or failed (h=0.0004937191449260627,N_eff=76.15792482035084). Using fallback (h=0.021359500187059725)\n"
     ]
    }
   ],
   "source": [
    "g = plots.getSubplotPlotter(subplot_size=2.5)\n",
    "g.triangle_plot([All_CMB_samples, All_CMB_hp_samples, All_CMB_geo_gro_samples, All_CMB_full_samples],\n",
    "                ['omega_m', 's80'],\n",
    "                colors = ['red', 'black', 'blue', 'green'],\n",
    "                contour_colors = ['red', 'black', 'blue', 'green'],\n",
    "                filled=True,\n",
    "                markers={'H0':100*data_class.cosmo.h(),\n",
    "                         'Omega_m': data_class.cosmo.Omega_m(),\n",
    "                         'Omega_b': data_class.cosmo.Omega_b(),\n",
    "                         'omega_m': data_class.cosmo.Omega_m()*data_class.cosmo.h()**2,\n",
    "                         'omega_b': data_class.cosmo.Omega_b()*data_class.cosmo.h()**2,\n",
    "                         'Omega_L': data_class.cosmo.Omega_Lambda(),\n",
    "                         's80': data_class.cosmo.sigma8(), \n",
    "                         'S80': data_class.cosmo.sigma8()*np.sqrt(data_class.cosmo.Omega_m()/0.3)})\n",
    "g.export('/mnt/c/Users/Jaime/Desktop/PhD/gp_figures/banana_plot.pdf')"
   ]
  },
  {
   "cell_type": "code",
   "execution_count": null,
   "id": "direct-projector",
   "metadata": {},
   "outputs": [],
   "source": [
    "g = plots.getSubplotPlotter(subplot_size=2.5)\n",
    "g.triangle_plot([SDSS_samples, SDSS_CMB_samples],\n",
    "                ['n', 'l', 'H0', 'omega_m', 'omega_b', 's80', 'S80'],\n",
    "                filled=True,\n",
    "                markers={'H0':100*data_class.cosmo.h(),\n",
    "                         'Omega_m': data_class.cosmo.Omega_m(),\n",
    "                         'Omega_b': data_class.cosmo.Omega_b(),\n",
    "                         'Omega_L': data_class.cosmo.Omega_Lambda(),\n",
    "                         's80': data_class.cosmo.sigma8(), \n",
    "                         'S80': data_class.cosmo.sigma8()*np.sqrt(data_class.cosmo.Omega_m()/0.3)})\n",
    "g.export('/mnt/c/Users/Jaime/Desktop/PhD/gp_figures/triangle_data.pdf')"
   ]
  },
  {
   "cell_type": "code",
   "execution_count": null,
   "id": "typical-engineering",
   "metadata": {},
   "outputs": [],
   "source": [
    "g = plots.getSubplotPlotter(subplot_size=2.5)\n",
    "g.triangle_plot([Add_samples, Add_CMB_samples],\n",
    "                ['n', 'l', 'H0', 'Omega_m', 'Omega_L', 's80', 'S80'],\n",
    "                filled=True,\n",
    "                markers={'H0':100*data_class.cosmo.h(),\n",
    "                         'Omega_m': data_class.cosmo.Omega_m(),\n",
    "                         'Omega_b': data_class.cosmo.Omega_b(),\n",
    "                         'Omega_L': data_class.cosmo.Omega_Lambda(),\n",
    "                         's80': data_class.cosmo.sigma8(), \n",
    "                         'S80': data_class.cosmo.sigma8()*np.sqrt(data_class.cosmo.Omega_m()/0.3)})\n",
    "g.export('/mnt/c/Users/Jaime/Desktop/PhD/gp_figures/triangle_data.pdf')"
   ]
  },
  {
   "cell_type": "code",
   "execution_count": null,
   "id": "considered-undergraduate",
   "metadata": {},
   "outputs": [],
   "source": [
    "g = plots.getSubplotPlotter(subplot_size=2.5)\n",
    "g.triangle_plot([SDSS_samples, Add_samples, All_samples],\n",
    "                ['n', 'l', 'H0', 'Omega_m', 's80', 'S80'],\n",
    "                filled=True,\n",
    "                markers={'H0':100*data_class.cosmo.h(),\n",
    "                         'Omega_m': data_class.cosmo.Omega_m(),\n",
    "                         'Omega_b': data_class.cosmo.Omega_b(),\n",
    "                         'Omega_L': data_class.cosmo.Omega_Lambda(),\n",
    "                         's80': data_class.cosmo.sigma8(), \n",
    "                         'S80': data_class.cosmo.sigma8()*np.sqrt(data_class.cosmo.Omega_m()/0.3)})\n",
    "g.export('/mnt/c/Users/Jaime/Desktop/PhD/gp_figures/triangle_data.pdf')"
   ]
  },
  {
   "cell_type": "code",
   "execution_count": null,
   "id": "cellular-surveillance",
   "metadata": {},
   "outputs": [],
   "source": [
    "g = plots.getSubplotPlotter(subplot_size=2.5)\n",
    "g.triangle_plot([SDSS_CMB_samples, Add_CMB_samples, All_CMB_samples],\n",
    "                ['n', 'l', 'H0', 'omega_m', 's80', 'S80'],\n",
    "                filled=True,\n",
    "                markers={'H0':100*data_class.cosmo.h(),\n",
    "                         'Omega_m': data_class.cosmo.Omega_m(),\n",
    "                         'Omega_b': data_class.cosmo.Omega_b(),\n",
    "                         'Omega_L': data_class.cosmo.Omega_Lambda(),\n",
    "                         's80': data_class.cosmo.sigma8(), \n",
    "                         'S80': data_class.cosmo.sigma8()*np.sqrt(data_class.cosmo.Omega_m()/0.3)})\n",
    "g.export('/mnt/c/Users/Jaime/Desktop/PhD/gp_figures/triangle_data.pdf')"
   ]
  },
  {
   "cell_type": "code",
   "execution_count": null,
   "id": "coated-greeting",
   "metadata": {},
   "outputs": [],
   "source": [
    "g = plots.getSubplotPlotter(subplot_size=2.5)\n",
    "g.triangle_plot([All_CMB_samples, DESI_CMB_samples],\n",
    "                ['n', 'l', 'H0', 'omega_m', 's80', 'S80'],\n",
    "                filled=True,\n",
    "                markers={'H0':100*data_class.cosmo.h(),\n",
    "                         'Omega_m': data_class.cosmo.Omega_m(),\n",
    "                         'Omega_b': data_class.cosmo.Omega_b(),\n",
    "                         'Omega_L': data_class.cosmo.Omega_Lambda(),\n",
    "                         's80': data_class.cosmo.sigma8(), \n",
    "                         'S80': data_class.cosmo.sigma8()*np.sqrt(data_class.cosmo.Omega_m()/0.3)})\n",
    "                \n",
    "g.export('/mnt/c/Users/Jaime/Desktop/PhD/gp_figures/triangle_data.pdf')"
   ]
  },
  {
   "cell_type": "markdown",
   "id": "green-reducing",
   "metadata": {},
   "source": [
    "# Xi"
   ]
  },
  {
   "cell_type": "code",
   "execution_count": null,
   "id": "short-lightning",
   "metadata": {},
   "outputs": [],
   "source": [
    "dH_All_CMB_Xi_m, dH_All_CMB_Xi_s = get_m_s(1+All_CMB_Xi['DHz'])"
   ]
  },
  {
   "cell_type": "code",
   "execution_count": null,
   "id": "satisfied-karma",
   "metadata": {},
   "outputs": [],
   "source": [
    "plt.plot(z_arr,  dH_All_CMB_Xi_m, color ='y', label='All')\n",
    "plt.fill_between(z_arr, dH_All_CMB_Xi_m+dH_All_CMB_Xi_s,\n",
    "                 dH_All_CMB_Xi_m-dH_All_CMB_Xi_s, color='y', alpha=.5)\n",
    "\n",
    "plt.plot(z_planck, np.ones_like(z_planck), 'k--', label='Planck')\n",
    "\n",
    "plt.xscale('log')\n",
    "plt.xlabel(\"z\")\n",
    "plt.ylabel(r\"$ \\xi(z)$\")\n",
    "plt.title(r\"$\\xi(z)$\")\n",
    "plt.legend();"
   ]
  },
  {
   "cell_type": "markdown",
   "id": "relevant-sharp",
   "metadata": {},
   "source": [
    "# d_H gp "
   ]
  },
  {
   "cell_type": "code",
   "execution_count": null,
   "id": "mexican-character",
   "metadata": {},
   "outputs": [],
   "source": [
    "dH_DESI_m, dH_DESI_s = get_m_s(DESI['DHz'])\n",
    "dH_DESI_CMB_m, dH_DESI_CMB_s = get_m_s(DESI_CMB['DHz'])\n",
    "dH_All_m, dH_All_s = get_m_s(All['DHz'])\n",
    "dH_All_CMB_m, dH_All_CMB_s = get_m_s(All_CMB['DHz'])\n",
    "dH_All_CMB_hp_m, dH_All_CMB_hp_s = get_m_s(All_CMB_hp['DHz'])\n",
    "dH_All_CMB_geo_gro_m, dH_All_CMB_geo_gro_s = get_m_s(All_CMB_geo_gro['DHz'])\n",
    "dH_All_CMB_full_m, dH_All_CMB_full_s = get_m_s(All_CMB_full['DHz'])\n",
    "dH_All_FCMB_m, dH_All_FCMB_s = get_m_s(All_FCMB['DHz'])\n",
    "dH_SDSS_m, dH_SDSS_s = get_m_s(SDSS['DHz'])\n",
    "dH_SDSS_CMB_m, dH_SDSS_CMB_s = get_m_s(SDSS_CMB['DHz'])\n",
    "dH_Add_m, dH_Add_s = get_m_s(Add['DHz'])\n",
    "dH_Add_CMB_m, dH_Add_CMB_s = get_m_s(Add_CMB['DHz'])\n",
    "\n",
    "#dH_All_mean_m, dH_All_mean_s = get_m_s(All_mean['DHz'])\n",
    "#dH_All_CMB_mean_m, dH_All_CMB_mean_s = get_m_s(All_CMB_mean['DHz'])\n",
    "dH_All_osc_m, dH_All_osc_s = get_m_s(All_osc['DHz'])\n",
    "dH_All_CMB_osc_m, dH_All_CMB_osc_s = get_m_s(All_CMB_osc['DHz'])\n",
    "\n",
    "Planck = data_class.Planck\n",
    "z_planck = data_class.z_planck"
   ]
  },
  {
   "cell_type": "code",
   "execution_count": null,
   "id": "robust-insert",
   "metadata": {},
   "outputs": [],
   "source": [
    "plt.plot(z_arr,  dH_DESI_m, color ='b', label='DESI')\n",
    "plt.fill_between(z_arr, dH_DESI_m+dH_DESI_s,\n",
    "                 dH_DESI_m-dH_DESI_s, color='b', alpha=.5)\n",
    "plt.plot(z_arr,  dH_DESI_CMB_m, color ='r', label='DESI_CMB')\n",
    "plt.fill_between(z_arr, dH_DESI_CMB_m+dH_DESI_CMB_s,\n",
    "                 dH_DESI_CMB_m-dH_DESI_CMB_s, color='r', alpha=.5)\n",
    "\n",
    "plt.plot(z_arr,  dH_All_m, color ='y', label='All')\n",
    "plt.fill_between(z_arr, dH_All_m+dH_All_s,\n",
    "                 dH_All_m-dH_All_s, color='y', alpha=.5)\n",
    "plt.plot(z_arr,  dH_All_CMB_m, color ='g', label='All_CMB')\n",
    "plt.fill_between(z_arr, dH_All_CMB_m+dH_All_CMB_s,\n",
    "                 dH_All_CMB_m-dH_All_CMB_s, color='g', alpha=.5)\n",
    "\n",
    "plt.plot(z_planck, np.zeros_like(z_planck), 'k--', label='Planck')\n",
    "\n",
    "plt.xscale('log')\n",
    "plt.xlabel(\"z\")\n",
    "plt.ylabel(r\"$ \\delta H(z)$\")\n",
    "plt.title(r\"$\\delta H(z) \\, \\left(\\frac{Kms/s}{Mpc} \\right)$\")\n",
    "plt.legend();"
   ]
  },
  {
   "cell_type": "code",
   "execution_count": null,
   "id": "joined-sword",
   "metadata": {},
   "outputs": [],
   "source": [
    "plt.plot(z_arr,  dH_All_m, color ='r', label='All Data')\n",
    "plt.fill_between(z_arr, dH_All_m+dH_All_s,\n",
    "                 dH_All_m-dH_All_s, color='r', alpha=.5)\n",
    "\n",
    "plt.plot(z_arr,  dH_SDSS_m, color ='g', label='SDSS Data')\n",
    "plt.fill_between(z_arr, dH_SDSS_m+dH_SDSS_s, \n",
    "                 dH_SDSS_m-dH_SDSS_s, color='g', alpha=.5)\n",
    "\n",
    "plt.plot(z_arr,  dH_Add_m, color ='y', label='Add Data')\n",
    "plt.fill_between(z_arr, dH_Add_m+dH_Add_s,\n",
    "                 dH_Add_m-dH_Add_s, color='y', alpha=.5)\n",
    "\n",
    "plt.plot(z_planck, np.zeros_like(z_planck), 'k--', label='Planck')\n",
    "\n",
    "plt.xscale('log')\n",
    "plt.xlabel(\"z\")\n",
    "plt.ylabel(r\"$ \\delta H(z)$\")\n",
    "plt.title(r\"$\\delta H(z) \\, \\left(\\frac{Kms/s}{Mpc} \\right)$\")\n",
    "plt.legend();"
   ]
  },
  {
   "cell_type": "code",
   "execution_count": null,
   "id": "prepared-timer",
   "metadata": {},
   "outputs": [],
   "source": [
    "plt.plot(z_arr,  dH_All_CMB_m, color ='r', label='All_CMB Data')\n",
    "plt.fill_between(z_arr, dH_All_CMB_m+dH_All_CMB_s,\n",
    "                 dH_All_CMB_m-dH_All_CMB_s, color='r', alpha=.5)\n",
    "\n",
    "plt.plot(z_arr,  dH_SDSS_CMB_m, color ='g', label='SDSS_CMB Data')\n",
    "plt.fill_between(z_arr, dH_SDSS_CMB_m+dH_SDSS_CMB_s, \n",
    "                 dH_SDSS_CMB_m-dH_SDSS_CMB_s, color='g', alpha=.5)\n",
    "\n",
    "plt.plot(z_arr,  dH_Add_CMB_m, color ='y', label='Add_CMB Data')\n",
    "plt.fill_between(z_arr, dH_Add_CMB_m+dH_Add_CMB_s,\n",
    "                 dH_Add_CMB_m-dH_Add_CMB_s, color='y', alpha=.5)\n",
    "\n",
    "plt.plot(z_planck, np.zeros_like(z_planck), 'k--', label='Planck')\n",
    "\n",
    "plt.xscale('log')\n",
    "plt.xlabel(\"z\")\n",
    "plt.ylabel(r\"$ \\delta H(z)$\")\n",
    "plt.title(r\"$\\delta H(z) \\, \\left(\\frac{Kms/s}{Mpc} \\right)$\")\n",
    "plt.legend();"
   ]
  },
  {
   "cell_type": "markdown",
   "id": "developmental-field",
   "metadata": {},
   "source": [
    "# H gp "
   ]
  },
  {
   "cell_type": "code",
   "execution_count": null,
   "id": "higher-significance",
   "metadata": {},
   "outputs": [],
   "source": [
    "H_DESI_m, H_DESI_s = get_m_s(DESI['Hz'])\n",
    "H_DESI_CMB_m, H_DESI_CMB_s = get_m_s(DESI_CMB['Hz'])\n",
    "H_All_m, H_All_s = get_m_s(All['Hz'])\n",
    "H_All_CMB_m, H_All_CMB_s = get_m_s(All_CMB['Hz'])\n",
    "H_All_CMB_hp_m, H_All_CMB_hp_s = get_m_s(All_CMB_hp['Hz'])\n",
    "H_All_CMB_full_m, H_All_CMB_full_s = get_m_s(All_CMB_full['Hz'])\n",
    "H_All_CMB_geo_gro_m, H_All_CMB_geo_gro_s = get_m_s(All_CMB_geo_gro['Hz'])\n",
    "H_All_FCMB_m, H_All_FCMB_s = get_m_s(All_FCMB['Hz'])\n",
    "H_SDSS_m, H_SDSS_s = get_m_s(SDSS['Hz'])\n",
    "H_SDSS_CMB_m, H_SDSS_CMB_s = get_m_s(SDSS_CMB['Hz'])\n",
    "H_Add_m, H_Add_s = get_m_s(Add['Hz'])\n",
    "H_Add_CMB_m, H_Add_CMB_s = get_m_s(Add_CMB['Hz'])\n",
    "\n",
    "H_All_mean_m, H_All_mean_s = get_m_s(All_mean['Hz'])\n",
    "H_All_CMB_mean_m, H_All_CMB_mean_s = get_m_s(All_CMB_mean['Hz'])\n",
    "H_All_osc_m, H_All_osc_s = get_m_s(All_osc['Hz'])\n",
    "H_All_CMB_osc_m, H_All_CMB_osc_s = get_m_s(All_CMB_osc['Hz'])"
   ]
  },
  {
   "cell_type": "code",
   "execution_count": null,
   "id": "capital-shoot",
   "metadata": {},
   "outputs": [],
   "source": [
    "plt.plot(z_arr,  H_DESI_m, color ='b', label='DESI')\n",
    "plt.fill_between(z_arr, H_DESI_m+H_DESI_s,\n",
    "                 H_DESI_m-H_DESI_s, color='b', alpha=.5)\n",
    "plt.plot(z_arr,  H_DESI_CMB_m, color ='r', label='DESI_CMB')\n",
    "plt.fill_between(z_arr, H_DESI_CMB_m+H_DESI_CMB_s,\n",
    "                 H_DESI_CMB_m-H_DESI_CMB_s, color='r', alpha=.5)\n",
    "\n",
    "plt.plot(z_planck, Planck['Hkms_arr'], 'k--', label='Planck')\n",
    "\n",
    "plt.xlabel(\"z\")\n",
    "plt.ylabel(r\"$H(z)$\")\n",
    "plt.title(r\"$H(z) \\, \\left(\\frac{Kms/s}{Mpc} \\right)$\")\n",
    "plt.legend();"
   ]
  },
  {
   "cell_type": "code",
   "execution_count": null,
   "id": "patent-penguin",
   "metadata": {
    "scrolled": true
   },
   "outputs": [],
   "source": [
    "plt.plot(z_planck, Planck['Hkms_arr'], 'k--', label='Planck')\n",
    "\n",
    "plt.errorbar(CC_data['z'], CC_data['data'], yerr = CC_data['err'], fmt='ko', label='CC')\n",
    "plt.errorbar(BOSS_data['z'], BOSS_data['para_data'], yerr=BOSS_data['para_err'], fmt='ks', label='BOSS DR12')\n",
    "plt.errorbar(eBOSS_data['z'], c/1000/(eBOSS_data['para_data']*eBOSS_data['rd']), \n",
    "             yerr = 1/eBOSS_data['rd']/(np.array([0.47])), fmt='ks', label='eBOSS DR16')\n",
    "\n",
    "plt.plot(z_arr,  H_All_CMB_m, color ='r', label='All+CMB Data')\n",
    "plt.fill_between(z_arr, H_All_CMB_m+H_All_CMB_s, H_All_CMB_m-H_All_CMB_s, color='r', alpha=.5)\n",
    "plt.plot(z_arr,  H_All_CMB_hp_m, color ='k', label='All+CMB_hp Data')\n",
    "plt.fill_between(z_arr, H_All_CMB_hp_m+H_All_CMB_hp_s,\n",
    "                 H_All_CMB_hp_m-H_All_CMB_hp_s, color='k', alpha=.5)\n",
    "plt.plot(z_arr,  H_All_CMB_geo_gro_m, color ='b', label='All+CMB_geo_gro Data')\n",
    "plt.fill_between(z_arr, H_All_CMB_geo_gro_m+H_All_CMB_geo_gro_s,\n",
    "                 H_All_CMB_geo_gro_m-H_All_CMB_geo_gro_s, color='b', alpha=.5)\n",
    "plt.plot(z_arr,  H_All_CMB_full_m, color ='g', label='All+CMB_full Data')\n",
    "plt.fill_between(z_arr, H_All_CMB_full_m+H_All_CMB_full_s,\n",
    "                 H_All_CMB_full_m-H_All_CMB_full_s, color='g', alpha=.5)\n",
    "\n",
    "\n",
    "# axis labels and title\n",
    "plt.xlim(0, 2.5)\n",
    "plt.ylim(50, 300)\n",
    "plt.xlabel(\"z\")\n",
    "plt.ylabel(r\"$H(z)$\")\n",
    "plt.title(r\"$H(z) \\, \\left(\\frac{Kms/s}{Mpc} \\right)$\")\n",
    "plt.legend();\n",
    "\n",
    "os.remove('/mnt/c/Users/Jaime/Desktop/PhD/gp_figures/H_gp_data.pdf')\n",
    "plt.savefig('/mnt/c/Users/Jaime/Desktop/PhD/gp_figures/H_gp_data.pdf')  "
   ]
  },
  {
   "cell_type": "code",
   "execution_count": null,
   "id": "broke-cyprus",
   "metadata": {
    "scrolled": true
   },
   "outputs": [],
   "source": [
    "plt.plot(z_planck, Planck['Hkms_arr'], 'k--', label='Planck')\n",
    "\n",
    "plt.errorbar(CC_data['z'], CC_data['data'], yerr = CC_data['err'], fmt='bo', label='CC')\n",
    "plt.errorbar(BOSS_data['z'], BOSS_data['para_data'], yerr=BOSS_data['para_err'], fmt='bs', label='BOSS DR12')\n",
    "plt.errorbar(eBOSS_data['z'], c/1000/(eBOSS_data['para_data']*eBOSS_data['rd']), \n",
    "             yerr = 1/eBOSS_data['rd']/(np.array([0.47])), fmt='bs', label='eBOSS DR16')\n",
    "\n",
    "plt.plot(z_arr,  H_All_m, color ='r', label='All Data')\n",
    "plt.fill_between(z_arr, H_All_m+H_All_s, H_All_m-H_All_s, color='r', alpha=.5)\n",
    "\n",
    "plt.plot(z_arr,  H_SDSS_m, color ='g', label='SDSS Data')\n",
    "plt.fill_between(z_arr, H_SDSS_m+H_SDSS_s, H_SDSS_m-H_SDSS_s, color='g', alpha=.5)\n",
    "\n",
    "plt.plot(z_arr,  H_Add_m, color ='y', label='Add Data')\n",
    "plt.fill_between(z_arr, H_Add_m+H_Add_s, H_Add_m-H_Add_s, color='y', alpha=.5)\n",
    "\n",
    "# axis labels and title\n",
    "plt.xlim(0, 2.5)\n",
    "plt.ylim(50, 300)\n",
    "plt.xlabel(\"z\")\n",
    "plt.ylabel(r\"$H(z)$\")\n",
    "plt.title(r\"$H(z) \\, \\left(\\frac{Kms/s}{Mpc} \\right)$\")\n",
    "plt.legend();\n",
    "\n",
    "os.remove('/mnt/c/Users/Jaime/Desktop/PhD/gp_figures/H_gp_data.pdf')\n",
    "plt.savefig('/mnt/c/Users/Jaime/Desktop/PhD/gp_figures/H_gp_data.pdf')  "
   ]
  },
  {
   "cell_type": "code",
   "execution_count": null,
   "id": "fewer-toilet",
   "metadata": {
    "scrolled": true
   },
   "outputs": [],
   "source": [
    "plt.plot(z_planck, Planck['Hkms_arr'], 'k--', label='Planck')\n",
    "\n",
    "plt.errorbar(CC_data['z'], CC_data['data'], yerr = CC_data['err'], fmt='bo', label='CC')\n",
    "plt.errorbar(BOSS_data['z'], BOSS_data['para_data'], yerr=BOSS_data['para_err'], fmt='bs', label='BOSS DR12')\n",
    "plt.errorbar(eBOSS_data['z'], c/1000/(eBOSS_data['para_data']*eBOSS_data['rd']), \n",
    "             yerr = 1/eBOSS_data['rd']/(np.array([0.47])), fmt='bs', label='eBOSS DR16')\n",
    "\n",
    "plt.plot(z_arr,  H_All_CMB_m, color ='r', label='All_CMB Data')\n",
    "plt.fill_between(z_arr, H_All_CMB_m+H_All_CMB_s,\n",
    "                 H_All_CMB_m-H_All_CMB_s, color='r', alpha=.5)\n",
    "\n",
    "plt.plot(z_arr,  H_SDSS_CMB_m, color ='g', label='SDSS_CMB Data')\n",
    "plt.fill_between(z_arr, H_SDSS_CMB_m+H_SDSS_CMB_s, \n",
    "                 H_SDSS_CMB_m-H_SDSS_CMB_s, color='g', alpha=.5)\n",
    "\n",
    "plt.plot(z_arr,  H_Add_CMB_m, color ='y', label='Add_CMB Data')\n",
    "plt.fill_between(z_arr, H_Add_CMB_m+H_Add_CMB_s,\n",
    "                 H_Add_CMB_m-H_Add_CMB_s, color='y', alpha=.5)\n",
    "\n",
    "# axis labels and title\n",
    "plt.xlim(0, 2.5)\n",
    "plt.ylim(50, 300)\n",
    "plt.xlabel(\"z\")\n",
    "plt.ylabel(r\"$H(z)$\")\n",
    "plt.title(r\"$H(z) \\, \\left(\\frac{Kms/s}{Mpc} \\right)$\")\n",
    "plt.legend();\n",
    "\n",
    "os.remove('/mnt/c/Users/Jaime/Desktop/PhD/gp_figures/H_gp_data.pdf')\n",
    "plt.savefig('/mnt/c/Users/Jaime/Desktop/PhD/gp_figures/H_gp_data.pdf')  "
   ]
  },
  {
   "cell_type": "markdown",
   "id": "extended-posting",
   "metadata": {},
   "source": [
    "# dM"
   ]
  },
  {
   "cell_type": "code",
   "execution_count": null,
   "id": "alert-functionality",
   "metadata": {},
   "outputs": [],
   "source": [
    "dM_DESI_m, dM_DESI_s = get_m_s(DESI['dMz'])\n",
    "dM_DESI_CMB_m, dM_DESI_CMB_s = get_m_s(DESI_CMB['dMz'])\n",
    "dM_All_m, dM_All_s = get_m_s(All['dMz'])\n",
    "dM_All_CMB_m, dM_All_CMB_s = get_m_s(All_CMB['dMz'])\n",
    "dM_All_CMB_hp_m, dM_All_CMB_hp_s = get_m_s(All_CMB_hp['dMz'])\n",
    "dM_All_CMB_full_m, dM_All_CMB_full_s = get_m_s(All_CMB_full['dMz'])\n",
    "dM_All_CMB_geo_gro_m, dM_All_CMB_geo_gro_s = get_m_s(All_CMB_geo_gro['dMz'])\n",
    "dM_All_FCMB_m, dM_All_FCMB_s = get_m_s(All_FCMB['dMz'])\n",
    "dM_SDSS_m, dM_SDSS_s = get_m_s(SDSS['dMz'])\n",
    "dM_SDSS_CMB_m, dM_SDSS_CMB_s = get_m_s(SDSS_CMB['dMz'])\n",
    "dM_Add_m, dM_Add_s = get_m_s(Add['dMz'])\n",
    "dM_Add_CMB_m, dM_Add_CMB_s = get_m_s(Add_CMB['dMz'])\n",
    "\n",
    "dM_All_mean_m, dM_All_mean_s = get_m_s(All_mean['dMz'])\n",
    "dM_All_CMB_mean_m, dM_All_CMB_mean_s = get_m_s(All_CMB_mean['dMz'])\n",
    "\n",
    "dM_All_osc_m, dM_All_osc_s = get_m_s(All_osc['dMz'])\n",
    "dM_All_CMB_osc_m, dM_All_CMB_osc_s = get_m_s(All_CMB_osc['dMz'])"
   ]
  },
  {
   "cell_type": "code",
   "execution_count": null,
   "id": "strange-melissa",
   "metadata": {},
   "outputs": [],
   "source": [
    "plt.plot(z_arr,  dM_DESI_m, color ='b', label='DESI')\n",
    "plt.fill_between(z_arr, dM_DESI_m+dM_DESI_s,\n",
    "                 dM_DESI_m-dM_DESI_s, color='b', alpha=.5)\n",
    "\n",
    "plt.plot(z_arr,  dM_DESI_CMB_m, color ='r', label='DESI_CMB')\n",
    "plt.fill_between(z_arr, dM_DESI_CMB_m+dM_DESI_CMB_s,\n",
    "                 dM_DESI_CMB_m-dM_DESI_CMB_s, color='r', alpha=.5)\n",
    "\n",
    "\n",
    "plt.plot(z_planck, Planck['dM_arr'], 'k--', label='Planck')\n",
    "\n",
    "plt.xlabel(\"z\")\n",
    "plt.ylabel(r\"$H(z)$\")\n",
    "plt.title(r\"$H(z) \\, \\left(\\frac{Kms/s}{Mpc} \\right)$\")\n",
    "plt.legend();"
   ]
  },
  {
   "cell_type": "code",
   "execution_count": null,
   "id": "toxic-motivation",
   "metadata": {},
   "outputs": [],
   "source": [
    "plt.plot(z_planck, Planck['dM_arr'], 'k--', label='Planck')\n",
    "\n",
    "plt.errorbar(DS17_data['z'], (10**((DS17_data['data']-25+19.49)/5))/(1+DS17_data['z']),\n",
    "             yerr=(10**(DS17_data['err']/5))/(1+DS17_data['z']), fmt='bo', label='DS17')\n",
    "plt.errorbar(BOSS_data['z'], BOSS_data['perp_data'], yerr=BOSS_data['perp_err'], fmt='bs', label='BOSS DR12')\n",
    "plt.errorbar(eBOSS_data['z'], eBOSS_data['perp_data']*eBOSS_data['rd'],\n",
    "             yerr=np.array([0.79])*eBOSS_data['rd'], fmt='bs', label='eBOSS DR16')\n",
    "plt.errorbar(CMB_data['z'], (1/CMB_data['data'])*(100*CMB_data['rd']),\n",
    "             yerr=(1/CMB_data['err'])*1/(100*CMB_data['rd']), fmt='bo', label='CMB')\n",
    "\n",
    "#plt.plot(z_arr,  dM_All_m, color ='r', label='All Data')\n",
    "#plt.fill_between(z_arr, dM_All_m+dM_All_s, dM_All_m-dM_All_s, color='r', alpha=.5)\n",
    "plt.plot(z_arr,  dM_All_CMB_m, color ='y', label='All Data CMB')\n",
    "plt.fill_between(z_arr, dM_All_CMB_m+dM_All_CMB_s, dM_All_CMB_m-dM_All_CMB_s, color='y', alpha=.5)\n",
    "plt.plot(z_arr,  dM_All_FCMB_m, color ='m', label='All Data FCMB')\n",
    "plt.fill_between(z_arr, dM_All_FCMB_m+dM_All_FCMB_s,\n",
    "                 dM_All_FCMB_m-dM_All_FCMB_s, color='m', alpha=.5)\n",
    "\n",
    "plt.xlabel(\"z\")\n",
    "plt.ylabel(r\"$D_M$\")\n",
    "plt.title(r\"$D_M \\, (Mpc)$\")\n",
    "plt.legend();\n",
    "\n",
    "os.remove('/mnt/c/Users/Jaime/Desktop/PhD/gp_figures/DM_gp_data.pdf')\n",
    "plt.savefig('/mnt/c/Users/Jaime/Desktop/PhD/gp_figures/DM_gp_data.pdf')  "
   ]
  },
  {
   "cell_type": "code",
   "execution_count": null,
   "id": "cleared-command",
   "metadata": {},
   "outputs": [],
   "source": [
    "plt.plot(z_planck, Planck['dM_arr'], 'k--', label='Planck')\n",
    "\n",
    "plt.errorbar(DS17_data['z'], (10**((DS17_data['data']-25+19.49)/5))/(1+DS17_data['z']),\n",
    "             yerr=(10**(DS17_data['err']/5))/(1+DS17_data['z']), fmt='bo', label='DS17')\n",
    "plt.errorbar(BOSS_data['z'], BOSS_data['perp_data'], yerr=BOSS_data['perp_err'], fmt='bs', label='BOSS DR12')\n",
    "plt.errorbar(eBOSS_data['z'], eBOSS_data['perp_data']*eBOSS_data['rd'],\n",
    "             yerr=np.array([0.79])*eBOSS_data['rd'], fmt='bs', label='eBOSS DR16')\n",
    "plt.errorbar(CMB_data['z'], (1/CMB_data['data'])*(100*CMB_data['rd']),\n",
    "             yerr=(1/CMB_data['err'])*1/(100*CMB_data['rd']), fmt='bo', label='CMB')\n",
    "\n",
    "plt.plot(z_arr,  dM_All_CMB_m, color ='y', label='All+CMB Data')\n",
    "plt.fill_between(z_arr, dM_All_CMB_m+dM_All_CMB_s, dM_All_CMB_m-dM_All_CMB_s, color='y', alpha=.5)\n",
    "plt.plot(z_arr,  dM_All_CMB_hp_m, color ='m', label='All+CMB_hp Data')\n",
    "plt.fill_between(z_arr, dM_All_CMB_hp_m+dM_All_CMB_hp_s,\n",
    "                 dM_All_CMB_hp_m-dM_All_CMB_hp_s, color='m', alpha=.5)\n",
    "plt.plot(z_arr,  dM_All_CMB_geo_gro_m, color ='g', label='All+CMB_geo_gro Data')\n",
    "plt.fill_between(z_arr, dM_All_CMB_geo_gro_m+dM_All_CMB_geo_gro_s,\n",
    "                 dM_All_CMB_geo_gro_m-dM_All_CMB_geo_gro_s, color='g', alpha=.5)\n",
    "\n",
    "plt.xlabel(\"z\")\n",
    "plt.ylabel(r\"$D_M$\")\n",
    "plt.title(r\"$D_M \\, (Mpc)$\")\n",
    "plt.legend();\n",
    "\n",
    "os.remove('/mnt/c/Users/Jaime/Desktop/PhD/gp_figures/DM_gp_data.pdf')\n",
    "plt.savefig('/mnt/c/Users/Jaime/Desktop/PhD/gp_figures/DM_gp_data.pdf')  "
   ]
  },
  {
   "cell_type": "code",
   "execution_count": null,
   "id": "professional-anxiety",
   "metadata": {},
   "outputs": [],
   "source": [
    "plt.plot(z_planck, Planck['dM_arr'], 'k--', label='Planck')\n",
    "\n",
    "plt.errorbar(DS17_data['z'], (10**((DS17_data['data']-25+19.49)/5))/(1+DS17_data['z']),\n",
    "             yerr=(10**(DS17_data['err']/5))/(1+DS17_data['z']), fmt='ko', label='DS17')\n",
    "plt.errorbar(BOSS_data['z'], BOSS_data['perp_data'], yerr=BOSS_data['perp_err'], fmt='ks', label='BOSS DR12')\n",
    "plt.errorbar(eBOSS_data['z'], eBOSS_data['perp_data']*eBOSS_data['rd'],\n",
    "             yerr=np.array([0.79])*eBOSS_data['rd'], fmt='ks', label='eBOSS DR16')\n",
    "plt.errorbar(CMB_data['z'], (1/CMB_data['data'])*(100*CMB_data['rd']),\n",
    "             yerr=(1/CMB_data['err'])*1/(100*CMB_data['rd']), fmt='ko', label='CMB')\n",
    "\n",
    "plt.plot(z_arr,  dM_All_CMB_m, color ='r', label='All+CMB Data')\n",
    "plt.fill_between(z_arr, dM_All_CMB_m+dM_All_CMB_s, dM_All_CMB_m-dM_All_CMB_s, color='r', alpha=.5)\n",
    "plt.plot(z_arr,  dM_All_CMB_hp_m, color ='k', label='All+CMB_hp Data')\n",
    "plt.fill_between(z_arr, dM_All_CMB_hp_m+dM_All_CMB_hp_s,\n",
    "                 dM_All_CMB_hp_m-dM_All_CMB_hp_s, color='k', alpha=.5)\n",
    "plt.plot(z_arr,  dM_All_CMB_geo_gro_m, color ='b', label='All+CMB_geo_gro Data')\n",
    "plt.fill_between(z_arr, dM_All_CMB_geo_gro_m+dM_All_CMB_geo_gro_s,\n",
    "                 dM_All_CMB_geo_gro_m-dM_All_CMB_geo_gro_s, color='b', alpha=.5)\n",
    "#plt.plot(z_arr,  dM_All_CMB_full_m, color ='g', label='All+CMB_full Data')\n",
    "#plt.fill_between(z_arr, dM_All_CMB_full_m+dM_All_CMB_full_s,\n",
    "#                 dM_All_CMB_full_m-dM_All_CMB_full_s, color='g', alpha=.5)\n",
    "\n",
    "plt.xlabel(\"z\")\n",
    "plt.ylabel(r\"$D_M$\")\n",
    "plt.title(r\"$D_M \\, (Mpc)$\")\n",
    "plt.legend();\n",
    "\n",
    "os.remove('/mnt/c/Users/Jaime/Desktop/PhD/gp_figures/DM_gp_data.pdf')\n",
    "plt.savefig('/mnt/c/Users/Jaime/Desktop/PhD/gp_figures/DM_gp_data.pdf')  "
   ]
  },
  {
   "cell_type": "code",
   "execution_count": null,
   "id": "synthetic-color",
   "metadata": {},
   "outputs": [],
   "source": [
    "plt.plot(z_planck, Planck['dM_arr'], 'k--', label='Planck')\n",
    "\n",
    "plt.errorbar(DS17_data['z'], (10**((DS17_data['data']-25+19.49)/5))/(1+DS17_data['z']),\n",
    "             yerr=(10**(DS17_data['err']/5))/(1+DS17_data['z']), fmt='bo', label='DS17')\n",
    "plt.errorbar(BOSS_data['z'], BOSS_data['perp_data'], yerr=BOSS_data['perp_err'], fmt='bs', label='BOSS DR12')\n",
    "plt.errorbar(eBOSS_data['z'], eBOSS_data['perp_data']*eBOSS_data['rd'],\n",
    "             yerr=np.array([0.79])*eBOSS_data['rd'], fmt='bs', label='eBOSS DR16')\n",
    "plt.errorbar(CMB_data['z'], (1/CMB_data['data'])*(100*CMB_data['rd']),\n",
    "             yerr=(1/CMB_data['err'])*1/(100*CMB_data['rd']), fmt='bo', label='CMB')\n",
    "\n",
    "plt.plot(z_arr,  dM_All_m, color ='r', label='All Data')\n",
    "plt.fill_between(z_arr, dM_All_m+dM_All_s, dM_All_m-dM_All_s, color='r', alpha=.5)\n",
    "plt.plot(z_arr,  dM_SDSS_m, color ='g', label='SDSS Data')\n",
    "plt.fill_between(z_arr, dM_SDSS_m+dM_SDSS_s, dM_SDSS_m-dM_SDSS_s, color='g', alpha=.5)\n",
    "plt.plot(z_arr,  dM_Add_m, color ='y', label='Add Data')\n",
    "plt.fill_between(z_arr, dM_Add_m+dM_Add_s, dM_Add_m-dM_Add_s, color='y', alpha=.5)\n",
    "\n",
    "\n",
    "plt.xlabel(\"z\")\n",
    "plt.ylabel(r\"$D_M$\")\n",
    "plt.title(r\"$D_M \\, (Mpc)$\")\n",
    "plt.legend();\n",
    "\n",
    "os.remove('/mnt/c/Users/Jaime/Desktop/PhD/gp_figures/DM_gp_data.pdf')\n",
    "plt.savefig('/mnt/c/Users/Jaime/Desktop/PhD/gp_figures/DM_gp_data.pdf')  "
   ]
  },
  {
   "cell_type": "code",
   "execution_count": null,
   "id": "bigger-decrease",
   "metadata": {},
   "outputs": [],
   "source": [
    "plt.plot(z_planck, Planck['dM_arr'], 'k--', label='Planck')\n",
    "\n",
    "plt.errorbar(DS17_data['z'], (10**((DS17_data['data']-25+19.49)/5))/(1+DS17_data['z']),\n",
    "             yerr=(10**(DS17_data['err']/5))/(1+DS17_data['z']), fmt='bo', label='DS17')\n",
    "plt.errorbar(BOSS_data['z'], BOSS_data['perp_data'], yerr=BOSS_data['perp_err'], fmt='bs', label='BOSS DR12')\n",
    "plt.errorbar(eBOSS_data['z'], eBOSS_data['perp_data']*eBOSS_data['rd'],\n",
    "             yerr=np.array([0.79])*eBOSS_data['rd'], fmt='bs', label='eBOSS DR16')\n",
    "plt.errorbar(CMB_data['z'], (1/CMB_data['data'])*(100*CMB_data['rd']),\n",
    "             yerr=(1/CMB_data['err'])*1/(100*CMB_data['rd']), fmt='bo', label='CMB')\n",
    "\n",
    "plt.plot(z_arr,  dM_All_CMB_m, color ='r', label='All_CMB Data')\n",
    "plt.fill_between(z_arr, dM_All_CMB_m+dM_All_CMB_s,\n",
    "                 dM_All_CMB_m-dM_All_CMB_s, color='r', alpha=.5)\n",
    "plt.plot(z_arr,  dM_SDSS_CMB_m, color ='g', label='SDSS_CMB Data')\n",
    "plt.fill_between(z_arr, dM_SDSS_CMB_m+dM_SDSS_CMB_s,\n",
    "                 dM_SDSS_CMB_m-dM_SDSS_CMB_s, color='g', alpha=.5)\n",
    "plt.plot(z_arr,  dM_Add_CMB_m, color ='y', label='Add_CMB Data')\n",
    "plt.fill_between(z_arr, dM_Add_CMB_m+dM_Add_CMB_s,\n",
    "                 dM_Add_CMB_m-dM_Add_CMB_s, color='y', alpha=.5)\n",
    "\n",
    "\n",
    "plt.xlabel(\"z\")\n",
    "plt.ylabel(r\"$D_M$\")\n",
    "plt.title(r\"$D_M \\, (Mpc)$\")\n",
    "plt.legend();\n",
    "\n",
    "os.remove('/mnt/c/Users/Jaime/Desktop/PhD/gp_figures/DM_gp_data.pdf')\n",
    "plt.savefig('/mnt/c/Users/Jaime/Desktop/PhD/gp_figures/DM_gp_data.pdf')  "
   ]
  },
  {
   "cell_type": "markdown",
   "id": "described-transcription",
   "metadata": {},
   "source": [
    "# fs8"
   ]
  },
  {
   "cell_type": "code",
   "execution_count": null,
   "id": "pediatric-cleveland",
   "metadata": {},
   "outputs": [],
   "source": [
    "fs8_DESI_m, fs8_DESI_s = get_m_s(DESI['fs8z'])\n",
    "fs8_DESI_CMB_m, fs8_DESI_CMB_s = get_m_s(DESI_CMB['fs8z'])\n",
    "fs8_All_m, fs8_All_s = get_m_s(All['fs8z'])\n",
    "fs8_All_CMB_m, fs8_All_CMB_s = get_m_s(All_CMB['fs8z'])\n",
    "fs8_All_CMB_full_m, fs8_All_CMB_full_s = get_m_s(All_CMB_full['fs8z'])\n",
    "fs8_All_CMB_geo_gro_m, fs8_All_CMB_geo_gro_s = get_m_s(All_CMB_geo_gro['fs8z'])\n",
    "fs8_All_CMB_hp_m, fs8_All_CMB_hp_s = get_m_s(All_CMB_hp['fs8z'])\n",
    "fs8_All_CMB_Xi_m, fs8_All_CMB_Xi_s = get_m_s(All_CMB_Xi['fs8z'])\n",
    "fs8_All_FCMB_m, fs8_All_FCMB_s = get_m_s(All_FCMB['fs8z'])\n",
    "fs8_SDSS_m, fs8_SDSS_s = get_m_s(SDSS['fs8z'])\n",
    "fs8_SDSS_CMB_m, fs8_SDSS_CMB_s = get_m_s(SDSS_CMB['fs8z'])\n",
    "fs8_Add_m, fs8_Add_s = get_m_s(Add['fs8z'])\n",
    "fs8_Add_CMB_m, fs8_Add_CMB_s = get_m_s(Add_CMB['fs8z'])"
   ]
  },
  {
   "cell_type": "code",
   "execution_count": null,
   "id": "included-hampton",
   "metadata": {},
   "outputs": [],
   "source": [
    "plt.plot(z_arr,  fs8_DESI_m, color ='r', label='DESI')\n",
    "plt.fill_between(z_arr, fs8_DESI_m+fs8_DESI_s,\n",
    "                 fs8_DESI_m-fs8_DESI_s, color='r', alpha=.5)\n",
    "plt.plot(z_arr,  fs8_DESI_CMB_m, color ='b', label='DESI_CMB')\n",
    "plt.fill_between(z_arr, fs8_DESI_CMB_m+fs8_DESI_CMB_s,\n",
    "                 fs8_DESI_CMB_m-fs8_DESI_CMB_s, color='b', alpha=.5)\n",
    "\n",
    "plt.plot(z_planck, Planck['fs8_arr'], 'k--', label='Planck')\n",
    "\n",
    "\n",
    "plt.xlim(0, 2.5)\n",
    "plt.ylim(0.25, 0.55)\n",
    "plt.xlabel(\"z\")\n",
    "plt.ylabel(r\"$f \\sigma_8$\")\n",
    "plt.title(r\"$f \\sigma_8$\")\n",
    "plt.legend();"
   ]
  },
  {
   "cell_type": "code",
   "execution_count": null,
   "id": "bronze-earth",
   "metadata": {
    "scrolled": true
   },
   "outputs": [],
   "source": [
    "plt.plot(z_planck, Planck['fs8_arr'], 'k--', label='Planck')\n",
    "plt.errorbar(BOSS_data['z'], BOSS_data['fs8_data'], yerr=BOSS_data['fs8_err'], fmt='ks', label='BOSS DR12')\n",
    "plt.errorbar(eBOSS_data['z'], eBOSS_data['fs8_data'], yerr=eBOSS_data['fs8_err'], fmt='ks', label='eBOSS DR16')\n",
    "plt.errorbar(Wigglez_data['z'], Wigglez_data['data'], yerr=Wigglez_data['err'], fmt='ko', label='Wigglez')\n",
    "plt.errorbar(DSS_data['z'], DSS_data['data'], yerr=DSS_data['err'], fmt='ko', label='DSS')\n",
    "\n",
    "\n",
    "plt.plot(z_arr,  fs8_All_CMB_full_m, color ='g', label='All Data_CMB_full')\n",
    "plt.fill_between(z_arr, fs8_All_CMB_full_m+fs8_All_CMB_full_s,\n",
    "                 fs8_All_CMB_full_m-fs8_All_CMB_full_s, color='g', alpha=.5)\n",
    "plt.plot(z_arr,  fs8_All_CMB_geo_gro_m, color ='b', label='All Data_CMB_geo_gro')\n",
    "plt.fill_between(z_arr, fs8_All_CMB_geo_gro_m+fs8_All_CMB_geo_gro_s,\n",
    "                 fs8_All_CMB_geo_gro_m-fs8_All_CMB_geo_gro_s, color='b', alpha=.5)\n",
    "plt.plot(z_arr,  fs8_All_CMB_Xi_m, color ='g', label='All Data_CMB_Xi')\n",
    "plt.fill_between(z_arr, fs8_All_CMB_Xi_m+fs8_All_CMB_Xi_s,\n",
    "                 fs8_All_CMB_Xi_m-fs8_All_CMB_Xi_s, color='g', alpha=.5)\n",
    "plt.plot(z_arr,  fs8_All_CMB_hp_m, color ='k', label='All Data_CMB_hp')\n",
    "plt.fill_between(z_arr, fs8_All_CMB_hp_m+fs8_All_CMB_hp_s,\n",
    "                 fs8_All_CMB_hp_m-fs8_All_CMB_hp_s, color='k', alpha=.5)\n",
    "plt.plot(z_arr,  fs8_All_CMB_m, color ='r', label='All Data_CMB')\n",
    "plt.fill_between(z_arr, fs8_All_CMB_m+fs8_All_CMB_s,\n",
    "                 fs8_All_CMB_m-fs8_All_CMB_s, color='r', alpha=.5)\n",
    "\n",
    "\n",
    "plt.xlim(-0.05, 2.5)\n",
    "plt.ylim(0.25, 0.55)\n",
    "plt.xlabel(\"z\")\n",
    "plt.ylabel(r\"$f \\sigma_8$\")\n",
    "plt.title(r\"$f \\sigma_8$\")\n",
    "plt.legend();\n",
    "\n",
    "os.remove('/mnt/c/Users/Jaime/Desktop/PhD/gp_figures/fs8_gp_data.pdf')\n",
    "plt.savefig('/mnt/c/Users/Jaime/Desktop/PhD/gp_figures/fs8_gp_data.pdf')  "
   ]
  },
  {
   "cell_type": "code",
   "execution_count": null,
   "id": "severe-print",
   "metadata": {
    "scrolled": true
   },
   "outputs": [],
   "source": [
    "plt.plot(z_planck, Planck['fs8_arr'], 'k--', label='Planck')\n",
    "plt.errorbar(BOSS_data['z'], BOSS_data['fs8_data'], yerr=BOSS_data['fs8_err'], fmt='bs', label='BOSS DR12')\n",
    "plt.errorbar(eBOSS_data['z'], eBOSS_data['fs8_data'], yerr=eBOSS_data['fs8_err'], fmt='bs', label='eBOSS DR16')\n",
    "plt.errorbar(Wigglez_data['z'], Wigglez_data['data'], yerr=Wigglez_data['err'], fmt='bo', label='Wigglez')\n",
    "plt.errorbar(DSS_data['z'], DSS_data['data'], yerr=DSS_data['err'], fmt='bo', label='DSS')\n",
    "\n",
    "plt.plot(z_arr,  fs8_All_m, color ='r', label='All Data')\n",
    "plt.fill_between(z_arr, fs8_All_m+fs8_All_s, fs8_All_m-fs8_All_s, color='r', alpha=.5)\n",
    "plt.plot(z_arr,  fs8_SDSS_m, color ='g', label='SDSS Data')\n",
    "plt.fill_between(z_arr, fs8_SDSS_m+fs8_SDSS_s, fs8_SDSS_m-fs8_SDSS_s, color='g', alpha=.5)\n",
    "plt.plot(z_arr,  fs8_Add_m, color ='y', label='Add Data')\n",
    "plt.fill_between(z_arr, fs8_Add_m+fs8_Add_s, fs8_Add_m-fs8_Add_s, color='y', alpha=.5)\n",
    "\n",
    "plt.xlim(-0.05, 2.5)\n",
    "plt.ylim(0.25, 0.55)\n",
    "plt.xlabel(\"z\")\n",
    "plt.ylabel(r\"$f \\sigma_8$\")\n",
    "plt.title(r\"$f \\sigma_8$\")\n",
    "plt.legend();\n",
    "\n",
    "os.remove('/mnt/c/Users/Jaime/Desktop/PhD/gp_figures/fs8_gp_data.pdf')\n",
    "plt.savefig('/mnt/c/Users/Jaime/Desktop/PhD/gp_figures/fs8_gp_data.pdf')  "
   ]
  },
  {
   "cell_type": "code",
   "execution_count": null,
   "id": "rough-finder",
   "metadata": {
    "scrolled": true
   },
   "outputs": [],
   "source": [
    "plt.plot(z_planck, Planck['fs8_arr'], 'k--', label='Planck')\n",
    "plt.errorbar(BOSS_data['z'], BOSS_data['fs8_data'], yerr=BOSS_data['fs8_err'], fmt='bs', label='BOSS DR12')\n",
    "plt.errorbar(eBOSS_data['z'], eBOSS_data['fs8_data'], yerr=eBOSS_data['fs8_err'], fmt='bs', label='eBOSS DR16')\n",
    "plt.errorbar(Wigglez_data['z'], Wigglez_data['data'], yerr=Wigglez_data['err'], fmt='bo', label='Wigglez')\n",
    "plt.errorbar(DSS_data['z'], DSS_data['data'], yerr=DSS_data['err'], fmt='bo', label='DSS')\n",
    "\n",
    "plt.plot(z_arr,  fs8_All_CMB_m, color ='r', label='All_CMB Data')\n",
    "plt.fill_between(z_arr, fs8_All_CMB_m+fs8_All_CMB_s,\n",
    "                 fs8_All_CMB_m-fs8_All_CMB_s, color='r', alpha=.5)\n",
    "plt.plot(z_arr,  fs8_SDSS_m, color ='g', label='SDSS_CMB Data')\n",
    "plt.fill_between(z_arr, fs8_SDSS_CMB_m+fs8_SDSS_CMB_s,\n",
    "                 fs8_SDSS_CMB_m-fs8_SDSS_CMB_s, color='g', alpha=.5)\n",
    "plt.plot(z_arr,  fs8_Add_CMB_m, color ='y', label='Add Data')\n",
    "plt.fill_between(z_arr, fs8_Add_CMB_m+fs8_Add_CMB_s,\n",
    "                 fs8_Add_CMB_m-fs8_Add_CMB_s, color='y', alpha=.5)\n",
    "\n",
    "plt.xlim(-0.05, 2.5)\n",
    "plt.ylim(0.25, 0.55)\n",
    "plt.xlabel(\"z\")\n",
    "plt.ylabel(r\"$f \\sigma_8$\")\n",
    "plt.title(r\"$f \\sigma_8$\")\n",
    "plt.legend();\n",
    "\n",
    "os.remove('/mnt/c/Users/Jaime/Desktop/PhD/gp_figures/fs8_gp_data.pdf')\n",
    "plt.savefig('/mnt/c/Users/Jaime/Desktop/PhD/gp_figures/fs8_gp_data.pdf')  "
   ]
  },
  {
   "cell_type": "code",
   "execution_count": null,
   "id": "furnished-processing",
   "metadata": {},
   "outputs": [],
   "source": []
  },
  {
   "cell_type": "code",
   "execution_count": null,
   "id": "collect-affiliation",
   "metadata": {},
   "outputs": [],
   "source": []
  },
  {
   "cell_type": "code",
   "execution_count": null,
   "id": "atmospheric-indication",
   "metadata": {},
   "outputs": [],
   "source": []
  },
  {
   "cell_type": "code",
   "execution_count": null,
   "id": "heated-gibraltar",
   "metadata": {},
   "outputs": [],
   "source": []
  }
 ],
 "metadata": {
  "kernelspec": {
   "display_name": "Python 3",
   "language": "python",
   "name": "python3"
  },
  "language_info": {
   "codemirror_mode": {
    "name": "ipython",
    "version": 3
   },
   "file_extension": ".py",
   "mimetype": "text/x-python",
   "name": "python",
   "nbconvert_exporter": "python",
   "pygments_lexer": "ipython3",
   "version": "3.8.5"
  }
 },
 "nbformat": 4,
 "nbformat_minor": 5
}

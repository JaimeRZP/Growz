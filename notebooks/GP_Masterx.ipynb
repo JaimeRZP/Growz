{
 "cells": [
  {
   "cell_type": "code",
   "execution_count": 1,
   "id": "failing-relaxation",
   "metadata": {},
   "outputs": [
    {
     "name": "stderr",
     "output_type": "stream",
     "text": [
      "WARNING (theano.tensor.blas): Using NumPy C-API based implementation for BLAS functions.\n"
     ]
    }
   ],
   "source": [
    "import matplotlib.pyplot as plt\n",
    "import numpy as np\n",
    "import pymc3 as pm\n",
    "import scipy as sp\n",
    "import pyccl as ccl\n",
    "import theano\n",
    "import theano.tensor as tt\n",
    "import os\n",
    "import utils\n",
    "import make_data\n",
    "from scipy.linalg import block_diag\n",
    "theano.config.exception_verbosity='high'\n",
    "%matplotlib inline"
   ]
  },
  {
   "cell_type": "markdown",
   "id": "oriented-infrastructure",
   "metadata": {},
   "source": [
    "# Settings"
   ]
  },
  {
   "cell_type": "code",
   "execution_count": 2,
   "id": "antique-purse",
   "metadata": {
    "scrolled": true
   },
   "outputs": [],
   "source": [
    "z_max = 1110\n",
    "res = 200\n",
    "x_arr = np.linspace(0, np.log(1+z_max), res)\n",
    "dx = np.mean(np.diff(x_arr))\n",
    "z_arr = np.exp(x_arr)-1\n",
    "a_arr = 1./(1+z_arr)\n",
    "\n",
    "path = '/home/jaimerz/PhD/Growz/data/products'\n",
    "\n",
    "\n",
    "tools = utils.utils()\n",
    "c = tools.c\n",
    "data = make_data.make_data(z_max, res , path)\n",
    "\n",
    "\n",
    "DESI = data.get_DESI(new=True)\n",
    "WFIRST = data.get_WFIRST(new=True)\n",
    "CC = data.get_CC(new=True)\n",
    "DSS = data.get_DSS(new=True)\n",
    "BOSS = data.get_BOSS(new=True)\n",
    "eBOSS = data.get_eBOSS(new=True)\n",
    "Wigglez = data.get_Wigglez(new=True)\n",
    "DS17 = data.get_DS17(new=True)\n",
    "CMB = data.get_CMB(new=True)\n",
    "FCMB = data.get_FCMB(new=True)"
   ]
  },
  {
   "cell_type": "code",
   "execution_count": 3,
   "id": "duplicate-denver",
   "metadata": {},
   "outputs": [],
   "source": [
    "n_samples = 100\n",
    "n_tune = 100\n",
    "datadict = {'DESI': DESI,\n",
    "            'WFIRST': WFIRST,\n",
    "            'CC': CC,\n",
    "            'DS17': DS17, \n",
    "            'BOSS': BOSS,\n",
    "            'eBOSS': eBOSS,\n",
    "            'Wigglez': Wigglez,\n",
    "            'DSS': DSS,\n",
    "            'CMB': CMB, \n",
    "            'FCMB': FCMB}\n",
    "\n",
    "#datasets = ['CC', 'DS17', 'BOSS', 'eBOSS', 'CMB']\n",
    "datasets = ['DESI', 'CMB']\n",
    "\n",
    "need_dM = ['DESI', 'BOSS', 'eBOSS', 'Wigglez', 'DS17', 'CMB']\n",
    "need_fs8 = ['DESI', 'BOSS', 'eBOSS', 'Wigglez', 'DSS']\n",
    "need_rd = ['BOSS', 'eBOSS', 'CMB']\n",
    "\n",
    "if any(dataset in datasets for dataset in need_dM):\n",
    "    get_dM=True \n",
    "else:\n",
    "    get_dM=False\n",
    "    \n",
    "if any(dataset in datasets for dataset in need_fs8):\n",
    "    get_fs8=True\n",
    "else:\n",
    "    get_fs8=False\n",
    "    \n",
    "if any(dataset in datasets for dataset in need_rd):\n",
    "    get_rd = True\n",
    "else:\n",
    "    get_rd = False"
   ]
  },
  {
   "cell_type": "code",
   "execution_count": 4,
   "id": "fifty-science",
   "metadata": {},
   "outputs": [
    {
     "data": {
      "text/plain": [
       "array([7.32047995e+01, 7.41636320e+01, 8.12936089e+01, 8.49825310e+01,\n",
       "       9.37885119e+01, 9.73509651e+01, 1.00841842e+02, 1.11122520e+02,\n",
       "       1.16173373e+02, 1.24170775e+02, 1.30630072e+02, 1.38420304e+02,\n",
       "       1.45052596e+02, 1.52948203e+02, 1.65122735e+02, 1.66157789e+02,\n",
       "       1.70575940e+02, 1.95455613e+02, 5.57891352e+02, 8.50594176e+02,\n",
       "       1.04690855e+03, 1.25051881e+03, 1.37502048e+03, 1.47241811e+03,\n",
       "       1.57534483e+03, 1.65710982e+03, 1.70827769e+03, 1.73945313e+03,\n",
       "       1.76697813e+03, 1.78947526e+03, 1.82429233e+03, 1.81067394e+03,\n",
       "       1.77183864e+03, 1.84092349e+03, 1.88115921e+03, 1.83597601e+03,\n",
       "       4.29317219e-01, 4.44936025e-01, 4.53978384e-01, 4.46108770e-01,\n",
       "       4.63944929e-01, 4.60239158e-01, 4.51238124e-01, 4.39809794e-01,\n",
       "       4.34005748e-01, 4.22418487e-01, 4.13355487e-01, 3.98984112e-01,\n",
       "       3.97135590e-01, 3.77510189e-01, 3.78203916e-01, 3.93030566e-01,\n",
       "       3.67141965e-01, 3.27607370e-01])"
      ]
     },
     "execution_count": 4,
     "metadata": {},
     "output_type": "execute_result"
    }
   ],
   "source": [
    "DESI['data']"
   ]
  },
  {
   "cell_type": "code",
   "execution_count": 5,
   "id": "prospective-effect",
   "metadata": {},
   "outputs": [
    {
     "data": {
      "text/plain": [
       "array([1.02340708])"
      ]
     },
     "execution_count": 5,
     "metadata": {},
     "output_type": "execute_result"
    }
   ],
   "source": [
    "CMB['data']"
   ]
  },
  {
   "cell_type": "code",
   "execution_count": 6,
   "id": "finished-wednesday",
   "metadata": {},
   "outputs": [],
   "source": [
    "data = np.array([])\n",
    "data_cov = np.array([])\n",
    "for dataset_name in datasets:\n",
    "    dataset = datadict[dataset_name]\n",
    "    data = np.concatenate([data, dataset['data']])\n",
    "    data_cov = block_diag(data_cov, dataset['cov'])\n",
    "data_cov = data_cov[1:]"
   ]
  },
  {
   "cell_type": "markdown",
   "id": "collected-twins",
   "metadata": {},
   "source": [
    "# Plotting"
   ]
  },
  {
   "cell_type": "code",
   "execution_count": 7,
   "id": "certified-intention",
   "metadata": {},
   "outputs": [],
   "source": [
    "z_planck = z_arr[z_arr<1085]\n",
    "Planck = tools.get_preds(z_planck, mode='Planck')"
   ]
  },
  {
   "cell_type": "code",
   "execution_count": 8,
   "id": "third-barrel",
   "metadata": {},
   "outputs": [
    {
     "data": {
      "image/png": "[encoded data removed]",
      "text/plain": [
       "<Figure size 432x288 with 1 Axes>"
      ]
     },
     "metadata": {
      "needs_background": "light"
     },
     "output_type": "display_data"
    }
   ],
   "source": [
    "plt.plot(z_planck, Planck['Hkms_arr'], \"k--\", label='Planck')\n",
    "plt.errorbar(CC['z'], CC['data'], yerr = CC['err'], fmt='bo', label='CC')\n",
    "#plt.errorbar(FCMB['z'], FCMB['data'], yerr = FCMB['err'], fmt='go', label='FCMB')\n",
    "plt.errorbar(BOSS['z'], BOSS['para_data'], yerr=BOSS['para_err'], fmt='ro', label='BOSS DR12')\n",
    "plt.errorbar(eBOSS['z'], c/1000/(eBOSS['para_data']*eBOSS['rd']), yerr = 1/eBOSS['rd']/(np.array([0.47])), fmt='mo', label='eBOSS DR16')\n",
    "\n",
    "\n",
    "# axis labels and title\n",
    "plt.xlabel(\"z\")\n",
    "plt.ylabel(r\"$H(z)$\")\n",
    "plt.title(r\"$H(z) \\, \\left(\\frac{Kms/s}{Mpc} \\right)$\")\n",
    "plt.legend();\n",
    "os.remove('/mnt/c/Users/Jaime/Desktop/PhD/gp_figures/H_data.pdf')\n",
    "plt.savefig('/mnt/c/Users/Jaime/Desktop/PhD/gp_figures/H_data.pdf')  "
   ]
  },
  {
   "cell_type": "code",
   "execution_count": 9,
   "id": "completed-machine",
   "metadata": {},
   "outputs": [
    {
     "data": {
      "image/png": "[encoded data removed]",
      "text/plain": [
       "<Figure size 432x288 with 1 Axes>"
      ]
     },
     "metadata": {
      "needs_background": "light"
     },
     "output_type": "display_data"
    }
   ],
   "source": [
    "plt.plot(z_planck, Planck['Hkms_arr'], \"k--\", label='Planck')\n",
    "plt.errorbar(DESI['z'], DESI['H_data'], yerr = DESI['H_err'], fmt='bo', label='DESI')\n",
    "\n",
    "\n",
    "# axis labels and title\n",
    "plt.xlim(-0.1, 2.5)\n",
    "plt.ylim(50, 300)\n",
    "plt.xlabel(\"z\")\n",
    "plt.ylabel(r\"$H(z)$\")\n",
    "plt.title(r\"$H(z) \\, \\left(\\frac{Kms/s}{Mpc} \\right)$\")\n",
    "plt.legend();\n",
    "os.remove('/mnt/c/Users/Jaime/Desktop/PhD/gp_figures/H_forecast.pdf')\n",
    "plt.savefig('/mnt/c/Users/Jaime/Desktop/PhD/gp_figures/H_forecast.pdf')  "
   ]
  },
  {
   "cell_type": "code",
   "execution_count": 10,
   "id": "native-pilot",
   "metadata": {},
   "outputs": [
    {
     "data": {
      "image/png": "[encoded data removed]",
      "text/plain": [
       "<Figure size 432x288 with 1 Axes>"
      ]
     },
     "metadata": {
      "needs_background": "light"
     },
     "output_type": "display_data"
    }
   ],
   "source": [
    "plt.plot(z_planck, Planck['dM_arr'], \"k--\", label='Planck')\n",
    "plt.errorbar(DS17['z'], (10**((DS17['data']-25+19.2)/5))/(1+DS17['z']),\n",
    "             yerr=(10**(DS17['err']/5))/(1+DS17['z']), fmt='co', label='DS17')\n",
    "plt.errorbar(BOSS['z'], BOSS['perp_data'], yerr=BOSS['perp_err'], fmt='ro', label='BOSS DR12')\n",
    "plt.errorbar(eBOSS['z'], eBOSS['perp_data']*eBOSS['rd'], yerr=np.array([0.79])*eBOSS['rd'], fmt='mo', label='eBOSS DR16')\n",
    "plt.errorbar(CMB['z'], (1/CMB['data'])*(100*CMB['rd']), yerr=(1/CMB['err'])*1/(100*CMB['rd']), fmt='go', label='CMB')\n",
    "\n",
    "plt.xlabel(\"z\")\n",
    "plt.ylabel(r\"$D_M$\")\n",
    "plt.title(r\"$D_M \\, (Mpc)$\")\n",
    "plt.legend();\n",
    "os.remove('/mnt/c/Users/Jaime/Desktop/PhD/gp_figures/DM_data.pdf')\n",
    "plt.savefig('/mnt/c/Users/Jaime/Desktop/PhD/gp_figures/DM_data.pdf')  "
   ]
  },
  {
   "cell_type": "code",
   "execution_count": 11,
   "id": "transsexual-consideration",
   "metadata": {},
   "outputs": [
    {
     "data": {
      "image/png": "[encoded data removed]",
      "text/plain": [
       "<Figure size 432x288 with 1 Axes>"
      ]
     },
     "metadata": {
      "needs_background": "light"
     },
     "output_type": "display_data"
    }
   ],
   "source": [
    "plt.plot(z_planck, Planck['dM_arr'], \"k--\", label='Planck')\n",
    "plt.errorbar(DS17['z'], (10**((DS17['data']-25+19.2)/5))/(1+DS17['z']),\n",
    "             yerr=(10**(DS17['err']/5))/(1+DS17['z']), fmt='co', label='DS17')\n",
    "plt.errorbar(BOSS['z'], BOSS['perp_data'], yerr=BOSS['perp_err'], fmt='ro', label='BOSS DR12')\n",
    "plt.errorbar(eBOSS['z'], eBOSS['perp_data']*eBOSS['rd'], yerr=np.array([0.79])*eBOSS['rd'], fmt='mo', label='eBOSS DR16')\n",
    "\n",
    "# axis labels and title\n",
    "plt.xlim(-0.1, 2.5)\n",
    "plt.ylim(0, 5000)\n",
    "plt.xlabel(\"z\")\n",
    "plt.ylabel(r\"$D_M$\")\n",
    "plt.title(r\"$D_M \\, (Mpc)$\")\n",
    "plt.legend();\n",
    "os.remove('/mnt/c/Users/Jaime/Desktop/PhD/gp_figures/DM_data.pdf')\n",
    "plt.savefig('/mnt/c/Users/Jaime/Desktop/PhD/gp_figures/DM_data.pdf')  "
   ]
  },
  {
   "cell_type": "code",
   "execution_count": 12,
   "id": "treated-accountability",
   "metadata": {},
   "outputs": [
    {
     "data": {
      "image/png": "[encoded data removed]",
      "text/plain": [
       "<Figure size 432x288 with 1 Axes>"
      ]
     },
     "metadata": {
      "needs_background": "light"
     },
     "output_type": "display_data"
    }
   ],
   "source": [
    "plt.plot(z_planck, Planck['dM_arr'], \"k--\", label='Planck')\n",
    "plt.errorbar(DESI['z'], (1+DESI['z'])*DESI['dA_data'], yerr=DESI['dA_err'], fmt='bo', label='DESI')\n",
    "\n",
    "# axis labels and title\n",
    "plt.xlim(-0.1, 2.5)\n",
    "plt.ylim(0, 5000)\n",
    "plt.xlabel(\"z\")\n",
    "plt.ylabel(r\"$D_M$\")\n",
    "plt.title(r\"$D_M \\, (Mpc)$\")\n",
    "plt.legend();\n",
    "\n",
    "os.remove('/mnt/c/Users/Jaime/Desktop/PhD/gp_figures/DM_forecast.pdf')\n",
    "plt.savefig('/mnt/c/Users/Jaime/Desktop/PhD/gp_figures/DM_forecast.pdf')  "
   ]
  },
  {
   "cell_type": "code",
   "execution_count": 13,
   "id": "exotic-onion",
   "metadata": {},
   "outputs": [
    {
     "data": {
      "image/png": "[encoded data removed]",
      "text/plain": [
       "<Figure size 432x288 with 1 Axes>"
      ]
     },
     "metadata": {
      "needs_background": "light"
     },
     "output_type": "display_data"
    }
   ],
   "source": [
    "plt.plot(z_planck, Planck['f_arr']*Planck['s8_arr'], \"k--\", label='Planck')\n",
    "plt.errorbar(BOSS['z'], BOSS['fs8_data'], yerr=BOSS['fs8_err'], fmt='ro', label='BOSS DR12')\n",
    "plt.errorbar(eBOSS['z'], eBOSS['fs8_data'], yerr=eBOSS['fs8_err'], fmt='mo', label='eBOSS DR16')\n",
    "plt.errorbar(Wigglez['z'], Wigglez['data'], yerr=Wigglez['err'], fmt='yo', label='Wigglez')\n",
    "plt.errorbar(DSS['z'], DSS['data'], yerr=DSS['err'], fmt='go', label='DSS')\n",
    "\n",
    "\n",
    "# axis labels and title\n",
    "plt.xlim(-0.1, 2.5)\n",
    "plt.ylim(0.3, 0.6)\n",
    "plt.xlabel(\"z\")\n",
    "plt.ylabel(r\"$f \\sigma_8$\")\n",
    "plt.title(r\"$f \\sigma_8$\")\n",
    "plt.legend();\n",
    "\n",
    "os.remove('/mnt/c/Users/Jaime/Desktop/PhD/gp_figures/fs8_data.pdf')\n",
    "plt.savefig('/mnt/c/Users/Jaime/Desktop/PhD/gp_figures/fs8_data.pdf')  "
   ]
  },
  {
   "cell_type": "code",
   "execution_count": 14,
   "id": "false-oklahoma",
   "metadata": {},
   "outputs": [
    {
     "data": {
      "image/png": "[encoded data removed]",
      "text/plain": [
       "<Figure size 432x288 with 1 Axes>"
      ]
     },
     "metadata": {
      "needs_background": "light"
     },
     "output_type": "display_data"
    }
   ],
   "source": [
    "plt.plot(z_planck, Planck['f_arr']*Planck['s8_arr'], \"k--\", label='Planck')\n",
    "plt.errorbar(DESI['z'], DESI['fs8_data'], yerr=DESI['fs8_err'], fmt='bo', label='DESI')\n",
    "\n",
    "\n",
    "# axis labels and title\n",
    "plt.xlim(-0.1, 2.5)\n",
    "plt.ylim(0.3, 0.6)\n",
    "plt.xlabel(\"z\")\n",
    "plt.ylabel(r\"$f \\sigma_8$\")\n",
    "plt.title(r\"$f \\sigma_8$\")\n",
    "plt.legend();\n",
    "os.remove('/mnt/c/Users/Jaime/Desktop/PhD/gp_figures/fs8_forecast.pdf')\n",
    "plt.savefig('/mnt/c/Users/Jaime/Desktop/PhD/gp_figures/fs8_forecast.pdf')  "
   ]
  },
  {
   "cell_type": "code",
   "execution_count": 15,
   "id": "resident-condition",
   "metadata": {},
   "outputs": [],
   "source": [
    "with pm.Model() as model:\n",
    "    #ℓ = pm.InverseGamma(\"ℓ\", alpha=2, beta=z_max/2) \n",
    "    ℓ = pm.InverseGamma(\"ℓ\", alpha=3, beta=0.5) \n",
    "    #ℓ = pm.Uniform(\"ℓ\", 10, 1000) \n",
    "    η = pm.HalfNormal(\"η\", sigma=0.3) \n",
    "    wm0 = pm.Uniform(\"wm0\", 0.1, 0.2) \n",
    "    wL0 = pm.Uniform(\"wL0\", 0.2, 0.4) \n",
    "    wr0 = (2.47+1.71)*10**-5\n",
    "    gp_cov = η ** 2 * pm.gp.cov.ExpQuad(1, ℓ) + pm.gp.cov.WhiteNoise(1e-3)\n",
    "    gp = pm.gp.Latent(cov_func=gp_cov)\n",
    "    \n",
    "    #Mean of the gp\n",
    "    H = pm.Deterministic('H', 100*tt.sqrt(wm0*(1+z_arr)**3+wr0*(1+z_arr)**4+wL0))\n",
    "    \n",
    "    #Set up Gaussian process\n",
    "    DH_gp = gp.prior(\"DH_gp\", X=x_arr[:, None]) \n",
    "    H_gp = pm.Deterministic(\"H_gp\", tt.as_tensor_variable(H)) #*(1+DH_gp)))\n",
    "    H0_gp = pm.Deterministic(\"H0_gp\", tt.as_tensor_variable(H_gp[0]))\n",
    "    \n",
    "    if get_dM:\n",
    "        dH_gp = pm.Deterministic(\"dH\", tt.as_tensor_variable((c/1000)*(1+z_arr)/H_gp))\n",
    "        dM_rec_gp = tt.zeros(len(z_arr)+1)\n",
    "        dM_rec_gp = tt.inc_subtensor(dM_rec_gp[1:],\n",
    "                  tt.as_tensor_variable(dx*tt.cumsum(dH_gp)))\n",
    "        dM_trap_gp = tt.as_tensor_variable(0.5*(dM_rec_gp[1:]+dM_rec_gp[:-1])-0.5*dM_rec_gp[1])\n",
    "        dM_gp = pm.Deterministic('dM_gp', dM_trap_gp)\n",
    "        #dM_gp = pm.Deterministic('dM_gp', dM_rec_gp[:-1])\n",
    "        dA_gp = pm.Deterministic('dA_gp', dM_gp/(1+z_arr))\n",
    "        dL_gp = pm.Deterministic('dL_gp', dM_gp*(1+z_arr))\n",
    "        \n",
    "    if get_rd:\n",
    "        #https://arxiv.org/pdf/2106.00428.pdf\n",
    "        wb0 =  pm.Uniform(\"wb0\", 0.02224, 0.02228)\n",
    "        a1 = 0.00785436\n",
    "        a2 = 0.177084\n",
    "        a3 = 0.00912388\n",
    "        a4 = 0.618711\n",
    "        a5 = 11.9611\n",
    "        a6 = 2.81343\n",
    "        a7 = 0.784719\n",
    "        rd_gp = tt.as_tensor_variable(1/(a1*wb0**a2+a3*wm0**a4+a5*wb0**a6*wm0**a7))  \n",
    "        \n",
    "    if get_fs8:\n",
    "        s80 = pm.Normal(\"s80\", 0.8, 0.5)\n",
    "        Wm0 =  pm.Deterministic('Wm0', wm0*(100/H_gp[0])**2)\n",
    "        E_gp = pm.Deterministic('E_gp', H_gp/H_gp[0])\n",
    "        \n",
    "        d = tt.zeros(len(z_arr))\n",
    "        y = tt.zeros(len(z_arr))\n",
    "        d = tt.inc_subtensor(d[-1], a_arr[-1])\n",
    "        y = tt.inc_subtensor(y[-1], E_gp[0]*a_arr[-1]**3)\n",
    "        for i in np.arange(1, len(z_arr)):\n",
    "            A0 = -1.5*Wm0/(a_arr[-i]*E_gp[-i])\n",
    "            B0 = -1./(a_arr[-i]**2*E_gp[-i])\n",
    "            A1 = -1.5*Wm0/(a_arr[-(i+1)]*E_gp[-(i+1)])\n",
    "            B1 = -1./(a_arr[-(i+1)]**2*E_gp[-(i+1)])\n",
    "            y = tt.inc_subtensor(y[-(i+1)], (1-0.5*dx**2*A0*B0)*y[-i]-0.5*(A0+A1)*dx*d[-i])\n",
    "            d = tt.inc_subtensor(d[-(i+1)], -0.5*(B0+B1)*dx*y[-i]+(1-0.5*dx**2*A0*B0)*d[-i])\n",
    "        \n",
    "        fs8_gp = pm.Deterministic('fs8_gp', s80*y/(a_arr**2*E_gp*d[0]))\n",
    "        s8_gp = pm.Deterministic('s8_gp', s80*d/d[0])\n",
    "    \n",
    "    theory = tt.as_tensor_variable([])"
   ]
  },
  {
   "cell_type": "code",
   "execution_count": null,
   "id": "floating-fusion",
   "metadata": {
    "scrolled": true
   },
   "outputs": [
    {
     "name": "stdout",
     "output_type": "stream",
     "text": [
      "Adding DESI\n",
      "Adding CMB\n"
     ]
    },
    {
     "name": "stderr",
     "output_type": "stream",
     "text": [
      "Only 100 samples in chain.\n",
      "Auto-assigning NUTS sampler...\n",
      "Initializing NUTS using jitter+adapt_diag...\n"
     ]
    }
   ],
   "source": [
    "if 'DESI' in datasets:\n",
    "    print('Adding DESI')\n",
    "    with model:\n",
    "        DESI_H = pm.Deterministic('DESI_H',\n",
    "                 tt.as_tensor_variable(H_gp[DESI['idx']]+(H_gp[DESI['idx']+1]-H_gp[DESI['idx']])*DESI['U']))\n",
    "        DESI_dA = pm.Deterministic('DESI_dA',\n",
    "                  tt.as_tensor_variable(dA_gp[DESI['idx']]+(dA_gp[DESI['idx']+1]-dA_gp[DESI['idx']])*DESI['U']))\n",
    "        DESI_fs8 = pm.Deterministic('DESI_fs8',\n",
    "                   tt.as_tensor_variable(fs8_gp[DESI['idx']]+(fs8_gp[DESI['idx']+1]-fs8_gp[DESI['idx']])*DESI['U']))\n",
    "        theory = tt.concatenate([theory, DESI_H, DESI_dA, DESI_fs8])\n",
    "        \n",
    "if 'WFIRST' in datasets:\n",
    "    print('Adding WFIRST')\n",
    "    with model:\n",
    "        WFIRST_E = pm.Deterministic('WFIRST_E',\n",
    "                   tt.as_tensor_variable(E_gp[WFIRST['idx']]+(E_gp[WFIRST['idx']+1]-E_gp[WFIRST['idx']])*WFIRST['U']))\n",
    "        theory = tt.concatenate([theory, WFIRST_E])\n",
    "\n",
    "if 'CC' in datasets:\n",
    "    print('Adding CCs')\n",
    "    with model:\n",
    "        CC_H = pm.Deterministic(\"CC_H\",\n",
    "               tt.as_tensor_variable(H_gp[CC['idx']]+(H_gp[CC['idx']+1]-H_gp[CC['idx']])*CC['U']))\n",
    "        theory = tt.concatenate([theory, CC_H])\n",
    "        \n",
    "if 'DS17' in datasets:\n",
    "    print('Adding Pantheon')\n",
    "    with model:\n",
    "        M = pm.Normal('M', mu=-19.0, sigma=3)\n",
    "        u_gp = tt.zeros(len(z_arr))\n",
    "        u_gp = tt.inc_subtensor(u_gp[1:], tt.as_tensor_variable(5*tt.log10(dL_gp[1:])+25+M))\n",
    "        u_gp = tt.inc_subtensor(u_gp[0], tt.as_tensor_variable(5*tt.log10(dL_gp[1])+25+M))\n",
    "        DS17_u = pm.Deterministic(\"DS17_u\",\n",
    "                 tt.as_tensor_variable(u_gp[DS17['idx']]+(u_gp[DS17['idx']+1]-u_gp[DS17['idx']])*DS17['U']))\n",
    "        theory = tt.concatenate([theory, DS17_u])\n",
    "        \n",
    "if 'BOSS' in datasets:\n",
    "    print('Adding BOSS')\n",
    "    with model:\n",
    "        #Get alpha_perp and alpha_para \n",
    "        B_para_f = pm.Deterministic(\"B_para_f\", H_gp*rd_gp/BOSS['rd'])\n",
    "        B_perp_f = pm.Deterministic(\"B_perp_f\", dM_gp*BOSS['rd']/rd_gp)\n",
    "        \n",
    "        B_para = pm.Deterministic(\"B_para\", \n",
    "                    tt.as_tensor_variable(B_para_f[BOSS['idx']]+(B_para_f[BOSS['idx']+1]-B_para_f[BOSS['idx']])*BOSS['U']))\n",
    "        B_perp = pm.Deterministic(\"B_perp\", \n",
    "                tt.as_tensor_variable(B_perp_f[BOSS['idx']]+(B_perp_f[BOSS['idx']+1]-B_perp_f[BOSS['idx']])*BOSS['U']))\n",
    "        B_fs8 = pm.Deterministic(\"B_fs8\", \n",
    "                   tt.as_tensor_variable(fs8_gp[BOSS['idx']]+(fs8_gp[BOSS['idx']+1]-fs8_gp[BOSS['idx']])*BOSS['U']))\n",
    "        \n",
    "        theory = tt.concatenate([theory, B_para, B_perp, B_fs8])\n",
    "        \n",
    "if 'eBOSS' in datasets:\n",
    "    print('Adding eBOSS')\n",
    "    with model:\n",
    "        eB_para_f = pm.Deterministic(\"eB_para_f\", dH_gp/rd_gp)\n",
    "        eB_perp_f = pm.Deterministic(\"eB_perp_f\", dH_gp/rd_gp)\n",
    "        \n",
    "        eB_para = pm.Deterministic(\"eB_para\", \n",
    "                    tt.as_tensor_variable(eB_para_f[eBOSS['idx']]+(eB_para_f[eBOSS['idx']+1]-eB_para_f[eBOSS['idx']])*eBOSS['U']))\n",
    "        eB_perp = pm.Deterministic(\"eB_perp\", \n",
    "                tt.as_tensor_variable(eB_perp_f[eBOSS['idx']]+(eB_perp_f[eBOSS['idx']+1]-eB_perp_f[eBOSS['idx']])*eBOSS['U']))\n",
    "        eB_fs8 = pm.Deterministic(\"eB_fs8\", \n",
    "                   tt.as_tensor_variable(fs8_gp[eBOSS['idx']]+(fs8_gp[eBOSS['idx']+1]-fs8_gp[eBOSS['idx']])*eBOSS['U']))\n",
    "        \n",
    "        theory = tt.concatenate([theory, eB_para, eB_perp, eB_fs8])\n",
    "\n",
    "if 'Wigglez' in datasets:\n",
    "    print('Adding Wigglez')\n",
    "    with model:\n",
    "        Wigglez_fs8 = pm.Deterministic(\"Wigglez_fs8\",\n",
    "                    tt.as_tensor_variable(fs8_gp[Wigglez['idx']]+(fs8_gp[Wigglez['idx']+1]-fs8_gp[Wigglez['idx']])*Wigglez['U']))\n",
    "        theory = tt.concatenate([theory, Wigglez_fs8])\n",
    "\n",
    "if 'DSS' in datasets:\n",
    "    print('Adding DSS')\n",
    "    with model:\n",
    "        DSS_fs8 = pm.Deterministic(\"fs8_eBOSS\", tt.as_tensor_variable(fs8_gp[DSS['idx']]))\n",
    "        theory = tt.concatenate([theory, DSS_fs8])\n",
    "\n",
    "if 'CMB' in datasets:\n",
    "    print('Adding CMB')\n",
    "    with model:\n",
    "        dM_star = tt.as_tensor_variable(dM_gp[CMB['idx']]+(dM_gp[CMB['idx']+1]-dM_gp[CMB['idx']])*CMB['U'])\n",
    "        t100 = pm.Deterministic('t100', 100*rd_gp/dM_star) \n",
    "        theory = tt.concatenate([theory, t100])\n",
    "        \n",
    "if 'FCMB' in datasets:\n",
    "    print('Adding FCMB')\n",
    "    with model:\n",
    "        CMB_H = pm.Deterministic('CMB_H',\n",
    "                  tt.as_tensor_variable(H_gp[FCMB['idx']]+(H_gp[FCMB['idx']+1]-H_gp[FCMB['idx']])*FCMB['U']))\n",
    "        theory = tt.concatenate([theory, CMB_H])\n",
    "        \n",
    "with model:\n",
    "    lkl= pm.MvNormal(\"lkl\", mu=theory, cov=data_cov, observed=data)\n",
    "    trace = pm.sample(n_samples, return_inferencedata=True, tune=n_tune)\n"
   ]
  },
  {
   "cell_type": "code",
   "execution_count": null,
   "id": "social-rental",
   "metadata": {},
   "outputs": [],
   "source": [
    "pm.summary(trace)['r_hat'][[\"ℓ\",\"η\"]]"
   ]
  },
  {
   "cell_type": "code",
   "execution_count": null,
   "id": "premier-workshop",
   "metadata": {},
   "outputs": [],
   "source": [
    "pm.summary(trace)['mean'][[\"ℓ\",\"η\"]]"
   ]
  },
  {
   "cell_type": "code",
   "execution_count": null,
   "id": "hybrid-institute",
   "metadata": {},
   "outputs": [],
   "source": [
    "#trace.posterior['t100']"
   ]
  },
  {
   "cell_type": "code",
   "execution_count": null,
   "id": "ordinary-wallpaper",
   "metadata": {},
   "outputs": [],
   "source": [
    "# plot the results\n",
    "fig = plt.figure(figsize=(12, 5))\n",
    "ax = fig.gca()\n",
    "\n",
    "# plot the samples from the gp posterior with samples and shading\n",
    "from pymc3.gp.util import plot_gp_dist\n",
    "\n",
    "plot_gp_dist(ax, trace.posterior[\"DH_gp\"][0, :, :], z_arr[:, None])\n",
    "\n",
    "# axis labels and title\n",
    "plt.xscale('log')\n",
    "plt.xlabel(\"z\")\n",
    "plt.ylabel(\"DH(z)\")\n",
    "plt.title(\"DH(z)\")\n",
    "plt.legend();"
   ]
  },
  {
   "cell_type": "code",
   "execution_count": null,
   "id": "fitted-brain",
   "metadata": {},
   "outputs": [],
   "source": [
    "H_fit = 100*np.sqrt(0.138*(1+z_arr)**3+(2.47+1.71)*10**-5*(1+z_arr)**4+0.30)\n",
    "dM_fit = np.zeros(len(z_arr)+1)\n",
    "dM_fit[1:] = dx*np.cumsum((1+z_arr)*(c/1000)/H_fit)\n",
    "dM_fit = 0.5*(dM_fit[1:]+dM_fit[:-1])-0.5*dM_fit[1]"
   ]
  },
  {
   "cell_type": "code",
   "execution_count": null,
   "id": "impossible-china",
   "metadata": {},
   "outputs": [],
   "source": [
    "# plot the results\n",
    "fig = plt.figure(figsize=(12, 5))\n",
    "ax = fig.gca()\n",
    "\n",
    "# plot the samples from the gp posterior with samples and shading\n",
    "from pymc3.gp.util import plot_gp_dist\n",
    "\n",
    "plot_gp_dist(ax, trace.posterior[\"H_gp\"][0, :, :], z_arr[:, None])\n",
    "ax.plot(z_planck, Planck['Hkms_arr'], \"k--\", label=r'$CLASS$')\n",
    "\n",
    "# plot the data and the true latent function\n",
    "#ax.plot(z_arr_f[:, None], H_arr_f, \"dodgerblue\", lw=3, label=r'$LCDM$')\n",
    "plt.plot(z_arr, H_fit, 'b-.', label='formula')\n",
    "\n",
    "if 'CC' in datasets:\n",
    "    plt.errorbar(CC['z'], CC['data'], yerr = CC['err'], fmt='bo', label='CC')\n",
    "if 'FCMB' in datasets:\n",
    "    plt.errorbar(FCMB['z'], FCMB['data'], yerr = FCMB['err'], fmt='go', label='FCMB')\n",
    "if 'BOSS' in datasets:\n",
    "    plt.errorbar(BOSS['z'], BOSS['para_data'], yerr=BOSS['para_err'], fmt='ro', label='BOSS')\n",
    "if 'eBOSS' in datasets:\n",
    "    plt.errorbar(eBOSS['z'], c/1000/(eBOSS['para_data']*eBOSS['rd']), yerr = 1/eBOSS['rd']/(np.array([0.47])), fmt='mo', label='eBOSS')\n",
    "\n",
    "\n",
    "# axis labels and title\n",
    "#plt.xscale('log')\n",
    "plt.xlabel(\"z\")\n",
    "plt.ylabel(\"H(z)\")\n",
    "plt.title(\"H(z)\")\n",
    "plt.legend();"
   ]
  },
  {
   "cell_type": "code",
   "execution_count": null,
   "id": "comfortable-therapy",
   "metadata": {},
   "outputs": [],
   "source": [
    "# plot the results\n",
    "fig = plt.figure(figsize=(12, 5))\n",
    "ax = fig.gca()\n",
    "\n",
    "# plot the samples from the gp posterior with samples and shading\n",
    "from pymc3.gp.util import plot_gp_dist\n",
    "\n",
    "plot_gp_dist(ax, trace.posterior[\"H_gp\"][0, :, :], z_arr[:, None])\n",
    "ax.plot(z_planck, Planck['Hkms_arr'], \"k--\", label=r'$LCDM$')\n",
    "\n",
    "# plot the data and the true latent function\n",
    "#ax.plot(z_arr_f[:, None], H_arr_f, \"dodgerblue\", lw=3, label=r'$LCDM$')\n",
    "if 'CC' in datasets:\n",
    "    plt.errorbar(CC['z'], CC['data'], yerr = CC['err'], fmt='bo', label='CC')\n",
    "if 'FCMB' in datasets:\n",
    "    plt.errorbar(FCMB['z'], FCMB['data'], yerr = FCMB['err'], fmt='go', label='FCMB')\n",
    "if 'BOSS' in datasets:\n",
    "    plt.errorbar(BOSS['z'], BOSS['para_data'], yerr=BOSS['para_err'], fmt='ro', label='BOSS')\n",
    "if 'eBOSS' in datasets:\n",
    "    plt.errorbar(eBOSS['z'], c/1000/(eBOSS['para_data']*eBOSS['rd']), yerr = 1/eBOSS['rd']/(np.array([0.47])), fmt='mo', label='eBOSS')\n",
    "\n",
    "\n",
    "# axis labels and title\n",
    "plt.xlim(0, 2.5)\n",
    "plt.ylim(50, 300)\n",
    "plt.xlabel(\"z\")\n",
    "plt.ylabel(\"H(z)\")\n",
    "plt.title(\"H(z)\")\n",
    "plt.legend();"
   ]
  },
  {
   "cell_type": "code",
   "execution_count": null,
   "id": "cardiovascular-lawsuit",
   "metadata": {
    "scrolled": true
   },
   "outputs": [],
   "source": [
    "# plot the results\n",
    "fig = plt.figure(figsize=(12, 5))\n",
    "ax = fig.gca()\n",
    "# plot the samples from the gp posterior with samples and shading\n",
    "from pymc3.gp.util import plot_gp_dist\n",
    "\n",
    "plot_gp_dist(ax, trace.posterior[\"dM_gp\"][0, :, :], z_arr[:, None])\n",
    "\n",
    "plt.plot(z_planck, Planck['dM_arr'], \"k--\", label='Planck')\n",
    "plt.plot(z_arr, dM_fit, 'b-.', label='formula')\n",
    "\n",
    "if 'DS17' in datasets:\n",
    "    plt.errorbar(DS17['z'], (10**((DS17['data']-25+19.49)/5))/(1+DS17['z']),\n",
    "             yerr=(10**(DS17['err']/5))/(1+DS17['z']), fmt='co', label='DS17')\n",
    "if 'BOSS' in datasets:\n",
    "    plt.errorbar(BOSS['z'], BOSS['perp_data'], yerr=BOSS['perp_err'], fmt='ro', label='BOSS')\n",
    "if 'eBOSS' in datasets:\n",
    "    plt.errorbar(eBOSS['z'], eBOSS['perp_data']*eBOSS['rd'], yerr=np.array([0.79])*eBOSS['rd'], fmt='mo', label='eBOSS')\n",
    "if 'CMB' in datasets:\n",
    "    plt.errorbar(CMB['z'], (1/CMB['data'])*(100*CMB['rd']), yerr=(1/CMB['err'])*1/(100*CMB['rd']), fmt='go', label='CMB')\n",
    "\n",
    "# axis labels and title\n",
    "#plt.xscale('log')\n",
    "plt.xlabel(\"z\")\n",
    "plt.ylabel(\"dM(z)\")\n",
    "plt.title(\"dM(z)\")\n",
    "plt.legend();"
   ]
  },
  {
   "cell_type": "code",
   "execution_count": null,
   "id": "higher-screen",
   "metadata": {},
   "outputs": [],
   "source": [
    "# plot the results\n",
    "fig = plt.figure(figsize=(12, 5))\n",
    "ax = fig.gca()\n",
    "\n",
    "# plot the samples from the gp posterior with samples and shading\n",
    "from pymc3.gp.util import plot_gp_dist\n",
    "\n",
    "plot_gp_dist(ax, trace.posterior[\"dM_gp\"][0, :, :],\n",
    "             z_arr[:, None])\n",
    "plt.plot(z_arr, dM_fit, 'b-.', label='formula')\n",
    "plt.plot(z_planck, Planck['dM_arr'], \"k--\", label='Planck')\n",
    "if 'DS17' in datasets:\n",
    "    plt.errorbar(DS17['z'], (10**((DS17['data']-25+19.49)/5))/(1+DS17['z']),\n",
    "             yerr=(10**(DS17['err']/5))/(1+DS17['z']), fmt='co', label='DS17')\n",
    "if 'BOSS' in datasets:\n",
    "    plt.errorbar(BOSS['z'], BOSS['perp_data'], yerr=BOSS['perp_err'], fmt='ro', label='BOSS')\n",
    "if 'eBOSS' in datasets:\n",
    "    plt.errorbar(eBOSS['z'], eBOSS['perp_data']*eBOSS['rd'], yerr=np.array([0.79])*eBOSS['rd'], fmt='mo', label='eBOSS')\n",
    "if 'CMB' in datasets:\n",
    "    plt.errorbar(CMB['z'], (1/CMB['data'])*(100*CMB['rd']), yerr=(1/CMB['err'])*1/(100*CMB['rd']), fmt='go', label='CMB')\n",
    "\n",
    "# axis labels and title\n",
    "plt.xlim(-.1, 2.5)\n",
    "plt.ylim(0, 5200)\n",
    "plt.xlabel(\"z\")\n",
    "plt.ylabel(\"dM(z)\")\n",
    "plt.title(\"dM(z)\")\n",
    "plt.legend();"
   ]
  },
  {
   "cell_type": "code",
   "execution_count": null,
   "id": "advised-addition",
   "metadata": {},
   "outputs": [],
   "source": [
    "# plot the results\n",
    "fig = plt.figure(figsize=(12, 5))\n",
    "ax = fig.gca()\n",
    "\n",
    "# plot the samples from the gp posterior with samples and shading\n",
    "from pymc3.gp.util import plot_gp_dist\n",
    "\n",
    "plot_gp_dist(ax, trace.posterior[\"fs8_gp\"][0, :, :],\n",
    "             z_arr[:, None])\n",
    "\n",
    "plt.plot(z_planck, Planck['f_arr']*Planck['s8_arr'], \"k--\", label='Planck')\n",
    "if 'BOSS' in datasets:\n",
    "    plt.errorbar(BOSS['z'], BOSS['fs8_data'], yerr=BOSS['fs8_err'], fmt='ro', label='BOSS')\n",
    "if 'eBOSS' in datasets:\n",
    "    plt.errorbar(eBOSS['z'], eBOSS['fs8_data'], yerr=eBOSS['fs8_err'], fmt='mo', label='eBOSS')\n",
    "if 'Wigglez' in datasets:\n",
    "    plt.errorbar(Wigglez['z'], Wigglez['data'], yerr=Wigglez['err'], fmt='yo', label='Wigglez')\n",
    "if 'DSS' in datasets:\n",
    "    plt.errorbar(DSS['z'], DSS['data'], yerr=DSS['err'], fmt='go', label='DSS')\n",
    "\n",
    "\n",
    "# axis labels and title\n",
    "plt.xlim(-.1, 2.5)\n",
    "plt.xlabel(\"z\")\n",
    "plt.ylabel(\"fs8(z)\")\n",
    "plt.title(\"fs8(z)\")\n",
    "plt.legend();"
   ]
  },
  {
   "cell_type": "code",
   "execution_count": null,
   "id": "dangerous-princess",
   "metadata": {},
   "outputs": [],
   "source": [
    "# plot the results\n",
    "fig = plt.figure(figsize=(12, 5))\n",
    "ax = fig.gca()\n",
    "\n",
    "# plot the samples from the gp posterior with samples and shading\n",
    "from pymc3.gp.util import plot_gp_dist\n",
    "\n",
    "plot_gp_dist(ax, (trace.posterior[\"s8_gp\"])[0, :, :],\n",
    "             z_arr[:, None])\n",
    "\n",
    "# plot the data and the true latent function\n",
    "ax.plot(z_planck[:, None], Planck['s8_arr'], \"k--\", label=r'$LCDM$')\n",
    "\n",
    "# axis labels and title\n",
    "plt.xlabel(\"z\")\n",
    "plt.ylabel(\"sigma8(z)\")\n",
    "plt.title(\"sigma8(z)\")\n",
    "plt.legend();"
   ]
  },
  {
   "cell_type": "code",
   "execution_count": null,
   "id": "specified-reaction",
   "metadata": {},
   "outputs": [],
   "source": [
    "#Save\n",
    "filename = ''\n",
    "for dataset in datasets:\n",
    "    filename+=dataset+'_'\n",
    "path = filename+'{}_{}_t'.format(n_samples, n_tune)\n",
    "\n",
    "n = np.array(trace.posterior[\"η\"]).flatten()\n",
    "l = np.array(trace.posterior[\"ℓ\"]).flatten()\n",
    "DHz = np.array(trace.posterior[\"DH_gp\"])\n",
    "DHz = DHz.reshape(-1, DHz.shape[-1])\n",
    "Hz =np.array(trace.posterior[\"H_gp\"])\n",
    "Hz = Hz.reshape(-1, Hz.shape[-1])\n",
    "H0 = np.array(trace.posterior[\"H0_gp\"]).flatten()\n",
    "h = H0/100\n",
    "Omega_m = np.array(trace.posterior[\"wm0\"]).flatten()/h**2\n",
    "Omega_L = np.array(trace.posterior[\"wL0\"]).flatten()/h**2\n",
    "\n",
    "\n",
    "if get_dM:\n",
    "    dMz = np.array(trace.posterior[\"dM_gp\"])\n",
    "    dMz = dMz.reshape(-1, dMz.shape[-1])\n",
    "else:\n",
    "    dMz = None\n",
    "\n",
    "if get_rd:\n",
    "    Omega_b = np.array(trace.posterior[\"wmb\"]).flatten()/h**2\n",
    "else:\n",
    "    Omega_b = None\n",
    "    \n",
    "if get_fs8:\n",
    "    s8z = np.array(trace.posterior[\"s8_gp\"])\n",
    "    s8z = s8z.reshape(-1, s8z.shape[-1])\n",
    "    fs8z = np.array(trace.posterior[\"fs8_gp\"])\n",
    "    fs8z = fs8z.reshape(-1, fs8z.shape[-1])\n",
    "    s80 = np.array(trace.posterior[\"s80\"]).flatten()\n",
    "    S80 = s80*np.sqrt(Omega_m/0.3)\n",
    "else: \n",
    "    s8z = None \n",
    "    fs8z = None\n",
    "    s80 = None\n",
    "    S80 = None\n",
    "\n",
    "if 'DS17' in datasets:\n",
    "    M = np.array(trace.posterior[\"M\"]).flatten()\n",
    "else:\n",
    "    M = None\n",
    "\n",
    "os.mkdir(path)\n",
    "np.savez(os.path.join(path,'samples.npz'), \n",
    "         z_arr = z_arr,\n",
    "         n=n,\n",
    "         l=l,\n",
    "         DHz = DHz,\n",
    "         Hz=Hz,\n",
    "         dMz=dMz,\n",
    "         s8z=s8z,\n",
    "         fs8z=fs8z,\n",
    "         H0=H0,\n",
    "         Omega_m=Omega_m,\n",
    "         Omega_b=Omega_b,\n",
    "         Omega_L=Omega_L,\n",
    "         s80=s80,\n",
    "         S80=S80)"
   ]
  }
 ],
 "metadata": {
  "kernelspec": {
   "display_name": "Python 3",
   "language": "python",
   "name": "python3"
  },
  "language_info": {
   "codemirror_mode": {
    "name": "ipython",
    "version": 3
   },
   "file_extension": ".py",
   "mimetype": "text/x-python",
   "name": "python",
   "nbconvert_exporter": "python",
   "pygments_lexer": "ipython3",
   "version": "3.8.5"
  }
 },
 "nbformat": 4,
 "nbformat_minor": 5
}

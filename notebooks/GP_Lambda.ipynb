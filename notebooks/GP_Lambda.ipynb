{
 "cells": [
  {
   "cell_type": "markdown",
   "id": "arabic-burton",
   "metadata": {},
   "source": [
    "# Setting  a GP on H(z)\n",
    "we are going to use data on H(z), dA(z); an integral of H(z) and f(z); the solution of a differential equation on H(z)"
   ]
  },
  {
   "cell_type": "markdown",
   "id": "exclusive-indicator",
   "metadata": {},
   "source": [
    "# Imports"
   ]
  },
  {
   "cell_type": "code",
   "execution_count": 23,
   "id": "talented-silicon",
   "metadata": {},
   "outputs": [],
   "source": [
    "import matplotlib.pyplot as plt\n",
    "import numpy as np\n",
    "import pandas as pd\n",
    "import pymc3 as pm\n",
    "import scipy as sp\n",
    "from scipy.integrate import quad\n",
    "import pyccl as ccl\n",
    "import arviz as az\n",
    "import theano\n",
    "import theano.tensor as tt\n",
    "import os\n",
    "import utils\n",
    "%matplotlib inline"
   ]
  },
  {
   "cell_type": "markdown",
   "id": "sitting-philadelphia",
   "metadata": {},
   "source": [
    "# Make data"
   ]
  },
  {
   "cell_type": "code",
   "execution_count": 24,
   "id": "armed-absorption",
   "metadata": {},
   "outputs": [],
   "source": [
    "rels_dA  = [2.78, 1.87, 1.45, 1.19, 1.01, 0.87, 0.77, \n",
    "         0.76, 0.88, 0.91, 0.91, 0.91, 1.00, 1.17, \n",
    "         1.50, 2.36, 3.62, 4.79]\n",
    "rels_H = [5.34, 3.51, 2.69, 2.20, 1.85, 1.60, 1.41, \n",
    "         1.35, 1.42, 1.41, 1.38, 1.36, 1.46, 1.66, \n",
    "         2.04, 3.15, 4.87, 6.55]\n",
    "rels_fs = [3.60, 2.55, 2.17, 1.91, 1.60, 1.24, \n",
    "         1.18, 1.11, 1.13, 1.12, 1.12, 1.14, 1.26, \n",
    "         1.47, 1.89, 3.06, 5.14, 7.66]"
   ]
  },
  {
   "cell_type": "code",
   "execution_count": 25,
   "id": "thirty-excitement",
   "metadata": {},
   "outputs": [],
   "source": [
    "dz = 0.1\n",
    "z_arr = np.arange(0.15, 1.85+0.1, dz)\n",
    "\n",
    "dz_f = 0.01\n",
    "z_arr_f = np.arange(0.0, 1.85+0.1, dz_f)"
   ]
  },
  {
   "cell_type": "code",
   "execution_count": 26,
   "id": "fancy-stevens",
   "metadata": {},
   "outputs": [],
   "source": [
    "tools = utils.utils()\n",
    "\n",
    "Planck = tools.get_preds(z_arr_f, mode = 'Planck')\n",
    "#Riess = tools.get_preds(z_arr_f, mode = 'Riess')"
   ]
  },
  {
   "cell_type": "code",
   "execution_count": 27,
   "id": "combined-sucking",
   "metadata": {},
   "outputs": [],
   "source": [
    "H0 = tools.H0\n",
    "c = tools.c\n",
    "Wm0 = 0.321\n",
    "WL = 0.679\n",
    "WmHkms2 = Wm0*(H0*c/1000)**2\n",
    "WLHkms2 = WL*(H0*c/1000)**2"
   ]
  },
  {
   "cell_type": "markdown",
   "id": "christian-twist",
   "metadata": {},
   "source": [
    "We make an array of redsifts at which we make our data points and a secondary finer array to gain precision when applying numerical methods"
   ]
  },
  {
   "cell_type": "code",
   "execution_count": 28,
   "id": "original-closure",
   "metadata": {},
   "outputs": [],
   "source": [
    "a_arr_f = 1/(1+z_arr_f) \n",
    "x_arr_f = np.log(a_arr_f)\n",
    "idx = np.array([int(x) for x in z_arr/(dz_f)])"
   ]
  },
  {
   "cell_type": "markdown",
   "id": "functioning-webster",
   "metadata": {},
   "source": [
    "Position of data points"
   ]
  },
  {
   "cell_type": "markdown",
   "id": "civil-above",
   "metadata": {},
   "source": [
    "We are going to set our GP in H*c/1000 as opposed to just H becuase Pymc3 washes scales around the order of magnitude of H "
   ]
  },
  {
   "cell_type": "code",
   "execution_count": 29,
   "id": "ideal-penetration",
   "metadata": {},
   "outputs": [],
   "source": [
    "Hkms_arr = Planck['Hkms_arr'][idx]\n",
    "H_arr = Planck['H_arr'][idx]\n",
    "dA_arr = Planck['dA_arr'][idx]"
   ]
  },
  {
   "cell_type": "code",
   "execution_count": 30,
   "id": "boring-amendment",
   "metadata": {},
   "outputs": [],
   "source": [
    "sig_H_arr = H_arr*rels_H/100\n",
    "sig_Hkms_arr = sig_H_arr*c/1000\n",
    "sig_dA_arr = dA_arr*rels_dA/100"
   ]
  },
  {
   "cell_type": "markdown",
   "id": "entitled-silly",
   "metadata": {},
   "source": [
    "Add signal to reconstruct"
   ]
  },
  {
   "cell_type": "code",
   "execution_count": 31,
   "id": "handy-pakistan",
   "metadata": {},
   "outputs": [],
   "source": [
    "add_signal = False\n",
    "if add_signal: \n",
    "    signal = tools.get_signal(z_arr_f)\n",
    "else:\n",
    "    signal = np.zeros_like(z_arr_f)"
   ]
  },
  {
   "cell_type": "code",
   "execution_count": 32,
   "id": "eleven-success",
   "metadata": {},
   "outputs": [],
   "source": [
    "Hkms_data = (Planck['Hkms_arr']+signal)[idx] #+ np.random.randn(len(z_arr))*sig_Hkms_arr\n",
    "H_data = Hkms_data*1000/c\n",
    "dA_data = (dz_f*np.cumsum((c/1000)/(Planck['Hkms_arr']+signal))/(1+z_arr_f))[idx] #+ np.random.randn(len(z_arr))*sig_dA_arr"
   ]
  },
  {
   "cell_type": "code",
   "execution_count": 33,
   "id": "logical-capitol",
   "metadata": {},
   "outputs": [],
   "source": [
    "Hkms_test = np.sqrt(WmHkms2*(1+z_arr_f)**3+WLHkms2)"
   ]
  },
  {
   "cell_type": "code",
   "execution_count": 34,
   "id": "equipped-poultry",
   "metadata": {},
   "outputs": [
    {
     "data": {
      "image/png": "[encoded data removed]",
      "text/plain": [
       "<Figure size 432x288 with 1 Axes>"
      ]
     },
     "metadata": {
      "needs_background": "light"
     },
     "output_type": "display_data"
    }
   ],
   "source": [
    "plt.plot(z_arr_f, Planck['Hkms_arr'], \"r-\", label='LCDM')\n",
    "plt.plot(z_arr_f, Hkms_test, \"b--\", label='test')\n",
    "plt.errorbar(z_arr, Hkms_data, yerr = sig_Hkms_arr, fmt='ko', label='data')\n",
    "plt.axvline(x=1.6)\n",
    "\n",
    "# axis labels and title\n",
    "plt.xlabel(\"z\")\n",
    "plt.title(\"H\")\n",
    "plt.legend();"
   ]
  },
  {
   "cell_type": "code",
   "execution_count": 35,
   "id": "fundamental-access",
   "metadata": {},
   "outputs": [
    {
     "data": {
      "image/png": "[encoded data removed]",
      "text/plain": [
       "<Figure size 432x288 with 1 Axes>"
      ]
     },
     "metadata": {
      "needs_background": "light"
     },
     "output_type": "display_data"
    }
   ],
   "source": [
    "plt.plot(z_arr_f, Planck['dA_arr'], \"r-\", label='LCDM')\n",
    "plt.errorbar(z_arr, dA_data, yerr = sig_dA_arr, fmt='ko', label='course')\n",
    "plt.axvline(x=1.6)\n",
    "\n",
    "# axis labels and title\n",
    "plt.xlabel(\"z\")\n",
    "plt.title(\"dA\")\n",
    "plt.legend();"
   ]
  },
  {
   "cell_type": "markdown",
   "id": "guilty-packaging",
   "metadata": {},
   "source": [
    "Solve f(z) from H(z)"
   ]
  },
  {
   "cell_type": "code",
   "execution_count": 36,
   "id": "completed-square",
   "metadata": {},
   "outputs": [],
   "source": [
    "from scipy.integrate import odeint\n",
    "from scipy.interpolate import interp1d\n",
    "\n",
    "def wrap(f, z, Wm, q):\n",
    "    dfdz = (-1/(1+z))*((3/2)*Wm(z) - f**2 - q(z)*f)\n",
    "    return dfdz\n",
    "\n",
    "def make_f(H):  \n",
    "    #Make Wm\n",
    "    Wm0 = 0.315\n",
    "    fz0 = classy.growthrate_at_z(1.94)\n",
    "    Wm =  Wm0*(H0/H)**2*(1+z_arr_f)**3\n",
    "    #Make q\n",
    "    comf_H = a_arr_f*H\n",
    "    diff_comf_H = np.gradient(comf_H)/np.gradient(x_arr_f)\n",
    "    q = 1 + diff_comf_H/comf_H\n",
    "    \n",
    "    Wm_inter = interp1d(z_arr_f, Wm, kind='cubic', bounds_error=False, fill_value='extrapolate')\n",
    "    q_inter = interp1d(z_arr_f, q, kind='cubic', bounds_error=False, fill_value='extrapolate')\n",
    "\n",
    "    f = odeint(wrap, fz0, z_arr_f[::-1], args=(Wm_inter, q_inter))\n",
    "        \n",
    "    return  np.array(f.flatten()[::-1])\n",
    "\n",
    "def make_sigma8(f):  \n",
    "    #Make Wm\n",
    "    Wm0 = 0.315\n",
    "    s80 = pm.Normal(\"s80\", mu=0.811, sigma=0.01)\n",
    "    s8_gp_f = tt.zeros(len(z_train_f))\n",
    "    s8_gp_f = tt.inc_subtensor(s8_gp_f[0], s80)\n",
    "    for i in np.arange(1, len(z_train_f)):\n",
    "        k0 = -1*(f_gp_f[i-1]*s8_gp_f[i-1])/(1+z_train_f[i-1])\n",
    "        s8_gp_f = tt.inc_subtensor(s8_gp_f[i], s8_gp_f[i-1] + dz_f*(k0))\n",
    "    s8_gp_f = pm.Deterministic(\"s8_gp_f\", s8_gp_f) \n",
    "    \n",
    "    fs8_gp_f = f_gp_f*s8_gp_f\n",
    "    fs8_gp_f = pm.Deterministic(\"fs8_gp_f\", fs8_gp_f) \n",
    "    \n",
    "        \n",
    "    return  np.array(f.flatten()[::-1])"
   ]
  },
  {
   "cell_type": "code",
   "execution_count": 37,
   "id": "pleased-funeral",
   "metadata": {},
   "outputs": [],
   "source": [
    "sig_fs_arr = (Planck['f_arr']*Planck['s8_arr'])[idx]*rels_fs/100\n",
    "fs_data = (Planck['f_arr']*Planck['s8_arr'])[idx] #+ np.random.randn(len(z_arr))*sig_fs_arr"
   ]
  },
  {
   "cell_type": "code",
   "execution_count": 38,
   "id": "apparent-single",
   "metadata": {},
   "outputs": [],
   "source": [
    "data = np.concatenate([H_data, dA_data, fs_data])"
   ]
  },
  {
   "cell_type": "code",
   "execution_count": 39,
   "id": "welsh-hello",
   "metadata": {},
   "outputs": [
    {
     "data": {
      "image/png": "[encoded data removed]",
      "text/plain": [
       "<Figure size 432x288 with 1 Axes>"
      ]
     },
     "metadata": {
      "needs_background": "light"
     },
     "output_type": "display_data"
    }
   ],
   "source": [
    "plt.plot(z_arr_f, Planck['f_arr']*Planck['s8_arr'], \"r-\", label='LCDM')\n",
    "plt.errorbar(z_arr, fs_data, yerr = sig_fs_arr, fmt='ko', label='data')\n",
    "plt.axvline(x=1.6)\n",
    "\n",
    "# axis labels and title\n",
    "plt.xlabel(\"z\")\n",
    "plt.title(\"fs8\")\n",
    "plt.legend();"
   ]
  },
  {
   "cell_type": "markdown",
   "id": "italian-river",
   "metadata": {},
   "source": [
    "Training selection "
   ]
  },
  {
   "cell_type": "code",
   "execution_count": 40,
   "id": "centered-chest",
   "metadata": {},
   "outputs": [],
   "source": [
    "z_cut = 2\n",
    "z_train = z_arr[z_arr<z_cut]\n",
    "z_train_f = z_arr_f[z_arr_f<z_cut]\n",
    "a_train_f = 1/(1+z_train_f) \n",
    "x_train_f = np.log(a_train_f)\n",
    "Hkms_train = Hkms_data[z_arr<z_cut]\n",
    "H_train = H_data[z_arr<z_cut]\n",
    "dA_train = dA_data[z_arr<z_cut]\n",
    "fs_train = fs_data[z_arr<z_cut]\n",
    "background = Planck['Hkms_arr'][z_arr_f<z_cut]"
   ]
  },
  {
   "cell_type": "markdown",
   "id": "formed-publicity",
   "metadata": {},
   "source": [
    "Make covariance matrices"
   ]
  },
  {
   "cell_type": "code",
   "execution_count": 41,
   "id": "invisible-absolute",
   "metadata": {},
   "outputs": [],
   "source": [
    "Hkms_cov = np.zeros([len(z_train), len(z_train)])\n",
    "H_cov = np.zeros([len(z_train), len(z_train)])\n",
    "dA_cov = np.zeros([len(z_train), len(z_train)])\n",
    "fs_cov = np.zeros([len(z_train), len(z_train)])\n",
    "for i in np.arange(len(z_train)):\n",
    "    Hkms_cov[i,i] = sig_Hkms_arr[i]**2\n",
    "    H_cov[i,i] = sig_H_arr[i]**2\n",
    "    dA_cov[i,i] = sig_dA_arr[i]**2\n",
    "    fs_cov[i,i] = sig_fs_arr[i]**2\n",
    "    \n",
    "data_cov = np.block([[H_cov, np.zeros_like(H_cov), np.zeros_like(H_cov)],\n",
    "                     [np.zeros_like(H_cov), dA_cov, np.zeros_like(H_cov)],\n",
    "                     [np.zeros_like(H_cov), np.zeros_like(H_cov), fs_cov]])"
   ]
  },
  {
   "cell_type": "code",
   "execution_count": 42,
   "id": "occupational-mechanics",
   "metadata": {},
   "outputs": [
    {
     "data": {
      "text/plain": [
       "array([[1.65434194e-10, 0.00000000e+00, 0.00000000e+00, ...,\n",
       "        0.00000000e+00, 0.00000000e+00, 0.00000000e+00],\n",
       "       [0.00000000e+00, 7.97249778e-11, 0.00000000e+00, ...,\n",
       "        0.00000000e+00, 0.00000000e+00, 0.00000000e+00],\n",
       "       [0.00000000e+00, 0.00000000e+00, 5.25119604e-11, ...,\n",
       "        0.00000000e+00, 0.00000000e+00, 0.00000000e+00],\n",
       "       ...,\n",
       "       [0.00000000e+00, 0.00000000e+00, 0.00000000e+00, ...,\n",
       "        1.19066664e-04, 0.00000000e+00, 0.00000000e+00],\n",
       "       [0.00000000e+00, 0.00000000e+00, 0.00000000e+00, ...,\n",
       "        0.00000000e+00, 3.17171618e-04, 0.00000000e+00],\n",
       "       [0.00000000e+00, 0.00000000e+00, 0.00000000e+00, ...,\n",
       "        0.00000000e+00, 0.00000000e+00, 6.65398648e-04]])"
      ]
     },
     "execution_count": 42,
     "metadata": {},
     "output_type": "execute_result"
    }
   ],
   "source": [
    "data_cov"
   ]
  },
  {
   "cell_type": "markdown",
   "id": "neither-flush",
   "metadata": {},
   "source": [
    "# Get mean of GP\n",
    "We are not using this at the moment"
   ]
  },
  {
   "cell_type": "code",
   "execution_count": 21,
   "id": "fifth-climb",
   "metadata": {},
   "outputs": [],
   "source": [
    "from scipy.optimize import least_squares\n",
    "def loss_func(coeffs, data, cov, z_output, z_data):\n",
    "    idx = np.array([int(x) for x in z_data/dz_f])\n",
    "    inv_cov = np.linalg.inv(data_cov)\n",
    "    Hkms_arr = tools.H_model(z_output, coeffs)\n",
    "    H_arr = Hkms_arr*1000/c\n",
    "    dA_arr = tools.make_dM(H_arr, z_output)/(1+z_output)\n",
    "    fs8_arr = np.zeros_like(z_output) #tools.make_f(H_arr, z_output)\n",
    "    theory = np.concatenate([H_arr[idx], dA_arr[idx], fs8_arr[idx]])\n",
    "    diff = data - theory\n",
    "    xi2 = np.dot(np.dot(diff, inv_cov), diff)\n",
    "    return np.sqrt(xi2)\n",
    "\n",
    "def get_H_fit(z_output, z_data):\n",
    "    x0 = [70, 0.675, 0.003]\n",
    "    x = least_squares(loss_func, x0, args=(data, data_cov, z_output, z_data))\n",
    "    best_coeffs = x['x']\n",
    "    return tools.H_model(z_output, best_coeffs)"
   ]
  },
  {
   "cell_type": "code",
   "execution_count": 43,
   "id": "enhanced-patent",
   "metadata": {},
   "outputs": [
    {
     "name": "stdout",
     "output_type": "stream",
     "text": [
      "[65.9792757  36.86602968 32.45028046]\n"
     ]
    }
   ],
   "source": [
    "Hkms_fit = tools.get_H_fit(z_arr_f, z_arr, Hkms_data, Hkms_cov)"
   ]
  },
  {
   "cell_type": "code",
   "execution_count": null,
   "id": "modified-cause",
   "metadata": {},
   "outputs": [],
   "source": [
    "plt.plot(z_arr_f, Planck['Hkms_arr'], \"r-\", label='LCDM')\n",
    "plt.plot(z_arr_f, Hkms_fit, 'b-', label = 'Best fit')\n",
    "plt.errorbar(z_arr, Hkms_data, yerr = sig_Hkms_arr, fmt='ko', label='data')\n",
    "plt.axvline(x=1.6)\n",
    "\n",
    "# axis labels and title\n",
    "plt.xlabel(\"z\")\n",
    "plt.title(\"H\")\n",
    "plt.legend();"
   ]
  },
  {
   "cell_type": "code",
   "execution_count": null,
   "id": "amazing-sheriff",
   "metadata": {},
   "outputs": [],
   "source": [
    "plt.plot(z_arr_f, Planck['dA_arr'], \"r-\", label='LCDM')\n",
    "plt.plot(z_arr_f, tools.make_dM(Hkms_fit*1000/c, z_arr_f)/(1+z_arr_f), 'b-', label = 'Best fit')\n",
    "plt.errorbar(z_arr, dA_data, yerr = sig_dA_arr, fmt='ko', label='data')\n",
    "plt.axvline(x=1.6)\n",
    "\n",
    "# axis labels and title\n",
    "plt.xlabel(\"z\")\n",
    "plt.title(\"H\")\n",
    "plt.legend();"
   ]
  },
  {
   "cell_type": "code",
   "execution_count": null,
   "id": "hourly-joseph",
   "metadata": {},
   "outputs": [],
   "source": [
    "fsdfsdfs"
   ]
  },
  {
   "cell_type": "markdown",
   "id": "developmental-mineral",
   "metadata": {},
   "source": [
    "# Set up GP\n",
    "\n",
    "The key point of Pymc3 is that the GP is treated pseudo-numerically. what I mean by this is that when Pymc3 initializes the Gaussian process it creates an array of realizations of the GP over a given array of redshifts. The problem is that the GP is not really an array but a tensor and the entries are not numbers but symbolic variables that stand for the potential values of the GP realizations during the sampling process.  \n",
    "\n",
    "Thus when performing operations we want to create a symbolic graph for the role of each realization of the GP in the numerical algorithm we employ to transform the GP. "
   ]
  },
  {
   "cell_type": "code",
   "execution_count": null,
   "id": "synthetic-landing",
   "metadata": {},
   "outputs": [],
   "source": [
    "n_tune = 100\n",
    "n_samples = 100"
   ]
  },
  {
   "cell_type": "code",
   "execution_count": null,
   "id": "apparent-wisconsin",
   "metadata": {},
   "outputs": [],
   "source": [
    "with pm.Model() as model:\n",
    "    #Define parameters\n",
    "    ℓ = pm.InverseGamma(\"ℓ\", alpha=2, beta=1) \n",
    "    η = pm.HalfNormal(\"η\", sigma=8) \n",
    "    gp_cov = η ** 2 * pm.gp.cov.Matern52(1, ℓ) + pm.gp.cov.WhiteNoise(1e-3)\n",
    "    gp = pm.gp.Latent(cov_func=gp_cov)\n",
    "    \n",
    "    #Set up Gaussian process\n",
    "    gp_f = gp.prior(\"gp_f\", X=z_train_f[:, None]) \n",
    "    WLHkms2_gp_f = pm.Deterministic(\"WLHkms2_gp_f\", tt.as_tensor_variable(WLHkms2*(1+gp_f/100))) \n",
    "    WmHkms2 = pm.Normal(\"WmHkms2\", mu=1440.969, sigma=144)\n",
    "    Hkms_gp_f = pm.Deterministic(\"Hkms_gp_f\", tt.sqrt(WmHkms2*(1+z_arr_f)**3+WLHkms2_gp_f))\n",
    "    H_gp_f = pm.Deterministic(\"H_gp_f\", tt.as_tensor_variable(Hkms_gp_f*1000/c))\n",
    "    H0_gp = pm.Deterministic(\"H0_gp\", tt.as_tensor_variable(H_gp_f[0])) \n",
    "    \n",
    "    #Numerical integration scheme\n",
    "    dH_gp_f = pm.Deterministic(\"dH_gp_f\", tt.as_tensor_variable(1/H_gp_f))\n",
    "    dA_gp_f = tt.zeros(len(z_train_f))\n",
    "    dA_gp_f = tt.inc_subtensor(dA_gp_f[1:],\n",
    "              tt.as_tensor_variable(dz_f*tt.cumsum(dH_gp_f)[:-1]/(1+z_train_f)[1:]))\n",
    "    dA_gp_f = pm.Deterministic('dA_gp_f', dA_gp_f)\n",
    "\n",
    "    #Second order differentiation scheme\n",
    "    Wm = pm.Deterministic(\"Wm\", (WmHkms2/Hkms_gp_f**2)*(1+z_train_f)**3)\n",
    "    comf_H = pm.Deterministic(\"comf_H\", a_train_f*H_gp_f)\n",
    "    diff_comf_H = tt.zeros(len(z_train_f))\n",
    "    diff_comf_H = tt.inc_subtensor(diff_comf_H[0], (comf_H[1]-comf_H[0])/(x_train_f[1]-x_train_f[0]))\n",
    "    diff_comf_H = tt.inc_subtensor(diff_comf_H[1:-1], (comf_H[2:]-comf_H[:-2])/(x_train_f[2:]-x_train_f[:-2]))\n",
    "    diff_comf_H = tt.inc_subtensor(diff_comf_H[-1], (comf_H[-1]-comf_H[-2])/(x_train_f[-1]-x_train_f[-2]))\n",
    "    diff_comf_H  = pm.Deterministic(\"diff_comf_H\", diff_comf_H)\n",
    "    q = 1+(diff_comf_H/comf_H)\n",
    "    \n",
    "    #Implement second Order Runge-Kutta method\n",
    "    Df = pm.Normal(\"Df\", mu=0.057, sigma=0.00015) \n",
    "    f0 = pm.Deterministic('f0', 1-Df) \n",
    "    f_gp_f = tt.zeros(len(z_train_f))\n",
    "    f_gp_f = tt.inc_subtensor(f_gp_f[-1], f0)\n",
    "    for i in np.arange(1, len(z_train_f)):\n",
    "        k0 = (-1/(1+z_train_f[-i]))*((3/2)*Wm[-i]-f_gp_f[-i]**2-q[-i]*f_gp_f[-i])\n",
    "        f1 = f_gp_f[-i]-dz_f*k0\n",
    "        k1 = (-1/(1+z_train_f[-(i+1)]))*((3/2)*Wm[-(i+1)]-f1**2-q[-(i+1)]*f1)\n",
    "        f_gp_f = tt.inc_subtensor(f_gp_f[-(i+1)], f_gp_f[-i]-dz_f*(k1+k0)/2)\n",
    "    f_gp_f = pm.Deterministic(\"f_gp_f\", f_gp_f) \n",
    "    \n",
    "    #integrate for s8 method2\n",
    "    s80 = pm.Normal(\"s80\", mu=0.811, sigma=0.01)\n",
    "    s8_gp_f = tt.zeros(len(z_train_f))\n",
    "    s8_gp_f = tt.inc_subtensor(s8_gp_f[0], s80)\n",
    "    for i in np.arange(1, len(z_train_f)):\n",
    "        k0 = -1*(f_gp_f[i-1]*s8_gp_f[i-1])/(1+z_train_f[i-1])\n",
    "        s8_gp_f = tt.inc_subtensor(s8_gp_f[i], s8_gp_f[i-1] + dz_f*(k0))\n",
    "    s8_gp_f = pm.Deterministic(\"s8_gp_f\", s8_gp_f) \n",
    "    \n",
    "    fs8_gp_f = f_gp_f*s8_gp_f\n",
    "    fs8_gp_f = pm.Deterministic(\"fs8_gp_f\", fs8_gp_f) \n",
    "    \n",
    "    #Evaluate arrays at data points\n",
    "    idx = np.array([int(x) for x in z_train/dz_f])\n",
    "    H_gp = pm.Deterministic('H_gp', tt.as_tensor_variable(H_gp_f[idx]))\n",
    "    dA_gp = pm.Deterministic('dA_gp', tt.as_tensor_variable(dA_gp_f[idx]))\n",
    "    fs8_gp = pm.Deterministic('fs8_gp', tt.as_tensor_variable(fs8_gp_f[idx]))\n",
    "\n",
    "    #Set up Gaussian likelihoods\n",
    "    lkl = pm.MvNormal(\"H_obs\", mu=H_gp, cov=H_cov, observed=H_train)\n",
    "    lkl *= pm.MvNormal(\"dA_obs\", mu=dA_gp, cov=dA_cov, observed=dA_train)\n",
    "    lkl *= pm.MvNormal(\"fs8_obs\", mu=fs8_gp, cov=fs_cov, observed=fs_train)\n",
    "\n",
    "    trace = pm.sample(n_samples, return_inferencedata=True, tune=n_tune)"
   ]
  },
  {
   "cell_type": "code",
   "execution_count": null,
   "id": "attractive-semester",
   "metadata": {},
   "outputs": [],
   "source": [
    "fig = pm.traceplot(trace)"
   ]
  },
  {
   "cell_type": "code",
   "execution_count": null,
   "id": "muslim-basket",
   "metadata": {},
   "outputs": [],
   "source": [
    "R_stat =pm.summary(trace)['r_hat'][[\"ℓ\",\"η\",\"Wm0\", \"H0_gp\", \"s80\", 'Df']]\n",
    "print(R_stat)"
   ]
  },
  {
   "cell_type": "code",
   "execution_count": null,
   "id": "vertical-parade",
   "metadata": {},
   "outputs": [],
   "source": [
    "# plot the results\n",
    "fig = plt.figure(figsize=(12, 5))\n",
    "ax = fig.gca()\n",
    "\n",
    "# plot the samples from the gp posterior with samples and shading\n",
    "from pymc3.gp.util import plot_gp_dist\n",
    "\n",
    "plot_gp_dist(ax, trace.posterior[\"H_gp_f\"][0, :, :], z_train_f[:, None])\n",
    "plt.plot(z_arr_f, Planck['Hkms_arr']*1000/c, \"b-\", label='LCDM')\n",
    "\n",
    "# plot the data and the true latent function\n",
    "plt.axvline(x=1.6)\n",
    "ax.errorbar(z_arr[:, None], H_data, yerr=sig_H_arr, fmt=\"ok\", ms=3, label=\"Data\")\n",
    "\n",
    "# axis labels and title\n",
    "plt.xlabel(\"z\")\n",
    "plt.ylabel(\"H(z)\")\n",
    "plt.title(\"H(z)\")\n",
    "plt.legend();"
   ]
  },
  {
   "cell_type": "code",
   "execution_count": null,
   "id": "broad-syria",
   "metadata": {},
   "outputs": [],
   "source": [
    "# plot the results\n",
    "fig = plt.figure(figsize=(12, 5))\n",
    "ax = fig.gca()\n",
    "\n",
    "# plot the samples from the gp posterior with samples and shading\n",
    "from pymc3.gp.util import plot_gp_dist\n",
    "\n",
    "plot_gp_dist(ax, trace.posterior[\"dA_gp_f\"][0, :, :], z_train_f[:, None])\n",
    "plt.plot(z_arr_f, Planck['dA_arr'], \"b-\", label='LCDM')\n",
    "\n",
    "# plot the data and the true latent function\n",
    "plt.axvline(x=1.6)\n",
    "ax.errorbar(z_arr[:, None], dA_data, yerr=sig_Hkms_arr, fmt=\"ok\", ms=3, label=\"Data\")\n",
    "\n",
    "# axis labels and title\n",
    "plt.xlabel(\"z\")\n",
    "plt.ylabel(\"dA(z)\")\n",
    "plt.title(\"dA(z)\")\n",
    "plt.legend();"
   ]
  },
  {
   "cell_type": "code",
   "execution_count": null,
   "id": "exclusive-miami",
   "metadata": {},
   "outputs": [],
   "source": [
    "# plot the results\n",
    "fig = plt.figure(figsize=(12, 5))\n",
    "ax = fig.gca()\n",
    "\n",
    "# plot the samples from the gp posterior with samples and shading\n",
    "from pymc3.gp.util import plot_gp_dist\n",
    "\n",
    "plot_gp_dist(ax, trace.posterior[\"fs8_gp_f\"][0, :, :], z_train_f[:, None])\n",
    "plt.plot(z_arr_f, Planck['f_arr']*Planck['s8_arr'], \"b-\", label='LCDM')\n",
    "\n",
    "# plot the data and the true latent function\n",
    "plt.axvline(x=1.6)\n",
    "ax.errorbar(z_arr[:, None], fs_data, yerr=sig_fs_arr, fmt=\"ok\", ms=3, label=\"Data\")\n",
    "\n",
    "# axis labels and title\n",
    "plt.xlabel(\"z\")\n",
    "plt.ylabel(\"fs8(z)\")\n",
    "plt.title(\"fs8(z)\")\n",
    "plt.legend();"
   ]
  },
  {
   "cell_type": "code",
   "execution_count": null,
   "id": "drawn-blind",
   "metadata": {},
   "outputs": [],
   "source": [
    "# plot the results\n",
    "fig = plt.figure(figsize=(12, 5))\n",
    "ax = fig.gca()\n",
    "\n",
    "# plot the samples from the gp posterior with samples and shading\n",
    "from pymc3.gp.util import plot_gp_dist\n",
    "\n",
    "plot_gp_dist(ax, (trace.posterior[\"s8_gp_f\"])[0, :, :], z_train_f[:, None])\n",
    "\n",
    "# plot the data and the true latent function\n",
    "ax.plot(z_arr_f[:, None], Planck['s8_arr'], \"b-\", label=r'$LCDM$')\n",
    "\n",
    "# axis labels and title\n",
    "plt.xlabel(\"z\")\n",
    "plt.ylabel(\"sigma8(z)\")\n",
    "plt.title(\"sigma8(z)\")\n",
    "plt.legend();"
   ]
  },
  {
   "cell_type": "code",
   "execution_count": null,
   "id": "undefined-review",
   "metadata": {},
   "outputs": [],
   "source": [
    "# plot the results\n",
    "fig = plt.figure(figsize=(12, 5))\n",
    "ax = fig.gca()\n",
    "\n",
    "# plot the samples from the gp posterior with samples and shading\n",
    "from pymc3.gp.util import plot_gp_dist\n",
    "\n",
    "plot_gp_dist(ax, (trace.posterior[\"f_gp_f\"])[0, :, :], z_train_f[:, None])\n",
    "\n",
    "# plot the data and the true latent function\n",
    "ax.plot(z_arr_f[:, None], Planck['f_arr'], \"b-\", label=r'$LCDM$')\n",
    "\n",
    "# axis labels and title\n",
    "plt.xlabel(\"z\")\n",
    "plt.ylabel(\"f(z)\")\n",
    "plt.title(\"f(z)\")\n",
    "plt.legend();"
   ]
  },
  {
   "cell_type": "code",
   "execution_count": null,
   "id": "engaging-visibility",
   "metadata": {},
   "outputs": [],
   "source": [
    "#z_new\n",
    "# add the GP conditional to the model, given the new X values\n",
    "z_new = np.arange(0., 3+0.1, 0.01)[:, None]\n",
    "with model:\n",
    "    DHkms_pred = gp.conditional(\"DHkms_pred\", z_new)\n",
    "\n",
    "# Sample from the GP conditional distribution\n",
    "with model:\n",
    "    pred_samples = pm.sample_posterior_predictive(trace.posterior, samples=1000, var_names=[\"DHkms_pred\"])"
   ]
  },
  {
   "cell_type": "code",
   "execution_count": null,
   "id": "sixth-taiwan",
   "metadata": {},
   "outputs": [],
   "source": [
    "Hkms_new = np.array([])\n",
    "for z in z_new: \n",
    "            #We can worry about the rs_drag later\n",
    "            Hkms = classy.Hubble(z)*utils.c/1000\n",
    "            Hkms_new = np.append(Hkms_new, Hkms)"
   ]
  },
  {
   "cell_type": "code",
   "execution_count": null,
   "id": "lyric-landing",
   "metadata": {},
   "outputs": [],
   "source": [
    "# plot the results\n",
    "fig = plt.figure()\n",
    "ax = fig.gca()\n",
    "\n",
    "# plot the samples from the gp posterior with samples and shading\n",
    "from pymc3.gp.util import plot_gp_dist\n",
    "\n",
    "plot_gp_dist(ax, pred_samples[\"DHkms_pred\"]+Hkms_new, z_new)\n",
    "# plot the data and the true latent function\n",
    "plt.plot(z_new, Hkms_new, \"dodgerblue\", lw=2, label=\"LCDM\")\n",
    "ax.errorbar(z_arr[:, None], Hkms_data , yerr=sig_Hkms_arr, fmt=\"ok\", ms=3, label=\"Data\")\n",
    "\n",
    "# axis labels and title\n",
    "plt.xlabel(\"z\")\n",
    "plt.ylabel(r'$Hkms$')\n",
    "#plt.ylim([-1.3, 4])\n",
    "#plt.xlim([0, 3])\n",
    "plt.legend();"
   ]
  },
  {
   "cell_type": "markdown",
   "id": "identical-participation",
   "metadata": {},
   "source": [
    "# Validation"
   ]
  },
  {
   "cell_type": "code",
   "execution_count": null,
   "id": "charged-denver",
   "metadata": {},
   "outputs": [],
   "source": [
    "z_test = z_arr[z_arr>z_cut]\n",
    "z_test_f = z_arr_f[z_arr_f>z_cut]\n",
    "a_test_f = 1/(1+z_test_f) \n",
    "x_test_f = np.log(a_test_f)\n",
    "Hkms_test = Hkms_data[z_arr>z_cut]\n",
    "H_test = H_data[z_arr>z_cut]\n",
    "dA_test = dA_data[z_arr>z_cut]\n",
    "fs_test = fs_data[z_arr>z_cut]\n",
    "background = Hkms_arr_f[z_arr_f>z_cut]"
   ]
  },
  {
   "cell_type": "code",
   "execution_count": null,
   "id": "standing-netscape",
   "metadata": {},
   "outputs": [],
   "source": [
    "def get_m_s(rows):\n",
    "    cols = np.transpose(rows)\n",
    "    means = np.array([])\n",
    "    sigmas = np.array([])\n",
    "    for col in cols:\n",
    "        mean = np.mean(col)\n",
    "        sigma = np.std(col)\n",
    "        means = np.append(means, mean)\n",
    "        sigmas = np.append(sigmas, sigma)\n",
    "    return means, sigmas"
   ]
  },
  {
   "cell_type": "code",
   "execution_count": null,
   "id": "supreme-trauma",
   "metadata": {},
   "outputs": [],
   "source": [
    "prediction = (pred_samples[\"DHkms_pred\"]+Hkms_new)[idx]\n",
    "pred_m, pred_s = get_m_s(prediction)"
   ]
  },
  {
   "cell_type": "code",
   "execution_count": null,
   "id": "changing-inquiry",
   "metadata": {},
   "outputs": [],
   "source": [
    "idx = np.array([int(x) for x in z_test/dz_f])\n",
    "pred_data = pred_m[idx]\n",
    "pred_err = sig_Hkms_arr[z_arr>1.6]"
   ]
  },
  {
   "cell_type": "code",
   "execution_count": null,
   "id": "korean-session",
   "metadata": {},
   "outputs": [],
   "source": [
    "residuals = (Hkms_test-pred_data)/pred_err"
   ]
  },
  {
   "cell_type": "code",
   "execution_count": null,
   "id": "parallel-spotlight",
   "metadata": {},
   "outputs": [],
   "source": [
    "plt.plot(z_test_f, np.zeros_like(z_test_f), 'b--')\n",
    "plt.plot(z_test, residuals, 'ro', label='residuals')\n",
    "plt.fill_between(z_test_f, np.ones_like(z_test_f), -np.ones_like(z_test_f), color='b', alpha=.3)\n",
    "plt.fill_between(z_test_f, 2*np.ones_like(z_test_f), -2*np.ones_like(z_test_f), color='b', alpha=.3)\n",
    "plt.xlabel(\"z\")\n",
    "plt.legend();"
   ]
  },
  {
   "cell_type": "code",
   "execution_count": null,
   "id": "acceptable-massachusetts",
   "metadata": {},
   "outputs": [],
   "source": [
    "xi2 = np.sqrt(np.dot((Hkms_test-pred_data)/pred_err, (Hkms_test-pred_data)/pred_err))/3"
   ]
  },
  {
   "cell_type": "code",
   "execution_count": null,
   "id": "earned-aquarium",
   "metadata": {},
   "outputs": [],
   "source": [
    "xi2"
   ]
  },
  {
   "cell_type": "code",
   "execution_count": null,
   "id": "corrected-nurse",
   "metadata": {},
   "outputs": [],
   "source": [
    "path = 'DESIfs8_Lambda_{}_{}'.format(n_samples, n_tune)\n",
    "\n",
    "DH_pred = pred_samples['DHkms_pred']\n",
    "Hz =np.array(trace.posterior[\"H_gp_f\"])\n",
    "Hz = Hz.reshape(-1, Hz.shape[-1])\n",
    "dAz = np.array(trace.posterior[\"dA_gp_f\"])\n",
    "dAz = dAz.reshape(-1, dAz.shape[-1])\n",
    "fz = np.array(trace.posterior[\"f_gp_f\"])\n",
    "fz= fz.reshape(-1, fz.shape[-1])\n",
    "sigma8z = np.array(trace.posterior[\"s8_gp_f\"])\n",
    "sigma8z = sigma8z.reshape(-1, sigma8z.shape[-1])\n",
    "fs8z = np.array(trace.posterior[\"fs8_gp_f\"])\n",
    "fs8z = fs8z.reshape(-1, fs8z.shape[-1])\n",
    "n = np.array(trace.posterior[\"η\"]).flatten()\n",
    "l = np.array(trace.posterior[\"ℓ\"]).flatten()\n",
    "Df = np.array(trace.posterior[\"Df\"]).flatten()\n",
    "H0 = np.array(trace.posterior[\"H0_gp\"]).flatten()\n",
    "Omega_m = np.array(trace.posterior[\"Wm0\"]).flatten()\n",
    "sigma8 = np.array(trace.posterior[\"s80\"]).flatten()\n",
    "\n",
    "os.mkdir(path)\n",
    "np.savez(os.path.join(path,'samples.npz'), \n",
    "         DH_pred = DH_pred,\n",
    "         z_new = z_new,\n",
    "         Hz=Hz,\n",
    "         dAz=dAz,\n",
    "         fz=fz,\n",
    "         sigma8z=sigma8z,\n",
    "         fs8z=fs8z,\n",
    "         n=n,\n",
    "         l=l,\n",
    "         Df=Df,\n",
    "         H0=H0,\n",
    "         Omega_m=Omega_m,\n",
    "         sigma8=sigma8)"
   ]
  }
 ],
 "metadata": {
  "kernelspec": {
   "display_name": "Python 3",
   "language": "python",
   "name": "python3"
  },
  "language_info": {
   "codemirror_mode": {
    "name": "ipython",
    "version": 3
   },
   "file_extension": ".py",
   "mimetype": "text/x-python",
   "name": "python",
   "nbconvert_exporter": "python",
   "pygments_lexer": "ipython3",
   "version": "3.8.5"
  }
 },
 "nbformat": 4,
 "nbformat_minor": 5
}

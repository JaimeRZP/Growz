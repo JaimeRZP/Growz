{
 "cells": [
  {
   "cell_type": "code",
   "execution_count": 1,
   "id": "unusual-chester",
   "metadata": {},
   "outputs": [
    {
     "name": "stderr",
     "output_type": "stream",
     "text": [
      "WARNING (theano.tensor.blas): Using NumPy C-API based implementation for BLAS functions.\n"
     ]
    }
   ],
   "source": [
    "%matplotlib inline\n",
    "import arviz as az\n",
    "import matplotlib.pyplot as plt\n",
    "import numpy as np\n",
    "import pymc3 as pm\n",
    "import theano\n",
    "\n",
    "from pymc3.ode import DifferentialEquation\n",
    "from scipy.integrate import odeint\n",
    "\n",
    "plt.style.use(\"seaborn-darkgrid\")"
   ]
  },
  {
   "cell_type": "markdown",
   "id": "mexican-adoption",
   "metadata": {},
   "source": [
    "# Method 1 "
   ]
  },
  {
   "cell_type": "code",
   "execution_count": null,
   "id": "partial-driver",
   "metadata": {},
   "outputs": [],
   "source": [
    "from scipy.integrate import odeint\n",
    "from scipy.interpolate import interp1d\n",
    "\n",
    "def wrap(f, z, Wm, q, Xi):\n",
    "    dfdz = (-1/(1+z))*((3/2)*Xi(z)*Wm(z) - f**2 - q(z)*f)\n",
    "    return dfdz\n",
    "\n",
    "def make_f(H):  \n",
    "    #Make Wm\n",
    "    Wm0 = 0.315\n",
    "    Wm =  Wm0*(H0/H)**2*(1+z_arr_f)**3\n",
    "    #Make q\n",
    "    comf_H = a_arr_f*H\n",
    "    diff_comf_H = np.gradient(comf_H)/np.gradient(x_arr_f)\n",
    "    q = 1 + diff_comf_H/comf_H\n",
    "    \n",
    "    Wm_inter = interp1d(z_arr_f, Wm, kind='cubic', bounds_error=False, fill_value='extrapolate')\n",
    "    q_inter = interp1d(z_arr_f, q, kind='cubic', bounds_error=False, fill_value='extrapolate')\n",
    "    Xi_inter = interp1d(z_arr_f, Xi, kind='cubic', bounds_error=False, fill_value='extrapolate')\n",
    "\n",
    "    f = odeint(wrap, fz0, z_arr_f[::-1], args=(Wm_inter, q_inter, Xi_inter))\n",
    "        \n",
    "    return np.array(f.flatten()[::-1])"
   ]
  },
  {
   "cell_type": "markdown",
   "id": "brilliant-nevada",
   "metadata": {},
   "source": [
    "# Method 2"
   ]
  },
  {
   "cell_type": "code",
   "execution_count": null,
   "id": "miniature-toddler",
   "metadata": {},
   "outputs": [],
   "source": [
    "f0 = 0.527625821541644\n",
    "f_f = tt.zeros(len(z_arr_f))\n",
    "#Simple Newton forward for now\n",
    "f_f = tt.inc_subtensor(f_f[0], f0)\n",
    "for i in np.arange(1, len(z_arr_f)):\n",
    "    f_f = tt.inc_subtensor(f_f[i], f_f[i-1]+dz_f*(-1/(1+z_arr_f[i]))*((3/2)*XiWm[i]-f_f[i-1]**2-q[i]*f_f[i-1]))\n",
    "f_f = pm.Deterministic(\"f_f\", f_f)"
   ]
  }
 ],
 "metadata": {
  "kernelspec": {
   "display_name": "Python 3",
   "language": "python",
   "name": "python3"
  },
  "language_info": {
   "codemirror_mode": {
    "name": "ipython",
    "version": 3
   },
   "file_extension": ".py",
   "mimetype": "text/x-python",
   "name": "python",
   "nbconvert_exporter": "python",
   "pygments_lexer": "ipython3",
   "version": "3.8.5"
  }
 },
 "nbformat": 4,
 "nbformat_minor": 5
}
